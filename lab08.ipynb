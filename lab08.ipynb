{
  "cells": [
    {
      "cell_type": "markdown",
      "id": "0df50c3a",
      "metadata": {
        "id": "0df50c3a"
      },
      "source": [
        "# CSC413 Lab 8: Text Generation with Transformers\n",
        "\n",
        "In this lab, we will build a generative transformer to generate\n",
        "new lines that emulates the TV show [Friends](https://www.imdb.com/title/tt0108778/).\n",
        "In order to do so, we will leverage\n",
        "Andrej Karpathy's implementation of GPT2 called the\n",
        "[nanoGPT](https://github.com/karpathy/nanoGPT).\n",
        "This particular implementation uses a small number of components and\n",
        "focuses on the essential ideas behind the GPT2 model.\n",
        "\n",
        "Instead of training a GPT model from scratch, we will *fine-tune*\n",
        "a pre-trained model. This reduces training time necessary to achieve\n",
        "a reasonable measure of performance.\n",
        "\n",
        "By the end of this lab, you will be able to:\n",
        "\n",
        "- Fine-tune a transformer model on a new data set.\n",
        "- Trace the execution of a transformer model to explain its inner working.\n",
        "- Compare the batching approach used here and in the pervious lab.\n",
        "- Explain the ethical issues involved in applying large language models.\n",
        "\n",
        "Acknowledgements:\n",
        "\n",
        "- The nanoGPT implementation is from https://github.com/karpathy/nanoGPT\n",
        "- Data is from https://convokit.cornell.edu/documentation/friends.html\n",
        "- The Byte Pair Encoding tokenizer is from https://github.com/openai/tiktoken\n",
        "- GPT2 Model was introduced in the paper [Language Models are Unsupervised Multitask Learners](https://insightcivic.s3.us-east-1.amazonaws.com/language-models.pdf)\n",
        "\n",
        "Please work in groups of 1-2 during the lab.\n",
        "\n",
        "## Submission\n",
        "\n",
        "If you are working with a partner, start by creating a group on Markus.\n",
        "If you are working alone, click \"Working Alone\".\n",
        "\n",
        "Submit the ipynb file `lab08.pdf` on Markus\n",
        "**containing all your solutions to the Graded Task**s.\n",
        "Your notebook file must contain your code **and outputs** where applicable,\n",
        "including printed lines and images.\n",
        "Your TA will not run your code for the purpose of grading.\n",
        "\n",
        "For this lab, you should submit the following:\n",
        "\n",
        "- Part 1. Your code to generate the list `uts`. (1 point)\n",
        "- Part 1. Your explanation for why the tokenization method needs to be consistent. (1 point)\n",
        "- Part 1. Your explanation of why the target tensor is an \"offset\" of the input tensor. (1 point)\n",
        "- Part 2. Your implementation of the `generate` function (4 points) and 1 points for a sensible test of your design. (5 points)\n",
        "- Part 2. Your explanation of the relationship between `lm_head` and `wte`. (1 point)\n",
        "- Part 2. Your result for the shape of `x` in the `GPT.forward()` method. (1 point)\n",
        "- Part 2. Your implementation of the missing attention code. (4 points)\n",
        "- Part 2. Your computation of the shape of `(q @ k.transpose(-2, -1))` in the causal self attention module (1 point)\n",
        "- Part 2. Your explantion of why masking makes sense intuitively for causal self attention. (1 point)\n",
        "- Part 2. Your computation of the number of parameters in a GPT2 model. (3 points)\n",
        "\n",
        "## Part 1. Data\n",
        "\n",
        "The \"Friends Corpus\" can be downloaded through the ConvKit package on\n",
        "Python. You can read more about the data\n",
        "[here](https://convokit.cornell.edu/documentation/friends.html).\n",
        "\n",
        "Let's install this package, and explore the data set."
      ]
    },
    {
      "cell_type": "code",
      "source": [
        "%%shell\n",
        "jupyter nbconvert --to html /content/lab08.ipynb"
      ],
      "metadata": {
        "colab": {
          "base_uri": "https://localhost:8080/",
          "height": 1000
        },
        "id": "POsC8MbYTgA2",
        "outputId": "70053ebb-ec70-4e8d-9023-f539675e114e"
      },
      "id": "POsC8MbYTgA2",
      "execution_count": 110,
      "outputs": [
        {
          "output_type": "stream",
          "name": "stdout",
          "text": [
            "[NbConvertApp] Converting notebook /content/lab08.ipynb to html\n",
            "Traceback (most recent call last):\n",
            "  File \"/usr/local/bin/jupyter-nbconvert\", line 8, in <module>\n",
            "    sys.exit(main())\n",
            "  File \"/usr/local/lib/python3.10/dist-packages/jupyter_core/application.py\", line 283, in launch_instance\n",
            "    super().launch_instance(argv=argv, **kwargs)\n",
            "  File \"/usr/local/lib/python3.10/dist-packages/traitlets/config/application.py\", line 992, in launch_instance\n",
            "    app.start()\n",
            "  File \"/usr/local/lib/python3.10/dist-packages/nbconvert/nbconvertapp.py\", line 423, in start\n",
            "    self.convert_notebooks()\n",
            "  File \"/usr/local/lib/python3.10/dist-packages/nbconvert/nbconvertapp.py\", line 597, in convert_notebooks\n",
            "    self.convert_single_notebook(notebook_filename)\n",
            "  File \"/usr/local/lib/python3.10/dist-packages/nbconvert/nbconvertapp.py\", line 560, in convert_single_notebook\n",
            "    output, resources = self.export_single_notebook(\n",
            "  File \"/usr/local/lib/python3.10/dist-packages/nbconvert/nbconvertapp.py\", line 488, in export_single_notebook\n",
            "    output, resources = self.exporter.from_filename(\n",
            "  File \"/usr/local/lib/python3.10/dist-packages/nbconvert/exporters/exporter.py\", line 189, in from_filename\n",
            "    return self.from_file(f, resources=resources, **kw)\n",
            "  File \"/usr/local/lib/python3.10/dist-packages/nbconvert/exporters/exporter.py\", line 206, in from_file\n",
            "    return self.from_notebook_node(\n",
            "  File \"/usr/local/lib/python3.10/dist-packages/nbconvert/exporters/html.py\", line 223, in from_notebook_node\n",
            "    return super().from_notebook_node(nb, resources, **kw)\n",
            "  File \"/usr/local/lib/python3.10/dist-packages/nbconvert/exporters/templateexporter.py\", line 413, in from_notebook_node\n",
            "    output = self.template.render(nb=nb_copy, resources=resources)\n",
            "  File \"/usr/local/lib/python3.10/dist-packages/jinja2/environment.py\", line 1301, in render\n",
            "    self.environment.handle_exception()\n",
            "  File \"/usr/local/lib/python3.10/dist-packages/jinja2/environment.py\", line 936, in handle_exception\n",
            "    raise rewrite_traceback_stack(source=source)\n",
            "  File \"/usr/local/share/jupyter/nbconvert/templates/lab/index.html.j2\", line 3, in top-level template code\n",
            "    {% from 'jupyter_widgets.html.j2' import jupyter_widgets %}\n",
            "  File \"/usr/local/share/jupyter/nbconvert/templates/lab/base.html.j2\", line 2, in top-level template code\n",
            "    {% from 'celltags.j2' import celltags %}\n",
            "  File \"/usr/local/share/jupyter/nbconvert/templates/base/display_priority.j2\", line 1, in top-level template code\n",
            "    {%- extends 'base/null.j2' -%}\n",
            "  File \"/usr/local/share/jupyter/nbconvert/templates/base/null.j2\", line 26, in top-level template code\n",
            "    {%- block body -%}\n",
            "  File \"/usr/local/share/jupyter/nbconvert/templates/base/null.j2\", line 29, in block 'body'\n",
            "    {%- block body_loop -%}\n",
            "  File \"/usr/local/share/jupyter/nbconvert/templates/base/null.j2\", line 31, in block 'body_loop'\n",
            "    {%- block any_cell scoped -%}\n",
            "  File \"/usr/local/share/jupyter/nbconvert/templates/base/null.j2\", line 34, in block 'any_cell'\n",
            "    {%- block codecell scoped -%}\n",
            "  File \"/usr/local/share/jupyter/nbconvert/templates/lab/base.html.j2\", line 12, in block 'codecell'\n",
            "    {{ super() }}\n",
            "  File \"/usr/local/share/jupyter/nbconvert/templates/base/null.j2\", line 44, in block 'codecell'\n",
            "    {%- block output_group -%}\n",
            "  File \"/usr/local/share/jupyter/nbconvert/templates/lab/base.html.j2\", line 38, in block 'output_group'\n",
            "    {{ super() }}\n",
            "  File \"/usr/local/share/jupyter/nbconvert/templates/base/null.j2\", line 48, in block 'output_group'\n",
            "    {%- block outputs scoped -%}\n",
            "  File \"/usr/local/share/jupyter/nbconvert/templates/lab/base.html.j2\", line 44, in block 'outputs'\n",
            "    {{ super() }}\n",
            "  File \"/usr/local/share/jupyter/nbconvert/templates/base/null.j2\", line 50, in block 'outputs'\n",
            "    {%- block output scoped -%}\n",
            "  File \"/usr/local/share/jupyter/nbconvert/templates/lab/base.html.j2\", line 87, in block 'output'\n",
            "    {{ super() }}\n",
            "  File \"/usr/local/share/jupyter/nbconvert/templates/base/null.j2\", line 52, in block 'output'\n",
            "    {%- block execute_result scoped -%}{%- endblock execute_result -%}\n",
            "  File \"/usr/local/share/jupyter/nbconvert/templates/lab/base.html.j2\", line 125, in block 'execute_result'\n",
            "    {% block data_priority scoped %}\n",
            "  File \"/usr/local/share/jupyter/nbconvert/templates/lab/base.html.j2\", line 126, in block 'data_priority'\n",
            "    {{ super() }}\n",
            "  File \"/usr/local/share/jupyter/nbconvert/templates/base/display_priority.j2\", line 7, in block 'data_priority'\n",
            "    {%- for type in output.data | filter_data_type -%}\n",
            "  File \"/usr/local/lib/python3.10/dist-packages/nbconvert/filters/widgetsdatatypefilter.py\", line 57, in __call__\n",
            "    metadata[\"widgets\"][WIDGET_STATE_MIMETYPE][\"state\"]\n",
            "KeyError: 'state'\n"
          ]
        },
        {
          "output_type": "error",
          "ename": "CalledProcessError",
          "evalue": "Command 'jupyter nbconvert --to html /content/lab08.ipynb\n' returned non-zero exit status 1.",
          "traceback": [
            "\u001b[0;31m---------------------------------------------------------------------------\u001b[0m",
            "\u001b[0;31mCalledProcessError\u001b[0m                        Traceback (most recent call last)",
            "\u001b[0;32m<ipython-input-110-7290960dca61>\u001b[0m in \u001b[0;36m<cell line: 1>\u001b[0;34m()\u001b[0m\n\u001b[0;32m----> 1\u001b[0;31m \u001b[0mget_ipython\u001b[0m\u001b[0;34m(\u001b[0m\u001b[0;34m)\u001b[0m\u001b[0;34m.\u001b[0m\u001b[0mrun_cell_magic\u001b[0m\u001b[0;34m(\u001b[0m\u001b[0;34m'shell'\u001b[0m\u001b[0;34m,\u001b[0m \u001b[0;34m''\u001b[0m\u001b[0;34m,\u001b[0m \u001b[0;34m'jupyter nbconvert --to html /content/lab08.ipynb\\n'\u001b[0m\u001b[0;34m)\u001b[0m\u001b[0;34m\u001b[0m\u001b[0;34m\u001b[0m\u001b[0m\n\u001b[0m",
            "\u001b[0;32m/usr/local/lib/python3.10/dist-packages/google/colab/_shell.py\u001b[0m in \u001b[0;36mrun_cell_magic\u001b[0;34m(self, magic_name, line, cell)\u001b[0m\n\u001b[1;32m    332\u001b[0m     \u001b[0;32mif\u001b[0m \u001b[0mline\u001b[0m \u001b[0;32mand\u001b[0m \u001b[0;32mnot\u001b[0m \u001b[0mcell\u001b[0m\u001b[0;34m:\u001b[0m\u001b[0;34m\u001b[0m\u001b[0;34m\u001b[0m\u001b[0m\n\u001b[1;32m    333\u001b[0m       \u001b[0mcell\u001b[0m \u001b[0;34m=\u001b[0m \u001b[0;34m' '\u001b[0m\u001b[0;34m\u001b[0m\u001b[0;34m\u001b[0m\u001b[0m\n\u001b[0;32m--> 334\u001b[0;31m     \u001b[0;32mreturn\u001b[0m \u001b[0msuper\u001b[0m\u001b[0;34m(\u001b[0m\u001b[0;34m)\u001b[0m\u001b[0;34m.\u001b[0m\u001b[0mrun_cell_magic\u001b[0m\u001b[0;34m(\u001b[0m\u001b[0mmagic_name\u001b[0m\u001b[0;34m,\u001b[0m \u001b[0mline\u001b[0m\u001b[0;34m,\u001b[0m \u001b[0mcell\u001b[0m\u001b[0;34m)\u001b[0m\u001b[0;34m\u001b[0m\u001b[0;34m\u001b[0m\u001b[0m\n\u001b[0m\u001b[1;32m    335\u001b[0m \u001b[0;34m\u001b[0m\u001b[0m\n\u001b[1;32m    336\u001b[0m \u001b[0;34m\u001b[0m\u001b[0m\n",
            "\u001b[0;32m/usr/local/lib/python3.10/dist-packages/IPython/core/interactiveshell.py\u001b[0m in \u001b[0;36mrun_cell_magic\u001b[0;34m(self, magic_name, line, cell)\u001b[0m\n\u001b[1;32m   2471\u001b[0m             \u001b[0;32mwith\u001b[0m \u001b[0mself\u001b[0m\u001b[0;34m.\u001b[0m\u001b[0mbuiltin_trap\u001b[0m\u001b[0;34m:\u001b[0m\u001b[0;34m\u001b[0m\u001b[0;34m\u001b[0m\u001b[0m\n\u001b[1;32m   2472\u001b[0m                 \u001b[0margs\u001b[0m \u001b[0;34m=\u001b[0m \u001b[0;34m(\u001b[0m\u001b[0mmagic_arg_s\u001b[0m\u001b[0;34m,\u001b[0m \u001b[0mcell\u001b[0m\u001b[0;34m)\u001b[0m\u001b[0;34m\u001b[0m\u001b[0;34m\u001b[0m\u001b[0m\n\u001b[0;32m-> 2473\u001b[0;31m                 \u001b[0mresult\u001b[0m \u001b[0;34m=\u001b[0m \u001b[0mfn\u001b[0m\u001b[0;34m(\u001b[0m\u001b[0;34m*\u001b[0m\u001b[0margs\u001b[0m\u001b[0;34m,\u001b[0m \u001b[0;34m**\u001b[0m\u001b[0mkwargs\u001b[0m\u001b[0;34m)\u001b[0m\u001b[0;34m\u001b[0m\u001b[0;34m\u001b[0m\u001b[0m\n\u001b[0m\u001b[1;32m   2474\u001b[0m             \u001b[0;32mreturn\u001b[0m \u001b[0mresult\u001b[0m\u001b[0;34m\u001b[0m\u001b[0;34m\u001b[0m\u001b[0m\n\u001b[1;32m   2475\u001b[0m \u001b[0;34m\u001b[0m\u001b[0m\n",
            "\u001b[0;32m/usr/local/lib/python3.10/dist-packages/google/colab/_system_commands.py\u001b[0m in \u001b[0;36m_shell_cell_magic\u001b[0;34m(args, cmd)\u001b[0m\n\u001b[1;32m    110\u001b[0m   \u001b[0mresult\u001b[0m \u001b[0;34m=\u001b[0m \u001b[0m_run_command\u001b[0m\u001b[0;34m(\u001b[0m\u001b[0mcmd\u001b[0m\u001b[0;34m,\u001b[0m \u001b[0mclear_streamed_output\u001b[0m\u001b[0;34m=\u001b[0m\u001b[0;32mFalse\u001b[0m\u001b[0;34m)\u001b[0m\u001b[0;34m\u001b[0m\u001b[0;34m\u001b[0m\u001b[0m\n\u001b[1;32m    111\u001b[0m   \u001b[0;32mif\u001b[0m \u001b[0;32mnot\u001b[0m \u001b[0mparsed_args\u001b[0m\u001b[0;34m.\u001b[0m\u001b[0mignore_errors\u001b[0m\u001b[0;34m:\u001b[0m\u001b[0;34m\u001b[0m\u001b[0;34m\u001b[0m\u001b[0m\n\u001b[0;32m--> 112\u001b[0;31m     \u001b[0mresult\u001b[0m\u001b[0;34m.\u001b[0m\u001b[0mcheck_returncode\u001b[0m\u001b[0;34m(\u001b[0m\u001b[0;34m)\u001b[0m\u001b[0;34m\u001b[0m\u001b[0;34m\u001b[0m\u001b[0m\n\u001b[0m\u001b[1;32m    113\u001b[0m   \u001b[0;32mreturn\u001b[0m \u001b[0mresult\u001b[0m\u001b[0;34m\u001b[0m\u001b[0;34m\u001b[0m\u001b[0m\n\u001b[1;32m    114\u001b[0m \u001b[0;34m\u001b[0m\u001b[0m\n",
            "\u001b[0;32m/usr/local/lib/python3.10/dist-packages/google/colab/_system_commands.py\u001b[0m in \u001b[0;36mcheck_returncode\u001b[0;34m(self)\u001b[0m\n\u001b[1;32m    135\u001b[0m   \u001b[0;32mdef\u001b[0m \u001b[0mcheck_returncode\u001b[0m\u001b[0;34m(\u001b[0m\u001b[0mself\u001b[0m\u001b[0;34m)\u001b[0m\u001b[0;34m:\u001b[0m\u001b[0;34m\u001b[0m\u001b[0;34m\u001b[0m\u001b[0m\n\u001b[1;32m    136\u001b[0m     \u001b[0;32mif\u001b[0m \u001b[0mself\u001b[0m\u001b[0;34m.\u001b[0m\u001b[0mreturncode\u001b[0m\u001b[0;34m:\u001b[0m\u001b[0;34m\u001b[0m\u001b[0;34m\u001b[0m\u001b[0m\n\u001b[0;32m--> 137\u001b[0;31m       raise subprocess.CalledProcessError(\n\u001b[0m\u001b[1;32m    138\u001b[0m           \u001b[0mreturncode\u001b[0m\u001b[0;34m=\u001b[0m\u001b[0mself\u001b[0m\u001b[0;34m.\u001b[0m\u001b[0mreturncode\u001b[0m\u001b[0;34m,\u001b[0m \u001b[0mcmd\u001b[0m\u001b[0;34m=\u001b[0m\u001b[0mself\u001b[0m\u001b[0;34m.\u001b[0m\u001b[0margs\u001b[0m\u001b[0;34m,\u001b[0m \u001b[0moutput\u001b[0m\u001b[0;34m=\u001b[0m\u001b[0mself\u001b[0m\u001b[0;34m.\u001b[0m\u001b[0moutput\u001b[0m\u001b[0;34m\u001b[0m\u001b[0;34m\u001b[0m\u001b[0m\n\u001b[1;32m    139\u001b[0m       )\n",
            "\u001b[0;31mCalledProcessError\u001b[0m: Command 'jupyter nbconvert --to html /content/lab08.ipynb\n' returned non-zero exit status 1."
          ]
        }
      ]
    },
    {
      "cell_type": "code",
      "execution_count": 1,
      "id": "d07723d0",
      "metadata": {
        "colab": {
          "base_uri": "https://localhost:8080/"
        },
        "id": "d07723d0",
        "outputId": "c763a5b5-4b5d-4338-ffaa-bc095b5a6e33"
      },
      "outputs": [
        {
          "output_type": "stream",
          "name": "stdout",
          "text": [
            "Collecting convokit\n",
            "  Downloading convokit-3.0.0.tar.gz (183 kB)\n",
            "\u001b[2K     \u001b[90m━━━━━━━━━━━━━━━━━━━━━━━━━━━━━━━━━━━━━━━━\u001b[0m \u001b[32m183.2/183.2 kB\u001b[0m \u001b[31m1.5 MB/s\u001b[0m eta \u001b[36m0:00:00\u001b[0m\n",
            "\u001b[?25h  Installing build dependencies ... \u001b[?25l\u001b[?25hdone\n",
            "  Getting requirements to build wheel ... \u001b[?25l\u001b[?25hdone\n",
            "  Preparing metadata (pyproject.toml) ... \u001b[?25l\u001b[?25hdone\n",
            "Requirement already satisfied: matplotlib>=3.0.0 in /usr/local/lib/python3.10/dist-packages (from convokit) (3.7.1)\n",
            "Requirement already satisfied: pandas>=0.23.4 in /usr/local/lib/python3.10/dist-packages (from convokit) (2.0.3)\n",
            "Collecting msgpack-numpy>=0.4.3.2 (from convokit)\n",
            "  Downloading msgpack_numpy-0.4.8-py2.py3-none-any.whl (6.9 kB)\n",
            "Requirement already satisfied: spacy>=2.3.5 in /usr/local/lib/python3.10/dist-packages (from convokit) (3.7.4)\n",
            "Requirement already satisfied: scipy>=1.1.0 in /usr/local/lib/python3.10/dist-packages (from convokit) (1.11.4)\n",
            "Requirement already satisfied: scikit-learn>=0.20.0 in /usr/local/lib/python3.10/dist-packages (from convokit) (1.2.2)\n",
            "Requirement already satisfied: nltk>=3.4 in /usr/local/lib/python3.10/dist-packages (from convokit) (3.8.1)\n",
            "Collecting dill>=0.2.9 (from convokit)\n",
            "  Downloading dill-0.3.8-py3-none-any.whl (116 kB)\n",
            "\u001b[2K     \u001b[90m━━━━━━━━━━━━━━━━━━━━━━━━━━━━━━━━━━━━━━━━\u001b[0m \u001b[32m116.3/116.3 kB\u001b[0m \u001b[31m11.1 MB/s\u001b[0m eta \u001b[36m0:00:00\u001b[0m\n",
            "\u001b[?25hRequirement already satisfied: joblib>=0.13.2 in /usr/local/lib/python3.10/dist-packages (from convokit) (1.3.2)\n",
            "Collecting clean-text>=0.6.0 (from convokit)\n",
            "  Downloading clean_text-0.6.0-py3-none-any.whl (11 kB)\n",
            "Collecting unidecode>=1.1.1 (from convokit)\n",
            "  Downloading Unidecode-1.3.8-py3-none-any.whl (235 kB)\n",
            "\u001b[2K     \u001b[90m━━━━━━━━━━━━━━━━━━━━━━━━━━━━━━━━━━━━━━━━\u001b[0m \u001b[32m235.5/235.5 kB\u001b[0m \u001b[31m9.4 MB/s\u001b[0m eta \u001b[36m0:00:00\u001b[0m\n",
            "\u001b[?25hRequirement already satisfied: tqdm>=4.64.0 in /usr/local/lib/python3.10/dist-packages (from convokit) (4.66.2)\n",
            "Collecting pymongo>=4.0 (from convokit)\n",
            "  Downloading pymongo-4.6.3-cp310-cp310-manylinux_2_17_x86_64.manylinux2014_x86_64.whl (676 kB)\n",
            "\u001b[2K     \u001b[90m━━━━━━━━━━━━━━━━━━━━━━━━━━━━━━━━━━━━━━━━\u001b[0m \u001b[32m676.9/676.9 kB\u001b[0m \u001b[31m11.4 MB/s\u001b[0m eta \u001b[36m0:00:00\u001b[0m\n",
            "\u001b[?25hRequirement already satisfied: pyyaml>=5.4.1 in /usr/local/lib/python3.10/dist-packages (from convokit) (6.0.1)\n",
            "Collecting dnspython>=1.16.0 (from convokit)\n",
            "  Downloading dnspython-2.6.1-py3-none-any.whl (307 kB)\n",
            "\u001b[2K     \u001b[90m━━━━━━━━━━━━━━━━━━━━━━━━━━━━━━━━━━━━━━━━\u001b[0m \u001b[32m307.7/307.7 kB\u001b[0m \u001b[31m22.0 MB/s\u001b[0m eta \u001b[36m0:00:00\u001b[0m\n",
            "\u001b[?25hCollecting emoji<2.0.0,>=1.0.0 (from clean-text>=0.6.0->convokit)\n",
            "  Downloading emoji-1.7.0.tar.gz (175 kB)\n",
            "\u001b[2K     \u001b[90m━━━━━━━━━━━━━━━━━━━━━━━━━━━━━━━━━━━━━━━━\u001b[0m \u001b[32m175.4/175.4 kB\u001b[0m \u001b[31m9.3 MB/s\u001b[0m eta \u001b[36m0:00:00\u001b[0m\n",
            "\u001b[?25h  Preparing metadata (setup.py) ... \u001b[?25l\u001b[?25hdone\n",
            "Collecting ftfy<7.0,>=6.0 (from clean-text>=0.6.0->convokit)\n",
            "  Downloading ftfy-6.2.0-py3-none-any.whl (54 kB)\n",
            "\u001b[2K     \u001b[90m━━━━━━━━━━━━━━━━━━━━━━━━━━━━━━━━━━━━━━━━\u001b[0m \u001b[32m54.4/54.4 kB\u001b[0m \u001b[31m3.1 MB/s\u001b[0m eta \u001b[36m0:00:00\u001b[0m\n",
            "\u001b[?25hRequirement already satisfied: contourpy>=1.0.1 in /usr/local/lib/python3.10/dist-packages (from matplotlib>=3.0.0->convokit) (1.2.1)\n",
            "Requirement already satisfied: cycler>=0.10 in /usr/local/lib/python3.10/dist-packages (from matplotlib>=3.0.0->convokit) (0.12.1)\n",
            "Requirement already satisfied: fonttools>=4.22.0 in /usr/local/lib/python3.10/dist-packages (from matplotlib>=3.0.0->convokit) (4.50.0)\n",
            "Requirement already satisfied: kiwisolver>=1.0.1 in /usr/local/lib/python3.10/dist-packages (from matplotlib>=3.0.0->convokit) (1.4.5)\n",
            "Requirement already satisfied: numpy>=1.20 in /usr/local/lib/python3.10/dist-packages (from matplotlib>=3.0.0->convokit) (1.25.2)\n",
            "Requirement already satisfied: packaging>=20.0 in /usr/local/lib/python3.10/dist-packages (from matplotlib>=3.0.0->convokit) (24.0)\n",
            "Requirement already satisfied: pillow>=6.2.0 in /usr/local/lib/python3.10/dist-packages (from matplotlib>=3.0.0->convokit) (9.4.0)\n",
            "Requirement already satisfied: pyparsing>=2.3.1 in /usr/local/lib/python3.10/dist-packages (from matplotlib>=3.0.0->convokit) (3.1.2)\n",
            "Requirement already satisfied: python-dateutil>=2.7 in /usr/local/lib/python3.10/dist-packages (from matplotlib>=3.0.0->convokit) (2.8.2)\n",
            "Requirement already satisfied: msgpack>=0.5.2 in /usr/local/lib/python3.10/dist-packages (from msgpack-numpy>=0.4.3.2->convokit) (1.0.8)\n",
            "Requirement already satisfied: click in /usr/local/lib/python3.10/dist-packages (from nltk>=3.4->convokit) (8.1.7)\n",
            "Requirement already satisfied: regex>=2021.8.3 in /usr/local/lib/python3.10/dist-packages (from nltk>=3.4->convokit) (2023.12.25)\n",
            "Requirement already satisfied: pytz>=2020.1 in /usr/local/lib/python3.10/dist-packages (from pandas>=0.23.4->convokit) (2023.4)\n",
            "Requirement already satisfied: tzdata>=2022.1 in /usr/local/lib/python3.10/dist-packages (from pandas>=0.23.4->convokit) (2024.1)\n",
            "Requirement already satisfied: threadpoolctl>=2.0.0 in /usr/local/lib/python3.10/dist-packages (from scikit-learn>=0.20.0->convokit) (3.4.0)\n",
            "Requirement already satisfied: spacy-legacy<3.1.0,>=3.0.11 in /usr/local/lib/python3.10/dist-packages (from spacy>=2.3.5->convokit) (3.0.12)\n",
            "Requirement already satisfied: spacy-loggers<2.0.0,>=1.0.0 in /usr/local/lib/python3.10/dist-packages (from spacy>=2.3.5->convokit) (1.0.5)\n",
            "Requirement already satisfied: murmurhash<1.1.0,>=0.28.0 in /usr/local/lib/python3.10/dist-packages (from spacy>=2.3.5->convokit) (1.0.10)\n",
            "Requirement already satisfied: cymem<2.1.0,>=2.0.2 in /usr/local/lib/python3.10/dist-packages (from spacy>=2.3.5->convokit) (2.0.8)\n",
            "Requirement already satisfied: preshed<3.1.0,>=3.0.2 in /usr/local/lib/python3.10/dist-packages (from spacy>=2.3.5->convokit) (3.0.9)\n",
            "Requirement already satisfied: thinc<8.3.0,>=8.2.2 in /usr/local/lib/python3.10/dist-packages (from spacy>=2.3.5->convokit) (8.2.3)\n",
            "Requirement already satisfied: wasabi<1.2.0,>=0.9.1 in /usr/local/lib/python3.10/dist-packages (from spacy>=2.3.5->convokit) (1.1.2)\n",
            "Requirement already satisfied: srsly<3.0.0,>=2.4.3 in /usr/local/lib/python3.10/dist-packages (from spacy>=2.3.5->convokit) (2.4.8)\n",
            "Requirement already satisfied: catalogue<2.1.0,>=2.0.6 in /usr/local/lib/python3.10/dist-packages (from spacy>=2.3.5->convokit) (2.0.10)\n",
            "Requirement already satisfied: weasel<0.4.0,>=0.1.0 in /usr/local/lib/python3.10/dist-packages (from spacy>=2.3.5->convokit) (0.3.4)\n",
            "Requirement already satisfied: typer<0.10.0,>=0.3.0 in /usr/local/lib/python3.10/dist-packages (from spacy>=2.3.5->convokit) (0.9.4)\n",
            "Requirement already satisfied: smart-open<7.0.0,>=5.2.1 in /usr/local/lib/python3.10/dist-packages (from spacy>=2.3.5->convokit) (6.4.0)\n",
            "Requirement already satisfied: requests<3.0.0,>=2.13.0 in /usr/local/lib/python3.10/dist-packages (from spacy>=2.3.5->convokit) (2.31.0)\n",
            "Requirement already satisfied: pydantic!=1.8,!=1.8.1,<3.0.0,>=1.7.4 in /usr/local/lib/python3.10/dist-packages (from spacy>=2.3.5->convokit) (2.6.4)\n",
            "Requirement already satisfied: jinja2 in /usr/local/lib/python3.10/dist-packages (from spacy>=2.3.5->convokit) (3.1.3)\n",
            "Requirement already satisfied: setuptools in /usr/local/lib/python3.10/dist-packages (from spacy>=2.3.5->convokit) (67.7.2)\n",
            "Requirement already satisfied: langcodes<4.0.0,>=3.2.0 in /usr/local/lib/python3.10/dist-packages (from spacy>=2.3.5->convokit) (3.3.0)\n",
            "Requirement already satisfied: wcwidth<0.3.0,>=0.2.12 in /usr/local/lib/python3.10/dist-packages (from ftfy<7.0,>=6.0->clean-text>=0.6.0->convokit) (0.2.13)\n",
            "Requirement already satisfied: annotated-types>=0.4.0 in /usr/local/lib/python3.10/dist-packages (from pydantic!=1.8,!=1.8.1,<3.0.0,>=1.7.4->spacy>=2.3.5->convokit) (0.6.0)\n",
            "Requirement already satisfied: pydantic-core==2.16.3 in /usr/local/lib/python3.10/dist-packages (from pydantic!=1.8,!=1.8.1,<3.0.0,>=1.7.4->spacy>=2.3.5->convokit) (2.16.3)\n",
            "Requirement already satisfied: typing-extensions>=4.6.1 in /usr/local/lib/python3.10/dist-packages (from pydantic!=1.8,!=1.8.1,<3.0.0,>=1.7.4->spacy>=2.3.5->convokit) (4.10.0)\n",
            "Requirement already satisfied: six>=1.5 in /usr/local/lib/python3.10/dist-packages (from python-dateutil>=2.7->matplotlib>=3.0.0->convokit) (1.16.0)\n",
            "Requirement already satisfied: charset-normalizer<4,>=2 in /usr/local/lib/python3.10/dist-packages (from requests<3.0.0,>=2.13.0->spacy>=2.3.5->convokit) (3.3.2)\n",
            "Requirement already satisfied: idna<4,>=2.5 in /usr/local/lib/python3.10/dist-packages (from requests<3.0.0,>=2.13.0->spacy>=2.3.5->convokit) (3.6)\n",
            "Requirement already satisfied: urllib3<3,>=1.21.1 in /usr/local/lib/python3.10/dist-packages (from requests<3.0.0,>=2.13.0->spacy>=2.3.5->convokit) (2.0.7)\n",
            "Requirement already satisfied: certifi>=2017.4.17 in /usr/local/lib/python3.10/dist-packages (from requests<3.0.0,>=2.13.0->spacy>=2.3.5->convokit) (2024.2.2)\n",
            "Requirement already satisfied: blis<0.8.0,>=0.7.8 in /usr/local/lib/python3.10/dist-packages (from thinc<8.3.0,>=8.2.2->spacy>=2.3.5->convokit) (0.7.11)\n",
            "Requirement already satisfied: confection<1.0.0,>=0.0.1 in /usr/local/lib/python3.10/dist-packages (from thinc<8.3.0,>=8.2.2->spacy>=2.3.5->convokit) (0.1.4)\n",
            "Requirement already satisfied: cloudpathlib<0.17.0,>=0.7.0 in /usr/local/lib/python3.10/dist-packages (from weasel<0.4.0,>=0.1.0->spacy>=2.3.5->convokit) (0.16.0)\n",
            "Requirement already satisfied: MarkupSafe>=2.0 in /usr/local/lib/python3.10/dist-packages (from jinja2->spacy>=2.3.5->convokit) (2.1.5)\n",
            "Building wheels for collected packages: convokit, emoji\n",
            "  Building wheel for convokit (pyproject.toml) ... \u001b[?25l\u001b[?25hdone\n",
            "  Created wheel for convokit: filename=convokit-3.0.0-py3-none-any.whl size=216707 sha256=2089f187d9429d4b952fbf7450fcdbf2c3d27aef9abcb8c022f0869b8e80ab7e\n",
            "  Stored in directory: /root/.cache/pip/wheels/c4/89/8c/2677fdb888588b6f93cb6ac86bdfb020f1f1c33e0d5525b231\n",
            "  Building wheel for emoji (setup.py) ... \u001b[?25l\u001b[?25hdone\n",
            "  Created wheel for emoji: filename=emoji-1.7.0-py3-none-any.whl size=171034 sha256=b5a24db1d366533089af75c8b0ba2de9b0b1062acd6317803ab2146a70985836\n",
            "  Stored in directory: /root/.cache/pip/wheels/31/8a/8c/315c9e5d7773f74b33d5ed33f075b49c6eaeb7cedbb86e2cf8\n",
            "Successfully built convokit emoji\n",
            "Installing collected packages: emoji, unidecode, msgpack-numpy, ftfy, dnspython, dill, pymongo, clean-text, convokit\n",
            "Successfully installed clean-text-0.6.0 convokit-3.0.0 dill-0.3.8 dnspython-2.6.1 emoji-1.7.0 ftfy-6.2.0 msgpack-numpy-0.4.8 pymongo-4.6.3 unidecode-1.3.8\n"
          ]
        }
      ],
      "source": [
        "%pip install convokit"
      ]
    },
    {
      "cell_type": "code",
      "execution_count": 2,
      "id": "ba56c84b",
      "metadata": {
        "id": "ba56c84b"
      },
      "outputs": [],
      "source": [
        "import convokit"
      ]
    },
    {
      "cell_type": "code",
      "execution_count": 3,
      "id": "ebf68b49",
      "metadata": {
        "colab": {
          "base_uri": "https://localhost:8080/"
        },
        "id": "ebf68b49",
        "outputId": "44d51c81-46dc-4400-ebee-0bfee136e725"
      },
      "outputs": [
        {
          "output_type": "stream",
          "name": "stdout",
          "text": [
            "Downloading friends-corpus to /root/.convokit/downloads/friends-corpus\n",
            "Downloading friends-corpus from http://zissou.infosci.cornell.edu/convokit/datasets/friends-corpus/friends-corpus.zip (6.1MB)... Done\n",
            "No configuration file found at /root/.convokit/config.yml; writing with contents: \n",
            "# Default Backend Parameters\n",
            "db_host: localhost:27017\n",
            "data_directory: ~/.convokit/saved-corpora\n",
            "default_backend: mem\n"
          ]
        }
      ],
      "source": [
        "corpus = convokit.Corpus(convokit.download('friends-corpus'))"
      ]
    },
    {
      "cell_type": "markdown",
      "id": "d0357230",
      "metadata": {
        "id": "d0357230"
      },
      "source": [
        "**Task**: Run the code below, which iterates through the first 10 utterances\n",
        "of the show. How is each utterance formatted? What do the `speaker`\n",
        "and `text` field mean?"
      ]
    },
    {
      "cell_type": "code",
      "execution_count": 4,
      "id": "6f40ef3b",
      "metadata": {
        "colab": {
          "base_uri": "https://localhost:8080/"
        },
        "id": "6f40ef3b",
        "outputId": "c85d3aba-fd57-4c37-bac1-315e5ffeeff2"
      },
      "outputs": [
        {
          "output_type": "stream",
          "name": "stdout",
          "text": [
            "Utterance(id: 's01_e01_c01_u001', conversation_id: s01_e01_c01_u001, reply-to: None, speaker: Speaker(id: 'Monica Geller', vectors: [], meta: ConvoKitMeta({})), timestamp: None, text: \"There's nothing to tell! He's just some guy I work with!\", vectors: [], meta: ConvoKitMeta({'tokens': [['There', \"'s\", 'nothing', 'to', 'tell', '!'], ['He', \"'s\", 'just', 'some', 'guy', 'I', 'work', 'with', '!']], 'character_entities': [[], [[0, 1, 'Paul the Wine Guy'], [4, 5, 'Paul the Wine Guy'], [5, 6, 'Monica Geller']]], 'emotion': None, 'caption': None, 'transcript_with_note': None, 'tokens_with_note': None}))\n",
            "Utterance(id: 's01_e01_c01_u002', conversation_id: s01_e01_c01_u001, reply-to: s01_e01_c01_u001, speaker: Speaker(id: 'Joey Tribbiani', vectors: [], meta: ConvoKitMeta({})), timestamp: None, text: \"C'mon, you're going out with the guy! There's gotta be something wrong with him!\", vectors: [], meta: ConvoKitMeta({'tokens': [[\"C'mon\", ',', 'you', \"'re\", 'going', 'out', 'with', 'the', 'guy', '!'], ['There', \"'s\", 'got', 'ta', 'be', 'something', 'wrong', 'with', 'him', '!']], 'character_entities': [[[2, 3, 'Monica Geller'], [8, 9, 'Paul the Wine Guy']], [[8, 9, 'Paul the Wine Guy']]], 'emotion': None, 'caption': None, 'transcript_with_note': None, 'tokens_with_note': None}))\n",
            "Utterance(id: 's01_e01_c01_u003', conversation_id: s01_e01_c01_u001, reply-to: s01_e01_c01_u002, speaker: Speaker(id: 'Chandler Bing', vectors: [], meta: ConvoKitMeta({})), timestamp: None, text: 'All right Joey, be nice. So does he have a hump? A hump and a hairpiece?', vectors: [], meta: ConvoKitMeta({'tokens': [['All', 'right', 'Joey', ',', 'be', 'nice', '.'], ['So', 'does', 'he', 'have', 'a', 'hump', '?'], ['A', 'hump', 'and', 'a', 'hairpiece', '?']], 'character_entities': [[[2, 3, 'Joey Tribbiani']], [[2, 3, 'Paul the Wine Guy']], []], 'emotion': None, 'caption': None, 'transcript_with_note': None, 'tokens_with_note': None}))\n",
            "Utterance(id: 's01_e01_c01_u004', conversation_id: s01_e01_c01_u001, reply-to: s01_e01_c01_u003, speaker: Speaker(id: 'Phoebe Buffay', vectors: [], meta: ConvoKitMeta({})), timestamp: None, text: 'Wait, does he eat chalk?', vectors: [], meta: ConvoKitMeta({'tokens': [['Wait', ',', 'does', 'he', 'eat', 'chalk', '?']], 'character_entities': [[[3, 4, 'Paul the Wine Guy']]], 'emotion': None, 'caption': None, 'transcript_with_note': None, 'tokens_with_note': None}))\n",
            "Utterance(id: 's01_e01_c01_u005', conversation_id: s01_e01_c01_u001, reply-to: s01_e01_c01_u004, speaker: Speaker(id: 'TRANSCRIPT_NOTE', vectors: [], meta: ConvoKitMeta({})), timestamp: None, text: '', vectors: [], meta: ConvoKitMeta({'tokens': [], 'character_entities': [], 'emotion': None, 'caption': None, 'transcript_with_note': '(They all stare, bemused.)', 'tokens_with_note': [['(', 'They', 'all', 'stare', ',', 'bemused', '.', ')']]}))\n",
            "Utterance(id: 's01_e01_c01_u006', conversation_id: s01_e01_c01_u001, reply-to: s01_e01_c01_u005, speaker: Speaker(id: 'Phoebe Buffay', vectors: [], meta: ConvoKitMeta({})), timestamp: None, text: \"Just, 'cause, I don't want her to go through what I went through with Carl- oh!\", vectors: [], meta: ConvoKitMeta({'tokens': [['Just', ',', \"'\", 'cause', ',', 'I', 'do', \"n't\", 'want', 'her', 'to', 'go', 'through', 'what', 'I', 'went', 'through', 'with', 'Carl', '-', 'oh', '!']], 'character_entities': [[[5, 6, 'Phoebe Buffay'], [9, 10, 'Monica Geller'], [14, 15, 'Phoebe Buffay'], [18, 19, \"Carl (Rachel's date)\"]]], 'emotion': None, 'caption': None, 'transcript_with_note': None, 'tokens_with_note': None}))\n",
            "Utterance(id: 's01_e01_c01_u007', conversation_id: s01_e01_c01_u001, reply-to: s01_e01_c01_u006, speaker: Speaker(id: 'Monica Geller', vectors: [], meta: ConvoKitMeta({})), timestamp: None, text: \"Okay, everybody relax. This is not even a date. It's just two people going out to dinner and- not having sex.\", vectors: [], meta: ConvoKitMeta({'tokens': [['Okay', ',', 'everybody', 'relax', '.'], ['This', 'is', 'not', 'even', 'a', 'date', '.'], ['It', \"'s\", 'just', 'two', 'people', 'going', 'out', 'to', 'dinner', 'and', '-', 'not', 'having', 'sex', '.']], 'character_entities': [[], [], []], 'emotion': None, 'caption': None, 'transcript_with_note': None, 'tokens_with_note': None}))\n",
            "Utterance(id: 's01_e01_c01_u008', conversation_id: s01_e01_c01_u001, reply-to: s01_e01_c01_u007, speaker: Speaker(id: 'Chandler Bing', vectors: [], meta: ConvoKitMeta({})), timestamp: None, text: 'Sounds like a date to me.', vectors: [], meta: ConvoKitMeta({'tokens': [['Sounds', 'like', 'a', 'date', 'to', 'me', '.']], 'character_entities': [[[5, 6, 'Chandler Bing']]], 'emotion': None, 'caption': None, 'transcript_with_note': None, 'tokens_with_note': None}))\n",
            "Utterance(id: 's01_e01_c01_u009', conversation_id: s01_e01_c01_u001, reply-to: s01_e01_c01_u008, speaker: Speaker(id: 'TRANSCRIPT_NOTE', vectors: [], meta: ConvoKitMeta({})), timestamp: None, text: '', vectors: [], meta: ConvoKitMeta({'tokens': [], 'character_entities': [], 'emotion': None, 'caption': None, 'transcript_with_note': '[Time Lapse]', 'tokens_with_note': [['[', 'Time', 'Lapse', ']']]}))\n",
            "Utterance(id: 's01_e01_c01_u010', conversation_id: s01_e01_c01_u001, reply-to: s01_e01_c01_u009, speaker: Speaker(id: 'Chandler Bing', vectors: [], meta: ConvoKitMeta({})), timestamp: None, text: \"Alright, so I'm back in high school, I'm standing in the middle of the cafeteria, and I realize I am totally naked.\", vectors: [], meta: ConvoKitMeta({'tokens': [['Alright', ',', 'so', 'I', \"'m\", 'back', 'in', 'high', 'school', ',', 'I', \"'m\", 'standing', 'in', 'the', 'middle', 'of', 'the', 'cafeteria', ',', 'and', 'I', 'realize', 'I', 'am', 'totally', 'naked', '.']], 'character_entities': [[[3, 4, 'Chandler Bing'], [10, 11, 'Chandler Bing'], [21, 22, 'Chandler Bing'], [23, 24, 'Chandler Bing']]], 'emotion': None, 'caption': None, 'transcript_with_note': None, 'tokens_with_note': None}))\n"
          ]
        }
      ],
      "source": [
        "for i, utterance in enumerate(corpus.iter_utterances()):\n",
        "    print(utterance)\n",
        "    if (i >= 9):\n",
        "        break"
      ]
    },
    {
      "cell_type": "markdown",
      "id": "713e7564",
      "metadata": {
        "id": "713e7564"
      },
      "source": [
        "**Graded Task**: Create a list of strings called `uts` that contains\n",
        "all utterances made by your favourite (of the 6) main character of the show.\n",
        "\n",
        "If you need help, check the documentation [https://convokit.cornell.edu/documentation/]"
      ]
    },
    {
      "cell_type": "code",
      "execution_count": 5,
      "id": "cf0cd046",
      "metadata": {
        "id": "cf0cd046"
      },
      "outputs": [],
      "source": [
        "character = 'Phoebe Buffay' # OR 'Chandler Bing' OR 'Phoebe Buffay' OR ...\n",
        "pass # TODO\n",
        "uts = []\n",
        "for i, utterance in enumerate(corpus.iter_utterances()):\n",
        "    if utterance.speaker.id == character:\n",
        "        uts.append(utterance.text)"
      ]
    },
    {
      "cell_type": "markdown",
      "id": "c493e86e",
      "metadata": {
        "id": "c493e86e"
      },
      "source": [
        "Please include the output of this next line in your solution"
      ]
    },
    {
      "cell_type": "code",
      "execution_count": 6,
      "id": "cce37f65",
      "metadata": {
        "colab": {
          "base_uri": "https://localhost:8080/"
        },
        "id": "cce37f65",
        "outputId": "81cc1282-2f54-4195-cc8f-e17efeaacab4"
      },
      "outputs": [
        {
          "output_type": "stream",
          "name": "stdout",
          "text": [
            "7539\n"
          ]
        }
      ],
      "source": [
        "print(len(uts))"
      ]
    },
    {
      "cell_type": "markdown",
      "id": "6d853b29",
      "metadata": {
        "id": "6d853b29"
      },
      "source": [
        "**Task**: Run the below code. This code combines these lines into a\n",
        "large string for training, and a large string for validation.\n",
        "We will index ranges in this large string for use in a minibatch---i.e.\n",
        "a minibatch of data will consist of a substring in this large string.\n",
        "This substring may start in the middle of an utterance and may contain\n",
        "multiple utterances---and that turns out to be okay!\n",
        "Our neural network still manages to learn what an utterance looks\n",
        "like and emulate it.\n",
        "\n",
        "Since this approach is simpler to implement than the batching approach\n",
        "seen in the previous lab, it is more often used.\n",
        "\n",
        "We will use 90% of the data for training, and 10% of the data\n",
        "for validation."
      ]
    },
    {
      "cell_type": "code",
      "execution_count": 7,
      "id": "c5bf9073",
      "metadata": {
        "id": "c5bf9073"
      },
      "outputs": [],
      "source": [
        "train_split = 0.9\n",
        "n = len(uts)\n",
        "\n",
        "train_data_str = '\\n'.join(uts[:int(n*train_split)])\n",
        "val_data_str = '\\n'.join(uts[int(n*train_split):])"
      ]
    },
    {
      "cell_type": "markdown",
      "id": "8d325b81",
      "metadata": {
        "id": "8d325b81"
      },
      "source": [
        "**Task**: Notice that we split the utterances so that the earlier utterances\n",
        "are in the training set, and the later utterances (i.e., later in the TV show)\n",
        "are in the validation set. Why is this method preferable to randomly splitting\n",
        "the utterances into training and validation?"
      ]
    },
    {
      "cell_type": "code",
      "execution_count": 8,
      "id": "4367f40d",
      "metadata": {
        "id": "4367f40d"
      },
      "outputs": [],
      "source": [
        "# Include your explanation here"
      ]
    },
    {
      "cell_type": "markdown",
      "id": "319b0669",
      "metadata": {
        "id": "319b0669"
      },
      "source": [
        "**Task**: Why do we not set aside a test set?"
      ]
    },
    {
      "cell_type": "code",
      "execution_count": 9,
      "id": "dd1a60f3",
      "metadata": {
        "id": "dd1a60f3"
      },
      "outputs": [],
      "source": [
        "# Include your explanation here"
      ]
    },
    {
      "cell_type": "markdown",
      "id": "6742ae32",
      "metadata": {
        "id": "6742ae32"
      },
      "source": [
        "Just like in the previous lab, we will *tokenize* our text.\n",
        "Modern models use a tokenization strategy called\n",
        "[Byte Pair Encoding](https://en.wikipedia.org/wiki/Byte_pair_encoding),\n",
        "which tokenize text into common into **sub-word tokens**.\n",
        "Sub-word tokens split words into commonly occuring (and thus meaningful) parts.\n",
        "For example, the word \"utterance\" could be split\n",
        "into \"utter\" and \"ance\". The model would learn about these constinuent\n",
        "tokens in different contexts, helping the model generalize better.\n",
        "\n",
        "We will use the Byte Pair Encoding (BPE) tokenizer from the\n",
        "`tiktoken` library. Let's install and import this library."
      ]
    },
    {
      "cell_type": "code",
      "execution_count": 10,
      "id": "820b7bc7",
      "metadata": {
        "colab": {
          "base_uri": "https://localhost:8080/"
        },
        "id": "820b7bc7",
        "outputId": "c1d53e17-61cd-4e69-f148-36af1429b29b"
      },
      "outputs": [
        {
          "output_type": "stream",
          "name": "stdout",
          "text": [
            "Collecting tiktoken\n",
            "  Downloading tiktoken-0.6.0-cp310-cp310-manylinux_2_17_x86_64.manylinux2014_x86_64.whl (1.8 MB)\n",
            "\u001b[2K     \u001b[90m━━━━━━━━━━━━━━━━━━━━━━━━━━━━━━━━━━━━━━━━\u001b[0m \u001b[32m1.8/1.8 MB\u001b[0m \u001b[31m8.3 MB/s\u001b[0m eta \u001b[36m0:00:00\u001b[0m\n",
            "\u001b[?25hRequirement already satisfied: regex>=2022.1.18 in /usr/local/lib/python3.10/dist-packages (from tiktoken) (2023.12.25)\n",
            "Requirement already satisfied: requests>=2.26.0 in /usr/local/lib/python3.10/dist-packages (from tiktoken) (2.31.0)\n",
            "Requirement already satisfied: charset-normalizer<4,>=2 in /usr/local/lib/python3.10/dist-packages (from requests>=2.26.0->tiktoken) (3.3.2)\n",
            "Requirement already satisfied: idna<4,>=2.5 in /usr/local/lib/python3.10/dist-packages (from requests>=2.26.0->tiktoken) (3.6)\n",
            "Requirement already satisfied: urllib3<3,>=1.21.1 in /usr/local/lib/python3.10/dist-packages (from requests>=2.26.0->tiktoken) (2.0.7)\n",
            "Requirement already satisfied: certifi>=2017.4.17 in /usr/local/lib/python3.10/dist-packages (from requests>=2.26.0->tiktoken) (2024.2.2)\n",
            "Installing collected packages: tiktoken\n",
            "Successfully installed tiktoken-0.6.0\n"
          ]
        }
      ],
      "source": [
        "%pip install tiktoken"
      ]
    },
    {
      "cell_type": "code",
      "execution_count": 11,
      "id": "bf2c64e5",
      "metadata": {
        "id": "bf2c64e5"
      },
      "outputs": [],
      "source": [
        "import tiktoken"
      ]
    },
    {
      "cell_type": "markdown",
      "id": "612b18d6",
      "metadata": {
        "id": "612b18d6"
      },
      "source": [
        "**Graded Task**: We will be fine-tuning a pre-trained GPT2 model.\n",
        "Explain why it is important for us to use the same tokenization\n",
        "method as is used in the original GPT2 model whose weights we will be\n",
        "using."
      ]
    },
    {
      "cell_type": "code",
      "execution_count": 12,
      "id": "d01a5788",
      "metadata": {
        "id": "d01a5788"
      },
      "outputs": [],
      "source": [
        "# Your explanation goes here"
      ]
    },
    {
      "cell_type": "markdown",
      "source": [
        "My answer: This is because the tokenization method defines how the input text is converted into tokens, which directly affects the representations model defines for the text.  The pre-trained GPT-2 model associates specific tokens with their corresponding embeddings. If we were to use a different tokenization method, we would associate tokens with a different set of indices for the corresponding embeddings."
      ],
      "metadata": {
        "id": "-AiXkBThldfQ"
      },
      "id": "-AiXkBThldfQ"
    },
    {
      "cell_type": "markdown",
      "id": "ef4d4648",
      "metadata": {
        "id": "ef4d4648"
      },
      "source": [
        "Now, let's retrieve the original GPT2 model."
      ]
    },
    {
      "cell_type": "code",
      "execution_count": 13,
      "id": "674edc60",
      "metadata": {
        "id": "674edc60"
      },
      "outputs": [],
      "source": [
        "enc = tiktoken.get_encoding(\"gpt2\")\n",
        "\n",
        "train_ids = enc.encode_ordinary(train_data_str)\n",
        "val_ids = enc.encode_ordinary(val_data_str)"
      ]
    },
    {
      "cell_type": "markdown",
      "id": "9dc3a7fe",
      "metadata": {
        "id": "9dc3a7fe"
      },
      "source": [
        "**Task**: How many tokens are in the training and validation sets?\n",
        "How does this compare with the number of *words* in each data set\n",
        "(computed using the `str.split()` method)?\n",
        "What about the number of *characters*?"
      ]
    },
    {
      "cell_type": "code",
      "execution_count": 14,
      "id": "85f3940f",
      "metadata": {
        "id": "85f3940f"
      },
      "outputs": [],
      "source": [
        "# TODO\n"
      ]
    },
    {
      "cell_type": "markdown",
      "id": "67afc519",
      "metadata": {
        "id": "67afc519"
      },
      "source": [
        "**Task**: Run the below code, which will save the above numpy arrays in a file.\n",
        "This way, we can use the `np.memmap` function, which creates a memory-map\n",
        "to an array stored in a binary file on disk. This approach is useful for\n",
        "accessing segments of a large file on disk, which we will be doing."
      ]
    },
    {
      "cell_type": "code",
      "execution_count": 15,
      "id": "89dd57d5",
      "metadata": {
        "id": "89dd57d5"
      },
      "outputs": [],
      "source": [
        "import numpy as np\n",
        "import os\n",
        "\n",
        "data_dir = 'friends_gpt2'\n",
        "os.makedirs(data_dir, exist_ok=True)\n",
        "\n",
        "# export to bin files\n",
        "train_ids = np.array(train_ids, dtype=np.uint16)\n",
        "val_ids = np.array(val_ids, dtype=np.uint16)\n",
        "train_ids.tofile(os.path.join(data_dir, 'train.bin'))\n",
        "val_ids.tofile(os.path.join(data_dir, 'val.bin'))"
      ]
    },
    {
      "cell_type": "code",
      "execution_count": 16,
      "id": "e602cd2c",
      "metadata": {
        "id": "e602cd2c"
      },
      "outputs": [],
      "source": [
        "# create a memory map\n",
        "train_data = np.memmap(os.path.join(data_dir, 'train.bin'), dtype=np.uint16, mode='r')\n",
        "val_data = np.memmap(os.path.join(data_dir, 'val.bin'), dtype=np.uint16, mode='r')"
      ]
    },
    {
      "cell_type": "markdown",
      "id": "b8164cef",
      "metadata": {
        "id": "b8164cef"
      },
      "source": [
        "**Task**: Use the `get_batch` function below to extract a sample input/output\n",
        "from this data set. Here, we will be using the approach shown in\n",
        "the generative RNN lecture, where the model generates the next token given the\n",
        "previous context."
      ]
    },
    {
      "cell_type": "code",
      "execution_count": 17,
      "id": "1f53ad0a",
      "metadata": {
        "id": "1f53ad0a"
      },
      "outputs": [],
      "source": [
        "import torch\n",
        "\n",
        "def get_batch(data, block_size, batch_size, device):\n",
        "    \"\"\"\n",
        "    Return a minibatch of data. This function is not deterministic.\n",
        "    Calling this function multiple times will result in multiple different\n",
        "    return values.\n",
        "\n",
        "    Parameters:\n",
        "        `data` - a numpy array (e.g., created via a call to np.memmap)\n",
        "        `block_size` - the length of each sequence\n",
        "        `batch_size` - the number of sequences in the batch\n",
        "        `device` - the device to place the returned PyTorch tensor\n",
        "\n",
        "    Returns: A tuple of PyTorch tensors (x, t), where\n",
        "        `x` - represents the input tokens, with shape (batch_size, block_size)\n",
        "        `y` - represents the target output tokens, with shape (batch_size, block_size)\n",
        "    \"\"\"\n",
        "    ix = torch.randint(len(data) - block_size, (batch_size,))\n",
        "    x = torch.stack([torch.from_numpy((data[i:i+block_size]).astype(np.int64)) for i in ix])\n",
        "    t = torch.stack([torch.from_numpy((data[i+1:i+1+block_size]).astype(np.int64)) for i in ix])\n",
        "    if 'cuda' in device:\n",
        "        # pin arrays x,t, which allows us to move them to GPU asynchronously\n",
        "        #  (non_blocking=True)\n",
        "        x, t = x.pin_memory().to(device, non_blocking=True), t.pin_memory().to(device, non_blocking=True)\n",
        "    else:\n",
        "        x, t = x.to(device), t.to(device)\n",
        "    return x, t"
      ]
    },
    {
      "cell_type": "code",
      "execution_count": 18,
      "id": "6deb9080",
      "metadata": {
        "id": "6deb9080"
      },
      "outputs": [],
      "source": [
        "device = 'cuda' if torch.cuda.is_available()  else 'cpu'\n",
        "# TODO: get and print a single batch from the training set"
      ]
    },
    {
      "cell_type": "markdown",
      "id": "c7aa876f",
      "metadata": {
        "id": "c7aa876f"
      },
      "source": [
        "**Graded Task**: Once again, we will be using the approach shown in the generative\n",
        "RNN lecture, where the model's goal is to generate the next token given the\n",
        "previous context. With that in mind, explain why the target output tokens is\n",
        "very similar to the input tokens, just offset by 1 along the `block_size`\n",
        "dimension."
      ]
    },
    {
      "cell_type": "markdown",
      "source": [
        "My answer: In this case, we have the input Sequence as, for example, [\"I\", \"love\", \"natural\", \"language\"] and output Sequence as [\"love\", \"natural\", \"language\", \"processing\"]. In this way, we ensure the coherency of the output prediction since the model is trained to predict the next token based on a give sequence of previous tokens.\n"
      ],
      "metadata": {
        "id": "WXeIgrm1l_UE"
      },
      "id": "WXeIgrm1l_UE"
    },
    {
      "cell_type": "markdown",
      "id": "a56959bd",
      "metadata": {
        "id": "a56959bd"
      },
      "source": [
        "## Part 2. Model\n",
        "\n",
        "Now that we have our data set in mind, it is time to set up our GPT2 model.\n",
        "We will use the code provided in the [nanoGPT repository](https://github.com/karpathy/nanoGPT),\n",
        "slightly modified here for succinctness.\n",
        "Thus, we will not re-implement the GPT2 model. Instead, let's use the\n",
        "nanoGPT implementation to understand, step-by-step, what happens in a GPT model.\n",
        "\n",
        "\n",
        "We will explore the components of the GPT2 model first in a *top-down* manner,\n",
        "to get an intuition as to how the pieces connect. Then, we will explore the same\n",
        "components in a *bottom-up* manner, so that we can fully understand the role of each\n",
        "component."
      ]
    },
    {
      "cell_type": "code",
      "execution_count": 19,
      "id": "059d1376",
      "metadata": {
        "id": "059d1376"
      },
      "outputs": [],
      "source": [
        "from dataclasses import dataclass\n",
        "import torch\n",
        "import torch.nn as nn\n",
        "import torch.nn.functional as F\n",
        "import inspect"
      ]
    },
    {
      "cell_type": "markdown",
      "id": "db98056d",
      "metadata": {
        "id": "db98056d"
      },
      "source": [
        "We begin with the `GPTConfig` class, which contains model architecture\n",
        "settings for our GPT2 model. The settings specify:\n",
        "\n",
        "- `block_size`: the input sequence length. Shorter sequences can be padded (with\n",
        "  a padding token as seen in the previous lab), and\n",
        "  longer sequences must be cut shorter. During training, we will generate batches\n",
        "  with sequences that are exactly the block size\n",
        "- `vocab_size`: the number of unique tokens in our vocabulary. This affects the\n",
        "  size of the initial embedding layer.\n",
        "- `n_layer`: the number of transformer layers.\n",
        "- `n_head`: the number of *attention heads* to use in the causal self-attention layer.\n",
        "- `n_embd`: the embedding size used throughout the model. You can think of each token\n",
        "  position as being represented as a vector of length `n_embd`.\n",
        "- `dropout`: for dropout.\n",
        "- `bias`: A boolean to determine whether to use a bias parameter in certain layers or not."
      ]
    },
    {
      "cell_type": "code",
      "execution_count": 20,
      "id": "a6d9ed03",
      "metadata": {
        "id": "a6d9ed03"
      },
      "outputs": [],
      "source": [
        "@dataclass\n",
        "class GPTConfig:\n",
        "    block_size: int = 1024\n",
        "    vocab_size: int = 50304 # GPT-2 vocab_size of 50257, padded up to nearest multiple of 64 for efficiency\n",
        "    n_layer: int = 12\n",
        "    n_head: int = 12\n",
        "    n_embd: int = 768\n",
        "    dropout: float = 0.0\n",
        "    bias: bool = True # True: bias in Linears and LayerNorms, like GPT-2. False: a bit better and faster"
      ]
    },
    {
      "cell_type": "markdown",
      "id": "d3d81292",
      "metadata": {
        "id": "d3d81292"
      },
      "source": [
        "**Task**: Which of these settings do you think would affect the total number of trainable parameters in a GPT model?\n",
        "Which of them do you think have the **largest impact** on the number of trainable parameters?\n",
        "Please write down your guess before continuing, and we will check back here later."
      ]
    },
    {
      "cell_type": "code",
      "execution_count": 21,
      "id": "47095cd7",
      "metadata": {
        "id": "47095cd7"
      },
      "outputs": [],
      "source": [
        "# TODO: Write down your thoughts here."
      ]
    },
    {
      "cell_type": "markdown",
      "id": "a2f3d46d",
      "metadata": {
        "id": "a2f3d46d"
      },
      "source": [
        "With the setting in mind, we can set up a GPT model.\n",
        "A GPT model will take a GPTConfig object as a parameter.\n",
        "Pay particular attention to the `__init__()` and\n",
        "`forward()` methods. These are the methods that we will\n",
        "study in more detail.\n",
        "\n",
        "The code uses a more PyTorch features that we have not discussed,\n",
        "but these features are mostly cosmetic and do not provide significantly\n",
        "different functionality: the use of `nn.ModuleDict` allows us to access modules\n",
        "in the `GPT` class in a straightforward way, and\n",
        "`nn.ModuleList` allows us to create a list of modules.\n",
        "We have not yet defined the PyTorch neural network modules `Block` and\n",
        "`LayerNorm`, but we will do so soon.\n",
        "\n",
        "If you see a PyTorch feature used that you don't understand, you can\n",
        "always look it up in the PyTorch documentation. However, you don't try to\n",
        "understand everything at one go. It is normal to read code in multiple \"passes\",\n",
        "and focus on the big picture in the first pass.\n",
        "\n",
        "**Task**: Begin with a first pass read of the `__init__()`\n",
        "and `forward()` methods of the `GPT` module.\n",
        "\n",
        "**Graded Task**: Implement the `generate` method of the class. This method should autoregressively generate the next token ids based on the given tokens. Implementation details and type annotations are provided in the method. Make sure to verify your solution with a sensible test of your design. Think about possible edge cases."
      ]
    },
    {
      "cell_type": "code",
      "execution_count": 22,
      "id": "a272ac5d",
      "metadata": {
        "id": "a272ac5d"
      },
      "outputs": [],
      "source": [
        "class GPT(nn.Module):\n",
        "\n",
        "    def __init__(self, config):\n",
        "        super().__init__()\n",
        "        assert config.vocab_size is not None\n",
        "        assert config.block_size is not None\n",
        "        self.config = config\n",
        "\n",
        "        self.transformer = nn.ModuleDict(dict(\n",
        "            wte = nn.Embedding(config.vocab_size, config.n_embd),\n",
        "            wpe = nn.Embedding(config.block_size, config.n_embd),\n",
        "            drop = nn.Dropout(config.dropout),\n",
        "            h = nn.ModuleList([Block(config) for _ in range(config.n_layer)]),\n",
        "            ln_f = LayerNorm(config.n_embd, bias=config.bias),\n",
        "        ))\n",
        "        self.lm_head = nn.Linear(config.n_embd, config.vocab_size, bias=False)\n",
        "        # with weight tying when using torch.compile() some warnings get generated:\n",
        "        # \"UserWarning: functional_call was passed multiple values for tied weights.\n",
        "        # This behavior is deprecated and will be an error in future versions\"\n",
        "        # not 100% sure what this is, so far seems to be harmless. TODO investigate\n",
        "        self.transformer.wte.weight = self.lm_head.weight # https://paperswithcode.com/method/weight-tying\n",
        "\n",
        "        # init all weights\n",
        "        self.apply(self._init_weights)\n",
        "        # apply special scaled init to the residual projections, per GPT-2 paper\n",
        "        for pn, p in self.named_parameters():\n",
        "            if pn.endswith('c_proj.weight'):\n",
        "                torch.nn.init.normal_(p, mean=0.0, std=0.02/math.sqrt(2 * config.n_layer))\n",
        "\n",
        "        # report number of parameters\n",
        "        print(\"number of parameters: %.2fM\" % (self.get_num_params()/1e6,))\n",
        "\n",
        "    def get_num_params(self, non_embedding=True):\n",
        "        \"\"\"\n",
        "        Return the number of parameters in the model.\n",
        "        For non-embedding count (default), the position embeddings get subtracted.\n",
        "        The token embeddings would too, except due to the parameter sharing these\n",
        "        params are actually used as weights in the final layer, so we include them.\n",
        "        \"\"\"\n",
        "        n_params = sum(p.numel() for p in self.parameters())\n",
        "        if non_embedding:\n",
        "            n_params -= self.transformer.wpe.weight.numel()\n",
        "        return n_params\n",
        "\n",
        "    def _init_weights(self, module):\n",
        "        if isinstance(module, nn.Linear):\n",
        "            torch.nn.init.normal_(module.weight, mean=0.0, std=0.02)\n",
        "            if module.bias is not None:\n",
        "                torch.nn.init.zeros_(module.bias)\n",
        "        elif isinstance(module, nn.Embedding):\n",
        "            torch.nn.init.normal_(module.weight, mean=0.0, std=0.02)\n",
        "\n",
        "    def forward(self, idx, targets=None):\n",
        "        device = idx.device\n",
        "        b, t = idx.size()\n",
        "        assert t <= self.config.block_size, f\"Cannot forward sequence of length {t}, block size is only {self.config.block_size}\"\n",
        "        pos = torch.arange(0, t, dtype=torch.long, device=device) # shape (t)\n",
        "\n",
        "        # forward the GPT model itself\n",
        "        tok_emb = self.transformer.wte(idx) # token embeddings of shape (b, t, n_embd)\n",
        "        pos_emb = self.transformer.wpe(pos) # position embeddings of shape (t, n_embd)\n",
        "        x = self.transformer.drop(tok_emb + pos_emb)\n",
        "        for block in self.transformer.h:\n",
        "            x = block(x)\n",
        "        x = self.transformer.ln_f(x)\n",
        "\n",
        "        if targets is not None:\n",
        "            # if we are given some desired targets also calculate the loss\n",
        "            logits = self.lm_head(x)\n",
        "            loss = F.cross_entropy(logits.view(-1, logits.size(-1)), targets.view(-1), ignore_index=-1)\n",
        "        else:\n",
        "            # inference-time mini-optimization: only forward the lm_head on the very last position\n",
        "            logits = self.lm_head(x[:, [-1], :]) # note: using list [-1] to preserve the time dim\n",
        "            loss = None\n",
        "\n",
        "        return logits, loss\n",
        "\n",
        "    def crop_block_size(self, block_size):\n",
        "        # model surgery to decrease the block size if necessary\n",
        "        # e.g. we may load the GPT2 pretrained model checkpoint (block size 1024)\n",
        "        # but want to use a smaller block size for some smaller, simpler model\n",
        "        assert block_size <= self.config.block_size\n",
        "        self.config.block_size = block_size\n",
        "        self.transformer.wpe.weight = nn.Parameter(self.transformer.wpe.weight[:block_size])\n",
        "        for block in self.transformer.h:\n",
        "            if hasattr(block.attn, 'bias'):\n",
        "                block.attn.bias = block.attn.bias[:,:,:block_size,:block_size]\n",
        "\n",
        "    @classmethod\n",
        "    def from_pretrained(cls, model_type, override_args=None):\n",
        "        assert model_type in {'gpt2', 'gpt2-medium', 'gpt2-large', 'gpt2-xl'}\n",
        "        override_args = override_args or {} # default to empty dict\n",
        "        # only dropout can be overridden see more notes below\n",
        "        assert all(k == 'dropout' for k in override_args)\n",
        "        from transformers import GPT2LMHeadModel\n",
        "        print(\"loading weights from pretrained gpt: %s\" % model_type)\n",
        "\n",
        "        # n_layer, n_head and n_embd are determined from model_type\n",
        "        config_args = {\n",
        "            'gpt2':         dict(n_layer=12, n_head=12, n_embd=768),  # 124M params\n",
        "            'gpt2-medium':  dict(n_layer=24, n_head=16, n_embd=1024), # 350M params\n",
        "            'gpt2-large':   dict(n_layer=36, n_head=20, n_embd=1280), # 774M params\n",
        "            'gpt2-xl':      dict(n_layer=48, n_head=25, n_embd=1600), # 1558M params\n",
        "        }[model_type]\n",
        "        print(\"forcing vocab_size=50257, block_size=1024, bias=True\")\n",
        "        config_args['vocab_size'] = 50257 # always 50257 for GPT model checkpoints\n",
        "        config_args['block_size'] = 1024 # always 1024 for GPT model checkpoints\n",
        "        config_args['bias'] = True # always True for GPT model checkpoints\n",
        "        # we can override the dropout rate, if desired\n",
        "        if 'dropout' in override_args:\n",
        "            print(f\"overriding dropout rate to {override_args['dropout']}\")\n",
        "            config_args['dropout'] = override_args['dropout']\n",
        "        # create a from-scratch initialized minGPT model\n",
        "        config = GPTConfig(**config_args)\n",
        "        model = GPT(config)\n",
        "        sd = model.state_dict()\n",
        "        sd_keys = sd.keys()\n",
        "        sd_keys = [k for k in sd_keys if not k.endswith('.attn.bias')] # discard this mask / buffer, not a param\n",
        "\n",
        "        # init a huggingface/transformers model\n",
        "        model_hf = GPT2LMHeadModel.from_pretrained(model_type)\n",
        "        sd_hf = model_hf.state_dict()\n",
        "\n",
        "        # copy while ensuring all of the parameters are aligned and match in names and shapes\n",
        "        sd_keys_hf = sd_hf.keys()\n",
        "        sd_keys_hf = [k for k in sd_keys_hf if not k.endswith('.attn.masked_bias')] # ignore these, just a buffer\n",
        "        sd_keys_hf = [k for k in sd_keys_hf if not k.endswith('.attn.bias')] # same, just the mask (buffer)\n",
        "        transposed = ['attn.c_attn.weight', 'attn.c_proj.weight', 'mlp.c_fc.weight', 'mlp.c_proj.weight']\n",
        "        # basically the openai checkpoints use a \"Conv1D\" module, but we only want to use a vanilla Linear\n",
        "        # this means that we have to transpose these weights when we import them\n",
        "        assert len(sd_keys_hf) == len(sd_keys), f\"mismatched keys: {len(sd_keys_hf)} != {len(sd_keys)}\"\n",
        "        for k in sd_keys_hf:\n",
        "            if any(k.endswith(w) for w in transposed):\n",
        "                # special treatment for the Conv1D weights we need to transpose\n",
        "                assert sd_hf[k].shape[::-1] == sd[k].shape\n",
        "                with torch.no_grad():\n",
        "                    sd[k].copy_(sd_hf[k].t())\n",
        "            else:\n",
        "                # vanilla copy over the other parameters\n",
        "                assert sd_hf[k].shape == sd[k].shape\n",
        "                with torch.no_grad():\n",
        "                    sd[k].copy_(sd_hf[k])\n",
        "\n",
        "        return model\n",
        "\n",
        "    def configure_optimizers(self, weight_decay, learning_rate, betas, device_type):\n",
        "        # start with all of the candidate parameters\n",
        "        param_dict = {pn: p for pn, p in self.named_parameters()}\n",
        "        # filter out those that do not require grad\n",
        "        param_dict = {pn: p for pn, p in param_dict.items() if p.requires_grad}\n",
        "        # create optim groups. Any parameters that is 2D will be weight decayed, otherwise no.\n",
        "        # i.e. all weight tensors in matmuls + embeddings decay, all biases and layernorms don't.\n",
        "        decay_params = [p for n, p in param_dict.items() if p.dim() >= 2]\n",
        "        nodecay_params = [p for n, p in param_dict.items() if p.dim() < 2]\n",
        "        optim_groups = [\n",
        "            {'params': decay_params, 'weight_decay': weight_decay},\n",
        "            {'params': nodecay_params, 'weight_decay': 0.0}\n",
        "        ]\n",
        "        num_decay_params = sum(p.numel() for p in decay_params)\n",
        "        num_nodecay_params = sum(p.numel() for p in nodecay_params)\n",
        "        print(f\"num decayed parameter tensors: {len(decay_params)}, with {num_decay_params:,} parameters\")\n",
        "        print(f\"num non-decayed parameter tensors: {len(nodecay_params)}, with {num_nodecay_params:,} parameters\")\n",
        "        # Create AdamW optimizer and use the fused version if it is available\n",
        "        fused_available = 'fused' in inspect.signature(torch.optim.AdamW).parameters\n",
        "        use_fused = fused_available and device_type == 'cuda'\n",
        "        extra_args = dict(fused=True) if use_fused else dict()\n",
        "        optimizer = torch.optim.AdamW(optim_groups, lr=learning_rate, betas=betas, **extra_args)\n",
        "        print(f\"using fused AdamW: {use_fused}\")\n",
        "\n",
        "        return optimizer\n",
        "\n",
        "    def estimate_mfu(self, fwdbwd_per_iter, dt):\n",
        "        \"\"\" estimate model flops utilization (MFU) in units of A100 bfloat16 peak FLOPS \"\"\"\n",
        "        # first estimate the number of flops we do per iteration.\n",
        "        # see PaLM paper Appendix B as ref: https://arxiv.org/abs/2204.02311\n",
        "        N = self.get_num_params()\n",
        "        cfg = self.config\n",
        "        L, H, Q, T = cfg.n_layer, cfg.n_head, cfg.n_embd//cfg.n_head, cfg.block_size\n",
        "        flops_per_token = 6*N + 12*L*H*Q*T\n",
        "        flops_per_fwdbwd = flops_per_token * T\n",
        "        flops_per_iter = flops_per_fwdbwd * fwdbwd_per_iter\n",
        "        # express our flops throughput as ratio of A100 bfloat16 peak flops\n",
        "        flops_achieved = flops_per_iter * (1.0/dt) # per second\n",
        "        flops_promised = 312e12 # A100 GPU bfloat16 peak flops is 312 TFLOPS\n",
        "        mfu = flops_achieved / flops_promised\n",
        "        return mfu\n",
        "\n",
        "    @torch.no_grad()\n",
        "    def generate(self, idx: torch.Tensor, new_tokens: int, temperature: float=1.0, top_k: int|None=None) -> torch.Tensor:\n",
        "        \"\"\"\n",
        "        Take a conditioning sequence of indices idx (LongTensor of shape (b,t)) and complete\n",
        "        the sequence max_new_tokens times, feeding the predictions back into the model each time.\n",
        "        Make sure to account for the fact that input sequences or intermediate generation might\n",
        "        be longer than the max block size, you have to process those (yor code cannot generate\n",
        "        an error in this case).\n",
        "\n",
        "        Args:\n",
        "            idx (torch.Tensor): a tensor of tokenized inputs of shape (b,t) where b is a batch\n",
        "            and t is the time axis.\n",
        "            new_tokens (int): the number of tokens to return\n",
        "            temperature (float): the sampling temperature for the softmax operation\n",
        "\n",
        "        Return:\n",
        "            torch.Tensor: a tensor of autoregressively sampled next ids\n",
        "        \"\"\"\n",
        "        # pass  # TODO\n",
        "        b, t = idx.size()\n",
        "        # Initialize a list to store the generated token ids\n",
        "        generated_tokens = []\n",
        "\n",
        "        for _ in range(new_tokens):\n",
        "            # Forward pass through the model to get logits for the next token\n",
        "            logits, _ = self.forward(idx)\n",
        "            # Extract the logits for the last token in the sequence\n",
        "            next_token_logits = logits[:, -1, :]\n",
        "            # Apply temperature scaling to the logits\n",
        "            next_token_logits /= temperature\n",
        "            # Apply top-k sampling if specified\n",
        "            if top_k is not None:\n",
        "                next_token_logits = top_k_logits(next_token_logits, top_k)\n",
        "            # Sample the next token using the softmax distribution\n",
        "            next_token_probs = F.softmax(next_token_logits, dim=-1)\n",
        "            next_token_id = torch.multinomial(next_token_probs, num_samples=1)\n",
        "            # Append the sampled token id to the list of generated tokens\n",
        "            generated_tokens.append(next_token_id)\n",
        "            # Concatenate the sampled token id with the input sequence for the next iteration\n",
        "            idx = torch.cat([idx, next_token_id], dim=1)\n",
        "\n",
        "        # Stack the list of generated token ids into a single tensor\n",
        "        generated_tokens = torch.stack(generated_tokens, dim=1)\n",
        "\n",
        "        return generated_tokens\n"
      ]
    },
    {
      "cell_type": "code",
      "execution_count": 23,
      "id": "d785319d",
      "metadata": {
        "id": "d785319d"
      },
      "outputs": [],
      "source": [
        "# TODO: test code here (this will only run after the Blocks are defined further below, sorry about that)"
      ]
    },
    {
      "cell_type": "markdown",
      "id": "afb5b193",
      "metadata": {
        "id": "afb5b193"
      },
      "source": [
        "Doing a first-pass read on both the `__init__()` and `forward()` methods,\n",
        "you should see that the GPT model has the following components (ignoring\n",
        "dropout):\n",
        "\n",
        "- `transformer.wte`, which is an embedding layer that maps tokens\n",
        "  to a vector embedding.\n",
        "- `transformer.wtp`, is also an embedding layer, but this one maps\n",
        "  **token position indices** to a vector embedding. This index is required to\n",
        "  inject position information into the embedding---otherwise transformer computation\n",
        "  would be invariant to the reordering of input tokens (i.e., the computation would not\n",
        "  change if the order of the input tokens change).\n",
        "  Since the length of a sequence is at most `block_size`, so there\n",
        "  are at most `block_size` indices to embed.\n",
        "- A sequence of `Block`s --- to be defined. The output from the previous block\n",
        "  is taken as the input of the next block.\n",
        "- A final `LayerNorm` layer after the last block. This layer is also yet to be\n",
        "  defined, and the name suggests that this is a normalization layer (similar to\n",
        "  batch normalization) that does *not* change the shape of the features\n",
        "  (i.e., the output shape is the same as the input shape).\n",
        "- `lm_head`, which is a linear layer that maps embeddings back to a distribution\n",
        "  over the possible otuput tokens.\n",
        "\n",
        "**Task**: Compute the number of parameters in the `wte` embedding layer of the GPT2 model. (For these and other questions that specifically mention GPT2 model,\n",
        "please use the config settings above and provide an actual numbers.)"
      ]
    },
    {
      "cell_type": "code",
      "execution_count": 24,
      "id": "66cfdccc",
      "metadata": {
        "id": "66cfdccc"
      },
      "outputs": [],
      "source": [
        "# TODO: Perform this computation by hand."
      ]
    },
    {
      "cell_type": "markdown",
      "id": "4e93a6cd",
      "metadata": {
        "id": "4e93a6cd"
      },
      "source": [
        "**Task**: Compute the number of parameters in the `wtp` embedding layer of the GPT2 model."
      ]
    },
    {
      "cell_type": "code",
      "execution_count": 25,
      "id": "39c6daf2",
      "metadata": {
        "id": "39c6daf2"
      },
      "outputs": [],
      "source": [
        "# TODO: Perform this computation by hand."
      ]
    },
    {
      "cell_type": "markdown",
      "id": "d6b43ff2",
      "metadata": {
        "id": "d6b43ff2"
      },
      "source": [
        "**Graded Task**: Explain why the linear layer `lm_head` has the same number\n",
        "of parameters as the embedding layer `wte`. Provide an intuitive explanation\n",
        "for why **weight tying**---i.e., using the same set of weights for both layers,\n",
        "just transposed---would be reasonable. The weight tying is done to reduce the\n",
        "total number of parameters in the GPT2 model."
      ]
    },
    {
      "cell_type": "markdown",
      "source": [
        "My answer: By equating the weights in the embedding layer in the encoder to the linear output layer in the decoder, we ensure that the representations used to encode the input are consistent with the representations used to generate the output. Reducing the total parameters the model needs to learn also effectively reduce overfitting by limitting the model capacity to memorizing noise and redundant information."
      ],
      "metadata": {
        "id": "amozruZdBD45"
      },
      "id": "amozruZdBD45"
    },
    {
      "cell_type": "markdown",
      "id": "559c8e0b",
      "metadata": {
        "id": "559c8e0b"
      },
      "source": [
        "**Task**: Explain why it is that in the `forward()` method, the tensor `tok_emb` has\n",
        "the shape `(b, t, n_embd)`, where `b` is the batch size, `t` is the sequence\n",
        "length (max `block_size`), and `n_embd` is the embedding size."
      ]
    },
    {
      "cell_type": "code",
      "execution_count": 26,
      "id": "eeb74156",
      "metadata": {
        "id": "eeb74156"
      },
      "outputs": [],
      "source": [
        "# TODO: Include your explanations here"
      ]
    },
    {
      "cell_type": "markdown",
      "id": "a6a4dc23",
      "metadata": {
        "id": "a6a4dc23"
      },
      "source": [
        "**Task**: Notice that in the `forward()` method, the tensor `pos_emb` has\n",
        "the shape `(t, n_embd)`. In other words, we embed the position only once for\n",
        "each batch, and then rely on PyTorch tensor broadcasting to perform the\n",
        "addition `tok_emb + pos_emb`. Why is this ok?"
      ]
    },
    {
      "cell_type": "code",
      "execution_count": 27,
      "id": "acb5fbb8",
      "metadata": {
        "id": "acb5fbb8"
      },
      "outputs": [],
      "source": [
        "# TODO: Include your explanations here"
      ]
    },
    {
      "cell_type": "markdown",
      "id": "8e2b5f8b",
      "metadata": {
        "id": "8e2b5f8b"
      },
      "source": [
        "**Task**: What is the shape of `tok_emb + pos_emb`  in the `forward()` method\n",
        "in a GPT2 model?\n",
        "This question is not trivial because the two addend tensors are not of the\n",
        "same shape.\n",
        "Thus, the addition uses broadcasting. PyTorch broadcasting works similarly to\n",
        "that of Numpy's.  You can look up \"PyTorch broadcasting\" to find resources\n",
        "related to how broadcasting works."
      ]
    },
    {
      "cell_type": "code",
      "execution_count": 28,
      "id": "dffa9df1",
      "metadata": {
        "id": "dffa9df1"
      },
      "outputs": [],
      "source": [
        "# TODO: Perform this computation by hand."
      ]
    },
    {
      "cell_type": "markdown",
      "id": "db099778",
      "metadata": {
        "id": "db099778"
      },
      "source": [
        "**Graded Task**: What is the shape of `x`  in the `forward()` method? This is an\n",
        "important shape to remember, since it is the shape of the feature map consistent\n",
        "in most of the transformer network."
      ]
    },
    {
      "cell_type": "markdown",
      "source": [
        "My answer: The shape of x in the forward() method is (batch_size, sequence_length, n_embd). This is because originally in line tok_emb is the token embeddings of shape (batch_size, sequence_length, n_embd) and pos_emb is the position embeddings of shape (sequence_length, n_embd).The shape of (tok_emb + pos_emb) is (batch_size, sequence_length, n_embd). When we pass it to the dropout layer, the operation only impacts each element of the tensor, and the overall dimension is reserved. Thus, the shape of x is (batch_size, sequence_length, n_embd)."
      ],
      "metadata": {
        "id": "FQP-G3vlBfu0"
      },
      "id": "FQP-G3vlBfu0"
    },
    {
      "cell_type": "markdown",
      "id": "07b4510f",
      "metadata": {
        "id": "07b4510f"
      },
      "source": [
        "**Task**: What is the shape of `logits`  in the `forward()` method?"
      ]
    },
    {
      "cell_type": "code",
      "execution_count": 29,
      "id": "c8c96349",
      "metadata": {
        "id": "c8c96349"
      },
      "outputs": [],
      "source": [
        "# TODO: Perform this computation by hand."
      ]
    },
    {
      "cell_type": "markdown",
      "id": "15cabec9",
      "metadata": {
        "id": "15cabec9"
      },
      "source": [
        "These questions above should give you a clear idea of the main components\n",
        "of the transformer model, the expected input and output tensor shapes, and\n",
        "the shapes of intermediate tensors. With this in mind, let's explore\n",
        "the two modules referenced by `GPT`.\n",
        "\n",
        "We'll start with the simple one. The LayerNorm layer is intended to be\n",
        "similar to [PyTorch's LayerNorm layer](https://pytorch.org/docs/stable/generated/torch.nn.LayerNorm.html#torch.nn.LayerNorm)."
      ]
    },
    {
      "cell_type": "code",
      "execution_count": 30,
      "id": "b2d10dd9",
      "metadata": {
        "id": "b2d10dd9"
      },
      "outputs": [],
      "source": [
        "class LayerNorm(nn.Module):\n",
        "    \"\"\" LayerNorm but with an optional bias. PyTorch doesn't support simply bias=False \"\"\"\n",
        "\n",
        "    def __init__(self, ndim, bias):\n",
        "        super().__init__()\n",
        "        self.weight = nn.Parameter(torch.ones(ndim))\n",
        "        self.bias = nn.Parameter(torch.zeros(ndim)) if bias else None\n",
        "\n",
        "    def forward(self, input):\n",
        "        return F.layer_norm(input, self.weight.shape, self.weight, self.bias, 1e-5)"
      ]
    },
    {
      "cell_type": "markdown",
      "id": "f96a22c8",
      "metadata": {
        "id": "f96a22c8"
      },
      "source": [
        "**Task**: How many parameters are in a LayerNorm layer?"
      ]
    },
    {
      "cell_type": "code",
      "execution_count": 31,
      "id": "2a85264e",
      "metadata": {
        "id": "2a85264e"
      },
      "outputs": [],
      "source": [
        "# TODO: Perform this computation by hand."
      ]
    },
    {
      "cell_type": "markdown",
      "id": "2821e28f",
      "metadata": {
        "id": "2821e28f"
      },
      "source": [
        "**Task**: Read the description of the LayerNorm layer in PyTorch at\n",
        "[https://pytorch.org/docs/stable/generated/torch.nn.LayerNorm.html#torch.nn.LayerNorm](https://pytorch.org/docs/stable/generated/torch.nn.LayerNorm.html#torch.nn.LayerNorm). Then, explain how layer normalization differs from batch normalization."
      ]
    },
    {
      "cell_type": "code",
      "execution_count": 32,
      "id": "78581d7d",
      "metadata": {
        "id": "78581d7d"
      },
      "outputs": [],
      "source": [
        "# TODO: Perform this computation by hand."
      ]
    },
    {
      "cell_type": "markdown",
      "id": "1f4de174",
      "metadata": {
        "id": "1f4de174"
      },
      "source": [
        "Let's move on to the `Block` module. Recall that here are several `Block`\n",
        "modules in a GPT model, and the output of one module is the input of the next."
      ]
    },
    {
      "cell_type": "code",
      "execution_count": 33,
      "id": "29660279",
      "metadata": {
        "id": "29660279"
      },
      "outputs": [],
      "source": [
        "class Block(nn.Module):\n",
        "\n",
        "    def __init__(self, config):\n",
        "        super().__init__()\n",
        "        self.ln_1 = LayerNorm(config.n_embd, bias=config.bias)\n",
        "        self.attn = CausalSelfAttention(config)\n",
        "        self.ln_2 = LayerNorm(config.n_embd, bias=config.bias)\n",
        "        self.mlp = MLP(config)\n",
        "\n",
        "    def forward(self, x):\n",
        "        x = x + self.attn(self.ln_1(x))\n",
        "        x = x + self.mlp(self.ln_2(x))\n",
        "        return x"
      ]
    },
    {
      "cell_type": "markdown",
      "id": "03aa194a",
      "metadata": {
        "id": "03aa194a"
      },
      "source": [
        "This module is actually quite succinct, but it also refers to modules that are\n",
        "yet to be defined. It consists of:\n",
        "\n",
        "- A layer normalization layer.\n",
        "- A **causal self attention** layer (to be defined). This is the heart of the GPT model.\n",
        "- Another layer normalization layer.\n",
        "- An MLP layer (to be defined).\n",
        "\n",
        "**Task**: Judging by the `Block.forward()` method above, why must\n",
        "the `CausalSelfAttention` and the `MLP` layers\n",
        "**preserve the shape of the features**?"
      ]
    },
    {
      "cell_type": "code",
      "execution_count": 34,
      "id": "2408be59",
      "metadata": {
        "id": "2408be59"
      },
      "outputs": [],
      "source": [
        "# TODO: Include your explanation here."
      ]
    },
    {
      "cell_type": "markdown",
      "id": "714df529",
      "metadata": {
        "id": "714df529"
      },
      "source": [
        "**Task**: How might the *skip-connections* in the `Block.forward()` method\n",
        "help with gradient flow? An intuitive explanation is sufficient here."
      ]
    },
    {
      "cell_type": "code",
      "execution_count": 35,
      "id": "c709c541",
      "metadata": {
        "id": "c709c541"
      },
      "outputs": [],
      "source": [
        "# TODO: Include your explanation here."
      ]
    },
    {
      "cell_type": "markdown",
      "id": "d00cd112",
      "metadata": {
        "id": "d00cd112"
      },
      "source": [
        "With the GPT2 `Block` in mind, we will define the `MLP` module next."
      ]
    },
    {
      "cell_type": "code",
      "execution_count": 36,
      "id": "811b239a",
      "metadata": {
        "id": "811b239a"
      },
      "outputs": [],
      "source": [
        "class MLP(nn.Module):\n",
        "\n",
        "    def __init__(self, config):\n",
        "        super().__init__()\n",
        "        self.c_fc    = nn.Linear(config.n_embd, 4 * config.n_embd, bias=config.bias)\n",
        "        self.gelu    = nn.GELU()\n",
        "        self.c_proj  = nn.Linear(4 * config.n_embd, config.n_embd, bias=config.bias)\n",
        "        self.dropout = nn.Dropout(config.dropout)\n",
        "\n",
        "    def forward(self, x):\n",
        "        x = self.c_fc(x)\n",
        "        x = self.gelu(x)\n",
        "        x = self.c_proj(x)\n",
        "        x = self.dropout(x)\n",
        "        return x"
      ]
    },
    {
      "cell_type": "markdown",
      "id": "c6d1d83a",
      "metadata": {
        "id": "c6d1d83a"
      },
      "source": [
        "Immediately, we see that this MLP consists of two linear layers.\n",
        "The activation function used between these two layers is the\n",
        "[Gaussian Error Linear Units function](https://pytorch.org/docs/stable/generated/torch.nn.GELU.html). You can read more about it in\n",
        "[this paper](https://arxiv.org/pdf/1606.08415.pdf).\n",
        "\n",
        "**Task**: Compute the number of parameters in a `MLP` layer in a GPT2 model."
      ]
    },
    {
      "cell_type": "code",
      "execution_count": 37,
      "id": "42ff1aa1",
      "metadata": {
        "id": "42ff1aa1"
      },
      "outputs": [],
      "source": [
        "# TODO: Perform this computation by hand"
      ]
    },
    {
      "cell_type": "markdown",
      "id": "68f1d219",
      "metadata": {
        "id": "68f1d219"
      },
      "source": [
        "**Task**: Recall that the input of the MLP layer is a tensor with the usual\n",
        "dimension computed earlier.\n",
        "What is the shape of `self.c_fc(x)` in the `MLP.forward()` method?\n",
        "What about the shape of the return value in this method?"
      ]
    },
    {
      "cell_type": "code",
      "execution_count": 38,
      "id": "3e7a74d4",
      "metadata": {
        "id": "3e7a74d4"
      },
      "outputs": [],
      "source": [
        "# TODO: Perform this computation by hand"
      ]
    },
    {
      "cell_type": "markdown",
      "id": "8e30b2e8",
      "metadata": {
        "id": "8e30b2e8"
      },
      "source": [
        "**Task**: Explain why this MLP layer is also called the \"pointwise feed forward\"\n",
        "layer.  (Hint: a \"point\" here refers to a single token or position in the input\n",
        "sequence)"
      ]
    },
    {
      "cell_type": "code",
      "execution_count": 39,
      "id": "cd9df9dd",
      "metadata": {
        "id": "cd9df9dd"
      },
      "outputs": [],
      "source": [
        "# TODO: Include your explanation here."
      ]
    },
    {
      "cell_type": "markdown",
      "id": "93d9f81c",
      "metadata": {
        "id": "93d9f81c"
      },
      "source": [
        "Finally, let's study the definition of the `CausalSelfAttention` layer.\n",
        "This is the heart of the GPT model and is also the most complex module.\n",
        "\n",
        "**Task**: Begin with a first pass read of the `__init__()`\n",
        "and `forward()` methods of `CausalSelfAttention` module.\n",
        "We will then trace through the case where `self.flash` is `False`, since\n",
        "the code provides more detailed explanation for the computation steps.\n",
        "\n",
        "**Graded Taks**: Fill in the missing `else` block in the `forward` method. This computes attention by hand. Verify your solution!"
      ]
    },
    {
      "cell_type": "code",
      "execution_count": 40,
      "id": "b4e1914c",
      "metadata": {
        "id": "b4e1914c"
      },
      "outputs": [],
      "source": [
        "class CausalSelfAttention(nn.Module):\n",
        "\n",
        "    def __init__(self, config):\n",
        "        super().__init__()\n",
        "        assert config.n_embd % config.n_head == 0\n",
        "        # key, query, value projections for all heads, but in a batch\n",
        "        self.c_attn = nn.Linear(config.n_embd, 3 * config.n_embd, bias=config.bias)\n",
        "        # output projection\n",
        "        self.c_proj = nn.Linear(config.n_embd, config.n_embd, bias=config.bias)\n",
        "        # regularization\n",
        "        self.attn_dropout = nn.Dropout(config.dropout)\n",
        "        self.resid_dropout = nn.Dropout(config.dropout)\n",
        "        self.n_head = config.n_head\n",
        "        self.n_embd = config.n_embd\n",
        "        self.dropout = config.dropout\n",
        "        # flash attention make GPU go brrrrr but support is only in PyTorch >= 2.0\n",
        "        self.flash = hasattr(torch.nn.functional, 'scaled_dot_product_attention')\n",
        "        if not self.flash:\n",
        "            print(\"WARNING: using slow attention. Flash Attention requires PyTorch >= 2.0\")\n",
        "            # causal mask to ensure that attention is only applied to the left in the input sequence\n",
        "            self.register_buffer(\"bias\", torch.tril(torch.ones(config.block_size, config.block_size))\n",
        "                                        .view(1, 1, config.block_size, config.block_size))\n",
        "\n",
        "    def forward(self, x):\n",
        "        B, T, C = x.size() # batch size, sequence length, embedding dimensionality (n_embd)\n",
        "\n",
        "        # calculate query, key, values for all heads in batch and move head forward to be the batch dim\n",
        "        q, k, v  = self.c_attn(x).split(self.n_embd, dim=2)\n",
        "        k = k.view(B, T, self.n_head, C // self.n_head).transpose(1, 2) # (B, nh, T, hs)\n",
        "        q = q.view(B, T, self.n_head, C // self.n_head).transpose(1, 2) # (B, nh, T, hs)\n",
        "        v = v.view(B, T, self.n_head, C // self.n_head).transpose(1, 2) # (B, nh, T, hs)\n",
        "\n",
        "        # causal self-attention; Self-attend: (B, nh, T, hs) x (B, nh, hs, T) -> (B, nh, T, T)\n",
        "        if self.flash:\n",
        "            # efficient attention using Flash Attention CUDA kernels\n",
        "            y = torch.nn.functional.scaled_dot_product_attention(q, k, v, attn_mask=None, dropout_p=self.dropout if self.training else 0, is_causal=True)\n",
        "        else:\n",
        "            # manual implementation of attention\n",
        "            # pass # TODO\n",
        "            attn_scores = torch.matmul(q[:, i], k[:, i].transpose(-2, -1)) / math.sqrt(k.size(-1))\n",
        "            attn_probs = torch.nn.functional.softmax(attn_scores, dim=-1)\n",
        "            attn_probs = self.attn_dropout(attn_probs)\n",
        "            # Weighted sum of values based on attention probabilities\n",
        "            y[:, i] = torch.matmul(attn_probs, v[:, i])\n",
        "\n",
        "        y = y.transpose(1, 2).contiguous().view(B, T, C) # re-assemble all head outputs side by side\n",
        "\n",
        "        # output projection\n",
        "        y = self.resid_dropout(self.c_proj(y))\n",
        "        return y"
      ]
    },
    {
      "cell_type": "markdown",
      "id": "b56ebd78",
      "metadata": {
        "id": "b56ebd78"
      },
      "source": [
        "**Task**: Compute the number of parameters in the `c_attn` layer in a GPT2 model."
      ]
    },
    {
      "cell_type": "code",
      "execution_count": 41,
      "id": "75eab3ef",
      "metadata": {
        "id": "75eab3ef"
      },
      "outputs": [],
      "source": [
        "# TODO: Perform this computation by hand"
      ]
    },
    {
      "cell_type": "markdown",
      "id": "bfd218d4",
      "metadata": {
        "id": "bfd218d4"
      },
      "source": [
        "**Task**: Like the comment in the `__init__()` method suggests,\n",
        "we can think of the `c_attn` layer as a combination of three\n",
        "`nn.Linear(config.n_embd, config.n_embd, bias=config.bias)` modules.\n",
        "These three networks projects the input embedding into three parts:\n",
        "`q` (for *query*), `k` (for *key*), and `v` (for *value).\n",
        "\n",
        "What is the shape of `self.c_attn(x)` in the `forward()` method?\n",
        "Use this answer to show that\n",
        "`self.c_attn(x).split(self.n_embd, dim=2)` gives us the\n",
        "same `q, k, v` values had we used three separate networks."
      ]
    },
    {
      "cell_type": "code",
      "execution_count": 42,
      "id": "d47f77e0",
      "metadata": {
        "id": "d47f77e0"
      },
      "outputs": [],
      "source": [
        "# TODO: Perform the computation by hand, then include your explaination."
      ]
    },
    {
      "cell_type": "markdown",
      "id": "1ab48946",
      "metadata": {
        "id": "1ab48946"
      },
      "source": [
        "**Task**: Explain why `config.n_head` must be a factor of `config.n_embd`."
      ]
    },
    {
      "cell_type": "code",
      "execution_count": 43,
      "id": "8cec6cae",
      "metadata": {
        "id": "8cec6cae"
      },
      "outputs": [],
      "source": [
        "# TODO: Your explanation goes here."
      ]
    },
    {
      "cell_type": "markdown",
      "id": "b330aacf",
      "metadata": {
        "id": "b330aacf"
      },
      "source": [
        "We will explore the manual implementation of attention in the next few\n",
        "questions. For this part, it helps to first consider the\n",
        "case where the batch size `B=1`, and `n_head=1`. For a larger batch size\n",
        "and number of heads, the attention computation is repeated for every\n",
        "sequence in the batch and every attention head. Thus, the shapes of\n",
        "the three important tensors are:\n",
        "\n",
        "- `q`: (1, 1, T, n_embd)\n",
        "- `k`: (1, 1, T, n_embd)\n",
        "- `v`: (1, 1, T, n_embd)\n",
        "\n",
        "Like discussed in the lectures, you can think of the attention mechanism\n",
        "as a \"soft\" dictionary lookup. Instead of obtaining a single key/values for\n",
        "a given query,\n",
        "attention gives us a *probability distribution over the possible keys/values*.\n",
        "We can then use this probability distribution to obtain a weighted sum\n",
        "(akin to an expected value) of the lookup value.\n",
        "Moreover, instead of having strings, numbers, or other objects as keys/values,\n",
        "a key is a vector (of shape `n_embd`), and a value is also a vector\n",
        "(of shape `n_embd`). This is consistent with what we have seen in\n",
        "neural networks---everything is represented using a vector!\n",
        "The tensors `k` and `v` contains these keys and values, and there is one\n",
        "vector at every token position. The tensor `q` contains the **queries**---\n",
        "analogues to the item (a possible key) that we are searching for in a regular\n",
        "dictionary lookup. There is also one query vector for each token position:\n",
        "for each token position, we want to look up a corresponding (weighted sum of) values\n",
        "that contains information pertinent to understanding the meaning of the token\n",
        "in this position.\n",
        "\n",
        "With that in mind, let's go through the mathematical computations.\n",
        "\n",
        "**Graded Task**: What is the shape of `(q @ k.transpose(-2, -1))`?\n",
        "For this and the following questions, assume that `q`, `k`, `v` have the\n",
        "shape above, where we have assumed that batch size and num heads are both 1."
      ]
    },
    {
      "cell_type": "code",
      "execution_count": 44,
      "id": "08ebe71a",
      "metadata": {
        "id": "08ebe71a"
      },
      "outputs": [],
      "source": [
        "# TODO: Perform this computation by hand"
      ]
    },
    {
      "cell_type": "markdown",
      "source": [
        "My answer: If q: (1, 1, T, n_embd) and k: (1, 1, T, n_embd), by performing k.transpose(-2, -1), we swap the last and second last diimension such that we enables matrix multiplication between shape (1, 1, T, n_embd) and (1, 1, n_embd, T)."
      ],
      "metadata": {
        "id": "-Sm4qevVab9N"
      },
      "id": "-Sm4qevVab9N"
    },
    {
      "cell_type": "markdown",
      "id": "bcac08d9",
      "metadata": {
        "id": "bcac08d9"
      },
      "source": [
        "**Task**: What is the value of math.sqrt(k.size(-1))?"
      ]
    },
    {
      "cell_type": "code",
      "execution_count": 45,
      "id": "539d89a5",
      "metadata": {
        "id": "539d89a5"
      },
      "outputs": [],
      "source": [
        "# TODO: Perform this computation by hand"
      ]
    },
    {
      "cell_type": "markdown",
      "id": "f25e4cc7",
      "metadata": {
        "id": "f25e4cc7"
      },
      "source": [
        "**Task**: Argue that the line `att = (q @ k.transpose(-2, -1)) * (1.0 / math.sqrt(k.size(-1)))`  is computing a \"distance\" or \"similarity\" metric between the query at each token position and the key at each token position."
      ]
    },
    {
      "cell_type": "code",
      "execution_count": 46,
      "id": "fb651227",
      "metadata": {
        "id": "fb651227"
      },
      "outputs": [],
      "source": [
        "# TODO: Your explanation goes here"
      ]
    },
    {
      "cell_type": "markdown",
      "id": "03e5f00d",
      "metadata": {
        "id": "03e5f00d"
      },
      "source": [
        "The following line of code references a `self.bias` parameter, which is\n",
        "defined in the last line of the `__init__()` method. Since `block_size` is\n",
        "quite large, we can understand what `self.bias` looks like by running a\n",
        "similar piece of code below with a smaller `block_size` value."
      ]
    },
    {
      "cell_type": "code",
      "execution_count": 47,
      "id": "d8846b4f",
      "metadata": {
        "colab": {
          "base_uri": "https://localhost:8080/"
        },
        "id": "d8846b4f",
        "outputId": "33a818e2-c506-4790-d621-b7d701851a6c"
      },
      "outputs": [
        {
          "output_type": "execute_result",
          "data": {
            "text/plain": [
              "tensor([[[[1., 0., 0., 0., 0.],\n",
              "          [1., 1., 0., 0., 0.],\n",
              "          [1., 1., 1., 0., 0.],\n",
              "          [1., 1., 1., 1., 0.],\n",
              "          [1., 1., 1., 1., 1.]]]])"
            ]
          },
          "metadata": {},
          "execution_count": 47
        }
      ],
      "source": [
        "bias = torch.tril(torch.ones(5, 5)).view(1, 1, 5, 5)\n",
        "bias"
      ]
    },
    {
      "cell_type": "markdown",
      "id": "67f7b199",
      "metadata": {
        "id": "67f7b199"
      },
      "source": [
        "**Task**: Explain what the above code returns. Explain how PyTorch\n",
        "broadcasting may be useful for computations involving this tensor---i.e.,\n",
        "why is it okay that the first two dimensions of this tensor are 1,\n",
        "thus assuming that batch size = 1 and num heads = 1?"
      ]
    },
    {
      "cell_type": "code",
      "execution_count": 48,
      "id": "1f37e90c",
      "metadata": {
        "id": "1f37e90c"
      },
      "outputs": [],
      "source": [
        "# TODO: Your explanation goes here"
      ]
    },
    {
      "cell_type": "markdown",
      "id": "febc960d",
      "metadata": {
        "id": "febc960d"
      },
      "source": [
        "**Task**: We will use a similar technique of running a modified version\n",
        "of the next two lines of code in the `forward()` method to better understand\n",
        "what it does.  Run the below code, and explain what the `masked_fill`\n",
        "function does."
      ]
    },
    {
      "cell_type": "code",
      "execution_count": 49,
      "id": "ccb50280",
      "metadata": {
        "colab": {
          "base_uri": "https://localhost:8080/"
        },
        "id": "ccb50280",
        "outputId": "f1f5480e-b9a3-4e4b-cf3c-de0a7d2c8939"
      },
      "outputs": [
        {
          "output_type": "execute_result",
          "data": {
            "text/plain": [
              "tensor([[[[0.8542, 0.0095, 0.7858, 0.6017, 0.5811],\n",
              "          [0.8722, 0.0420, 0.6431, 0.1885, 0.7475],\n",
              "          [0.5463, 0.0528, 0.6840, 0.7529, 0.8237],\n",
              "          [0.5832, 0.5592, 0.6714, 0.3071, 0.7812],\n",
              "          [0.9573, 0.0464, 0.9784, 0.1775, 0.1317]]]])"
            ]
          },
          "metadata": {},
          "execution_count": 49
        }
      ],
      "source": [
        "attn = torch.rand(1, 1, 5, 5)\n",
        "attn"
      ]
    },
    {
      "cell_type": "code",
      "execution_count": 50,
      "id": "d9f61812",
      "metadata": {
        "colab": {
          "base_uri": "https://localhost:8080/"
        },
        "id": "d9f61812",
        "outputId": "974d1282-6a73-42ef-a679-deb1e2e8ba21"
      },
      "outputs": [
        {
          "output_type": "execute_result",
          "data": {
            "text/plain": [
              "tensor([[[[0.8542,   -inf,   -inf,   -inf,   -inf],\n",
              "          [0.8722, 0.0420,   -inf,   -inf,   -inf],\n",
              "          [0.5463, 0.0528, 0.6840,   -inf,   -inf],\n",
              "          [0.5832, 0.5592, 0.6714, 0.3071,   -inf],\n",
              "          [0.9573, 0.0464, 0.9784, 0.1775, 0.1317]]]])"
            ]
          },
          "metadata": {},
          "execution_count": 50
        }
      ],
      "source": [
        "masked = attn.masked_fill(bias[:,:,:5, :5] == 0, float('-inf'))\n",
        "masked"
      ]
    },
    {
      "cell_type": "code",
      "execution_count": 51,
      "id": "f557bcdf",
      "metadata": {
        "colab": {
          "base_uri": "https://localhost:8080/"
        },
        "id": "f557bcdf",
        "outputId": "d910d4ce-d24d-4019-840b-c9ef65548b13"
      },
      "outputs": [
        {
          "output_type": "execute_result",
          "data": {
            "text/plain": [
              "tensor([[[[1.0000, 0.0000, 0.0000, 0.0000, 0.0000],\n",
              "          [0.6964, 0.3036, 0.0000, 0.0000, 0.0000],\n",
              "          [0.3626, 0.2213, 0.4161, 0.0000, 0.0000],\n",
              "          [0.2613, 0.2551, 0.2854, 0.1982, 0.0000],\n",
              "          [0.3012, 0.1211, 0.3076, 0.1381, 0.1319]]]])"
            ]
          },
          "metadata": {},
          "execution_count": 51
        }
      ],
      "source": [
        "out = F.softmax(masked, dim=-1)\n",
        "out"
      ]
    },
    {
      "cell_type": "code",
      "execution_count": 52,
      "id": "c495c581",
      "metadata": {
        "id": "c495c581"
      },
      "outputs": [],
      "source": [
        "# Your explanation goes here"
      ]
    },
    {
      "cell_type": "markdown",
      "id": "d430ae25",
      "metadata": {
        "id": "d430ae25"
      },
      "source": [
        "**Graded Task**: This masking is in place so that query tokens cannot\n",
        "\"look up\" key/values that are at a position with a larger index.\n",
        "Explain why this limitation means our GPT model cannot use information\n",
        "in subsequent/later tokens to form an understand of what what is in\n",
        "the current token.\n",
        "(Note: this masking is the \"Causal\" part of Causal Self-Attention!)"
      ]
    },
    {
      "cell_type": "code",
      "execution_count": 53,
      "id": "2346ea89",
      "metadata": {
        "id": "2346ea89"
      },
      "outputs": [],
      "source": [
        "# Your explanation goes here"
      ]
    },
    {
      "cell_type": "markdown",
      "source": [
        "My answer: for every query token at position i in the sequence, because our mask is a bias matrix that is applied to the attention, we only keep any key and value tokens up to position i. In this way, we mimick the natural flow of language generation or processing."
      ],
      "metadata": {
        "id": "Jl0TmS3ucvG1"
      },
      "id": "Jl0TmS3ucvG1"
    },
    {
      "cell_type": "markdown",
      "id": "3f4a2d0e",
      "metadata": {
        "id": "3f4a2d0e"
      },
      "source": [
        "**Task**: Your answer above explains which positions in the\n",
        "`out` tensor need to be set to zero. Explain why setting the\n",
        "corresponding value of pre-softmax tensor `masked` to `-inf`\n",
        "is necessary. Why can't we set the value of `masked` to 0\n",
        "in these positions?"
      ]
    },
    {
      "cell_type": "code",
      "execution_count": 54,
      "id": "3310b282",
      "metadata": {
        "id": "3310b282"
      },
      "outputs": [],
      "source": [
        "# Your argument goes here"
      ]
    },
    {
      "cell_type": "markdown",
      "id": "48cdda81",
      "metadata": {
        "id": "48cdda81"
      },
      "source": [
        "**Task**: Argue that `out[0,0,0,0]` must always be 1."
      ]
    },
    {
      "cell_type": "code",
      "execution_count": 55,
      "id": "03ebaa49",
      "metadata": {
        "id": "03ebaa49"
      },
      "outputs": [],
      "source": [
        "# Your argument goes here"
      ]
    },
    {
      "cell_type": "markdown",
      "id": "47332408",
      "metadata": {
        "id": "47332408"
      },
      "source": [
        "**Task**: Now, `out` in our example is akin to the final value of `att`\n",
        "in the `CausalSelfAttention.forward()` method. Explain why\n",
        "the operation `y = att @ v` computes a weighted sum of values at each\n",
        "token position, where the weights are defined by `att`."
      ]
    },
    {
      "cell_type": "code",
      "execution_count": 56,
      "id": "fac81d71",
      "metadata": {
        "id": "fac81d71"
      },
      "outputs": [],
      "source": [
        "# Your explanation goes here"
      ]
    },
    {
      "cell_type": "markdown",
      "id": "da7d85a9",
      "metadata": {
        "id": "da7d85a9"
      },
      "source": [
        "**Task**: The above explanation pertain to a single attention head.\n",
        "Explain why using multiple attention heads allows a token position to\n",
        "consider information from various other positions. Alternatively,\n",
        "explain why using multiple heads might help the network learn different\n",
        "*ways* in which the meaning at one token could depend on other tokens."
      ]
    },
    {
      "cell_type": "code",
      "execution_count": 57,
      "id": "da8e485c",
      "metadata": {
        "id": "da8e485c"
      },
      "outputs": [],
      "source": [
        "# Your explanation goes here"
      ]
    },
    {
      "cell_type": "markdown",
      "id": "d949e61d",
      "metadata": {
        "id": "d949e61d"
      },
      "source": [
        "**Graded Task**: Compute the total number of parameters in a GPT2 model\n",
        "by computing the following. Please use actual numbers in each case, assuming\n",
        "the GPT2 configuration from above.\n",
        "\n",
        "1. The number of parameters in a `CausalSelfAttention` model.\n",
        "2. The number of parameters in a `MLP` module.\n",
        "3. The number of parameters in a `Block` module.\n",
        "4. The number of parameters in all `Block` modules in a GPT2 model.\n",
        "5. The number of parameters in the `wte` embedding layer in a GPT2 model.\n",
        "6. The total number of parameters in a GPT2 model.\n",
        "\n",
        "Please perform the computation either by hand (and show your work),\n",
        "or with a function that clearly shows the computations.\n",
        "\n",
        "You should see that approximately 30% of the GPT2 weight comes from\n",
        "the `wte` embedding layer. This is why weight tying is used in\n",
        "the `GPT` module!"
      ]
    },
    {
      "cell_type": "code",
      "execution_count": 58,
      "id": "ed1c9b67",
      "metadata": {
        "id": "ed1c9b67"
      },
      "outputs": [],
      "source": [
        "# TODO: Your work goes\n",
        "# recall that\n",
        "@dataclass\n",
        "class GPTConfig:\n",
        "    block_size: int = 1024\n",
        "    vocab_size: int = 50304 # GPT-2 vocab_size of 50257, padded up to nearest multiple of 64 for efficiency\n",
        "    n_layer: int = 12\n",
        "    n_head: int = 12\n",
        "    n_embd: int = 768\n",
        "    dropout: float = 0.0\n",
        "    bias: bool = True # True: bias in Linears and LayerNorms, like GPT-2. False: a bit better and faster"
      ]
    },
    {
      "cell_type": "code",
      "source": [
        "!pip install pytorch_model_summary"
      ],
      "metadata": {
        "colab": {
          "base_uri": "https://localhost:8080/"
        },
        "id": "KwmhZT28JbEN",
        "outputId": "2ba164ce-0f90-4e4b-bc0d-66d251ed59fb"
      },
      "id": "KwmhZT28JbEN",
      "execution_count": 70,
      "outputs": [
        {
          "output_type": "stream",
          "name": "stdout",
          "text": [
            "Collecting pytorch_model_summary\n",
            "  Downloading pytorch_model_summary-0.1.2-py3-none-any.whl (9.3 kB)\n",
            "Requirement already satisfied: tqdm in /usr/local/lib/python3.10/dist-packages (from pytorch_model_summary) (4.66.2)\n",
            "Requirement already satisfied: torch in /usr/local/lib/python3.10/dist-packages (from pytorch_model_summary) (2.2.1+cu121)\n",
            "Requirement already satisfied: numpy in /usr/local/lib/python3.10/dist-packages (from pytorch_model_summary) (1.25.2)\n",
            "Requirement already satisfied: filelock in /usr/local/lib/python3.10/dist-packages (from torch->pytorch_model_summary) (3.13.3)\n",
            "Requirement already satisfied: typing-extensions>=4.8.0 in /usr/local/lib/python3.10/dist-packages (from torch->pytorch_model_summary) (4.10.0)\n",
            "Requirement already satisfied: sympy in /usr/local/lib/python3.10/dist-packages (from torch->pytorch_model_summary) (1.12)\n",
            "Requirement already satisfied: networkx in /usr/local/lib/python3.10/dist-packages (from torch->pytorch_model_summary) (3.2.1)\n",
            "Requirement already satisfied: jinja2 in /usr/local/lib/python3.10/dist-packages (from torch->pytorch_model_summary) (3.1.3)\n",
            "Requirement already satisfied: fsspec in /usr/local/lib/python3.10/dist-packages (from torch->pytorch_model_summary) (2023.6.0)\n",
            "Collecting nvidia-cuda-nvrtc-cu12==12.1.105 (from torch->pytorch_model_summary)\n",
            "  Using cached nvidia_cuda_nvrtc_cu12-12.1.105-py3-none-manylinux1_x86_64.whl (23.7 MB)\n",
            "Collecting nvidia-cuda-runtime-cu12==12.1.105 (from torch->pytorch_model_summary)\n",
            "  Using cached nvidia_cuda_runtime_cu12-12.1.105-py3-none-manylinux1_x86_64.whl (823 kB)\n",
            "Collecting nvidia-cuda-cupti-cu12==12.1.105 (from torch->pytorch_model_summary)\n",
            "  Using cached nvidia_cuda_cupti_cu12-12.1.105-py3-none-manylinux1_x86_64.whl (14.1 MB)\n",
            "Collecting nvidia-cudnn-cu12==8.9.2.26 (from torch->pytorch_model_summary)\n",
            "  Using cached nvidia_cudnn_cu12-8.9.2.26-py3-none-manylinux1_x86_64.whl (731.7 MB)\n",
            "Collecting nvidia-cublas-cu12==12.1.3.1 (from torch->pytorch_model_summary)\n",
            "  Using cached nvidia_cublas_cu12-12.1.3.1-py3-none-manylinux1_x86_64.whl (410.6 MB)\n",
            "Collecting nvidia-cufft-cu12==11.0.2.54 (from torch->pytorch_model_summary)\n",
            "  Using cached nvidia_cufft_cu12-11.0.2.54-py3-none-manylinux1_x86_64.whl (121.6 MB)\n",
            "Collecting nvidia-curand-cu12==10.3.2.106 (from torch->pytorch_model_summary)\n",
            "  Using cached nvidia_curand_cu12-10.3.2.106-py3-none-manylinux1_x86_64.whl (56.5 MB)\n",
            "Collecting nvidia-cusolver-cu12==11.4.5.107 (from torch->pytorch_model_summary)\n",
            "  Using cached nvidia_cusolver_cu12-11.4.5.107-py3-none-manylinux1_x86_64.whl (124.2 MB)\n",
            "Collecting nvidia-cusparse-cu12==12.1.0.106 (from torch->pytorch_model_summary)\n",
            "  Using cached nvidia_cusparse_cu12-12.1.0.106-py3-none-manylinux1_x86_64.whl (196.0 MB)\n",
            "Collecting nvidia-nccl-cu12==2.19.3 (from torch->pytorch_model_summary)\n",
            "  Using cached nvidia_nccl_cu12-2.19.3-py3-none-manylinux1_x86_64.whl (166.0 MB)\n",
            "Collecting nvidia-nvtx-cu12==12.1.105 (from torch->pytorch_model_summary)\n",
            "  Using cached nvidia_nvtx_cu12-12.1.105-py3-none-manylinux1_x86_64.whl (99 kB)\n",
            "Requirement already satisfied: triton==2.2.0 in /usr/local/lib/python3.10/dist-packages (from torch->pytorch_model_summary) (2.2.0)\n",
            "Collecting nvidia-nvjitlink-cu12 (from nvidia-cusolver-cu12==11.4.5.107->torch->pytorch_model_summary)\n",
            "  Using cached nvidia_nvjitlink_cu12-12.4.127-py3-none-manylinux2014_x86_64.whl (21.1 MB)\n",
            "Requirement already satisfied: MarkupSafe>=2.0 in /usr/local/lib/python3.10/dist-packages (from jinja2->torch->pytorch_model_summary) (2.1.5)\n",
            "Requirement already satisfied: mpmath>=0.19 in /usr/local/lib/python3.10/dist-packages (from sympy->torch->pytorch_model_summary) (1.3.0)\n",
            "Installing collected packages: nvidia-nvtx-cu12, nvidia-nvjitlink-cu12, nvidia-nccl-cu12, nvidia-curand-cu12, nvidia-cufft-cu12, nvidia-cuda-runtime-cu12, nvidia-cuda-nvrtc-cu12, nvidia-cuda-cupti-cu12, nvidia-cublas-cu12, nvidia-cusparse-cu12, nvidia-cudnn-cu12, nvidia-cusolver-cu12, pytorch_model_summary\n",
            "Successfully installed nvidia-cublas-cu12-12.1.3.1 nvidia-cuda-cupti-cu12-12.1.105 nvidia-cuda-nvrtc-cu12-12.1.105 nvidia-cuda-runtime-cu12-12.1.105 nvidia-cudnn-cu12-8.9.2.26 nvidia-cufft-cu12-11.0.2.54 nvidia-curand-cu12-10.3.2.106 nvidia-cusolver-cu12-11.4.5.107 nvidia-cusparse-cu12-12.1.0.106 nvidia-nccl-cu12-2.19.3 nvidia-nvjitlink-cu12-12.4.127 nvidia-nvtx-cu12-12.1.105 pytorch_model_summary-0.1.2\n"
          ]
        }
      ]
    },
    {
      "cell_type": "code",
      "source": [
        "def get_n_params(model):\n",
        "    pp=0\n",
        "    for p in list(model.parameters()):\n",
        "        nn=1\n",
        "        for s in list(p.size()):\n",
        "            nn = nn*s\n",
        "            print(s)\n",
        "        pp += nn\n",
        "    return pp\n",
        "config = GPTConfig()\n",
        "# get_n_params(casual)\n",
        "from pytorch_model_summary import summary\n",
        "print(summary(CausalSelfAttention(config), torch.zeros((1, config.block_size, config.n_embd)), show_input=False, show_hierarchical=True))\n"
      ],
      "metadata": {
        "colab": {
          "base_uri": "https://localhost:8080/"
        },
        "id": "xiB9kKvHIgIL",
        "outputId": "0ecfe583-6668-4f98-e779-6702d963ba09"
      },
      "id": "xiB9kKvHIgIL",
      "execution_count": 85,
      "outputs": [
        {
          "output_type": "stream",
          "name": "stdout",
          "text": [
            "-----------------------------------------------------------------------\n",
            "      Layer (type)        Output Shape         Param #     Tr. Param #\n",
            "=======================================================================\n",
            "          Linear-1     [1, 1024, 2304]       1,771,776       1,771,776\n",
            "          Linear-2      [1, 1024, 768]         590,592         590,592\n",
            "         Dropout-3      [1, 1024, 768]               0               0\n",
            "=======================================================================\n",
            "Total params: 2,362,368\n",
            "Trainable params: 2,362,368\n",
            "Non-trainable params: 0\n",
            "-----------------------------------------------------------------------\n",
            "\n",
            "\n",
            "=============================== Hierarchical Summary ===============================\n",
            "\n",
            "CausalSelfAttention(\n",
            "  (c_attn): Linear(in_features=768, out_features=2304, bias=True), 1,771,776 params\n",
            "  (c_proj): Linear(in_features=768, out_features=768, bias=True), 590,592 params\n",
            "  (attn_dropout): Dropout(p=0.0, inplace=False), 0 params\n",
            "  (resid_dropout): Dropout(p=0.0, inplace=False), 0 params\n",
            "), 2,362,368 params\n",
            "\n",
            "\n",
            "====================================================================================\n",
            "\n"
          ]
        }
      ]
    },
    {
      "cell_type": "code",
      "source": [
        "import math\n",
        "print(summary(Block(config), torch.zeros((1, config.block_size,config.n_embd)), show_input=False, show_hierarchical=True))\n"
      ],
      "metadata": {
        "colab": {
          "base_uri": "https://localhost:8080/"
        },
        "id": "4EjWZRBqMe8u",
        "outputId": "555d6344-5980-4aac-f586-81ea36546022"
      },
      "id": "4EjWZRBqMe8u",
      "execution_count": 94,
      "outputs": [
        {
          "output_type": "stream",
          "name": "stdout",
          "text": [
            "-----------------------------------------------------------------------------\n",
            "            Layer (type)        Output Shape         Param #     Tr. Param #\n",
            "=============================================================================\n",
            "             LayerNorm-1      [1, 1024, 768]           1,536           1,536\n",
            "   CausalSelfAttention-2      [1, 1024, 768]       2,362,368       2,362,368\n",
            "             LayerNorm-3      [1, 1024, 768]           1,536           1,536\n",
            "                   MLP-4      [1, 1024, 768]       4,722,432       4,722,432\n",
            "=============================================================================\n",
            "Total params: 7,087,872\n",
            "Trainable params: 7,087,872\n",
            "Non-trainable params: 0\n",
            "-----------------------------------------------------------------------------\n",
            "\n",
            "\n",
            "================================ Hierarchical Summary ================================\n",
            "\n",
            "Block(\n",
            "  (ln_1): LayerNorm(), 1,536 params\n",
            "  (attn): CausalSelfAttention(\n",
            "    (c_attn): Linear(in_features=768, out_features=2304, bias=True), 1,771,776 params\n",
            "    (c_proj): Linear(in_features=768, out_features=768, bias=True), 590,592 params\n",
            "    (attn_dropout): Dropout(p=0.0, inplace=False), 0 params\n",
            "    (resid_dropout): Dropout(p=0.0, inplace=False), 0 params\n",
            "  ), 2,362,368 params\n",
            "  (ln_2): LayerNorm(), 1,536 params\n",
            "  (mlp): MLP(\n",
            "    (c_fc): Linear(in_features=768, out_features=3072, bias=True), 2,362,368 params\n",
            "    (gelu): GELU(approximate='none'), 0 params\n",
            "    (c_proj): Linear(in_features=3072, out_features=768, bias=True), 2,360,064 params\n",
            "    (dropout): Dropout(p=0.0, inplace=False), 0 params\n",
            "  ), 4,722,432 params\n",
            "), 7,087,872 params\n",
            "\n",
            "\n",
            "======================================================================================\n",
            "\n"
          ]
        }
      ]
    },
    {
      "cell_type": "code",
      "source": [
        "gpt = GPT(config)\n",
        "gpt.get_num_params()"
      ],
      "metadata": {
        "colab": {
          "base_uri": "https://localhost:8080/"
        },
        "id": "XYL4v0AHN9fs",
        "outputId": "e87afe54-c597-4e55-f4e2-eb92ee130425"
      },
      "id": "XYL4v0AHN9fs",
      "execution_count": 88,
      "outputs": [
        {
          "output_type": "stream",
          "name": "stdout",
          "text": [
            "number of parameters: 123.69M\n"
          ]
        },
        {
          "output_type": "execute_result",
          "data": {
            "text/plain": [
              "123689472"
            ]
          },
          "metadata": {},
          "execution_count": 88
        }
      ]
    },
    {
      "cell_type": "markdown",
      "source": [
        "1) CausalSelfAttention: 2362368\n",
        "recall that\n",
        "\n",
        "- self.c_attn = nn.Linear(config.n_embd, 3 * config.n_embd, bias=config.bias) # output projection\n",
        "- self.c_proj = nn.Linear(config.n_embd, config.n_embd, bias=config.bias)\n",
        "        \n",
        "\n",
        "Explanation:\n",
        " - c_attn has n_embd * (3*n_embd) + n_bias = 768 * (768 * 3) + 2304 = 1,771,776\n",
        " - c_proj is n_embd * n_embd + n_bias = 768x768 + 768 = 590,592\n",
        "\n",
        " 1,771,776 + 590,592 = 2,362,368\n",
        "\n",
        "\n",
        " 2) In MLP module: 4722432\n",
        " Explanation:\n",
        " - c_fc has 768 * (768 * 4) + bias (768*4)\n",
        " - gelu has no trainable\n",
        " - c_proj has 768 + (768 * 4) + bias 768+4)\n",
        " - dropout has no trainable\n",
        " - take prod & sum: 4722432\n",
        "\n",
        "\n",
        "3) The number of parameters in a Block module.\n",
        "- layernorm: 768, 768 (1 scale factor, 1 shift factor)\n",
        "- causual self attention: 2362368\n",
        "- layernorm: 768, 768 (1 scale, 1 shift)\n",
        "- mlp: 4722432\n",
        "- sum: 7087872\n",
        "\n",
        "4) The number of parameters in all Block modules in a GPT2 model.\n",
        "\n",
        "- blocklist: 7087872 * 12 (n_layers) = 85054464\n",
        "\n",
        "\n",
        "5) The number of parameters in the wte embedding layer in a GPT2 model.\n",
        "\n",
        " 50304 * 768 + 768 = 38634240\n",
        "\n",
        "6) The total number of parameters in a GPT2 model: 123689472\n",
        "\n",
        "- wte (no bias) : vocab size * n_embd = 50304 * 768\n",
        "- wpe (no trainable params)\n",
        "- blocklist: 7087872 * 12 (n_layers) = 85054464\n",
        "- ln_f has n_embd + bias = 768 * 2\n",
        "- lm_head has weight tying so sharing weights with wte.\n",
        "\n",
        "(50304 * 768 )  +  7087872 * 12 + (768 * 2) = 123689472"
      ],
      "metadata": {
        "id": "4PTdotWqFWHd"
      },
      "id": "4PTdotWqFWHd"
    },
    {
      "cell_type": "markdown",
      "id": "ec2c2398",
      "metadata": {
        "id": "ec2c2398"
      },
      "source": [
        "## Part 3. Training\n",
        "\n",
        "We are ready to finetune our GPT2 model on the \"Friends\" data set!\n",
        "There is no graded task in this section since training this model can\n",
        "take some time to achieve reasonable performance.\n",
        "\n",
        "To run this part of the lab, you will need to use a GPU. On Google Colab, you can select\n",
        "a session with a GPU by navigating to the \"Runtime\" menu, selecting\n",
        "\"Change runtime type\", and then selecting the \"T4 GPU\" option.\n",
        "\n",
        "We will set up a `config` object to make it easier to store\n",
        "and use configs."
      ]
    },
    {
      "cell_type": "code",
      "execution_count": 60,
      "id": "9db962ed",
      "metadata": {
        "colab": {
          "base_uri": "https://localhost:8080/"
        },
        "id": "9db962ed",
        "outputId": "082e336d-3525-441d-8e8b-3323f69c6b3f"
      },
      "outputs": [
        {
          "output_type": "stream",
          "name": "stdout",
          "text": [
            "Requirement already satisfied: easydict in /usr/local/lib/python3.10/dist-packages (1.13)\n"
          ]
        }
      ],
      "source": [
        "%pip install easydict"
      ]
    },
    {
      "cell_type": "code",
      "execution_count": 61,
      "id": "9b5305a3",
      "metadata": {
        "id": "9b5305a3"
      },
      "outputs": [],
      "source": [
        "import easydict\n",
        "import math\n",
        "import time\n",
        "\n",
        "finetune_config_dict = {\n",
        "  'gradient_accumulation_steps': 32,\n",
        "  'block_size': 256,\n",
        "  'dropout': 0.2,\n",
        "  'bias': False,\n",
        "  'learning_rate': 3e-5,\n",
        "  'weight_decay': 0.1,\n",
        "  'beta1': 0.9,\n",
        "  'beta2': 0.99,\n",
        "  'grad_clip': 1.0,\n",
        "  'decay_lr': False,\n",
        "  'warmup_iters': 100,\n",
        "  'lr_decay_iters': 5000,\n",
        "  'min_lr': 0.0001}\n",
        "config = easydict.EasyDict(finetune_config_dict)"
      ]
    },
    {
      "cell_type": "markdown",
      "id": "e0d6d856",
      "metadata": {
        "id": "e0d6d856"
      },
      "source": [
        "First, we need to load the GPT2 weights."
      ]
    },
    {
      "cell_type": "code",
      "execution_count": 62,
      "id": "dd943f5f",
      "metadata": {
        "colab": {
          "base_uri": "https://localhost:8080/",
          "height": 794,
          "referenced_widgets": [
            "03005dd4cefb434ab8f76b4b92e14ee6",
            "252c8463f0f94b64a6cf62193a1e9068",
            "d597362e6b3a4f848f7ac801560c3d96",
            "4574212e42174c24b5e660548fea496b",
            "ceb0f9bea7504f7cb46bac00465c50ef",
            "c053aa8f38d4460c84745f09e15e7e00",
            "3876cfa4b76649eb928ca02bf9b80cf9",
            "5d47c59df5d74592ad2b278d2ed76bdf",
            "e34298defb6440e39a85b3fdc6bd3115",
            "d29df21ff9dd491082723dc4f2531afa",
            "baa9e3a6bad2423a9db4baaadabee3a5",
            "b53ab22e24ce403d90d6c77c8b438d49",
            "186c7f3639984019b37fb65b29aea99f",
            "c73fbdcf9f3740f5b25b5a408f8a0899",
            "ca14d88ecfcb4cfb80f320f1233b4f00",
            "9c265bfcddbf41a78dfad68b75cd2743",
            "afad30f3dd7a41c8b2a721c07e1c3438",
            "6e77427c769d4a588eb9f894a72d93e0",
            "1ecb7e4074bc45c3adabd5e97c7abafb",
            "e22d97bfa47d439cbfa46f6222043c3c",
            "7b83d494b2b74da69fa2925977574ab4",
            "ffcdfd2fd4724bb7a110db28bfab1281",
            "d058e7dbb1884d5d86e366117b6ef2f7",
            "655aa9da420d458db9b646a10905c61c",
            "d6d8d4a8dc184144b627e08d210b7e9f",
            "8584fbc7e8e746658fb9dcc609510224",
            "26a7292eacdd40079497201ae71e6c50",
            "04ee6ab5fe6841628f5f779695b7e461",
            "c3b1316618b14752b54b3e5d81690790",
            "2b97da36bd3547609735fbeb3ecedfa0",
            "356346198a0a4a339861149c01386720",
            "26df0ed4a68442b3b6dc0c7db3a08144",
            "18c14740fddb4e41870a1ea21bade0a6"
          ]
        },
        "id": "dd943f5f",
        "outputId": "bc09d817-74e0-4d4c-f4da-402bbe45dfaa"
      },
      "outputs": [
        {
          "output_type": "stream",
          "name": "stdout",
          "text": [
            "loading weights from pretrained gpt: gpt2\n",
            "forcing vocab_size=50257, block_size=1024, bias=True\n",
            "overriding dropout rate to 0.2\n",
            "number of parameters: 123.65M\n"
          ]
        },
        {
          "output_type": "stream",
          "name": "stderr",
          "text": [
            "/usr/local/lib/python3.10/dist-packages/huggingface_hub/utils/_token.py:88: UserWarning: \n",
            "The secret `HF_TOKEN` does not exist in your Colab secrets.\n",
            "To authenticate with the Hugging Face Hub, create a token in your settings tab (https://huggingface.co/settings/tokens), set it as secret in your Google Colab and restart your session.\n",
            "You will be able to reuse this secret in all of your notebooks.\n",
            "Please note that authentication is recommended but still optional to access public models or datasets.\n",
            "  warnings.warn(\n"
          ]
        },
        {
          "output_type": "display_data",
          "data": {
            "text/plain": [
              "config.json:   0%|          | 0.00/665 [00:00<?, ?B/s]"
            ],
            "application/vnd.jupyter.widget-view+json": {
              "version_major": 2,
              "version_minor": 0,
              "model_id": "03005dd4cefb434ab8f76b4b92e14ee6"
            }
          },
          "metadata": {}
        },
        {
          "output_type": "display_data",
          "data": {
            "text/plain": [
              "model.safetensors:   0%|          | 0.00/548M [00:00<?, ?B/s]"
            ],
            "application/vnd.jupyter.widget-view+json": {
              "version_major": 2,
              "version_minor": 0,
              "model_id": "b53ab22e24ce403d90d6c77c8b438d49"
            }
          },
          "metadata": {}
        },
        {
          "output_type": "display_data",
          "data": {
            "text/plain": [
              "generation_config.json:   0%|          | 0.00/124 [00:00<?, ?B/s]"
            ],
            "application/vnd.jupyter.widget-view+json": {
              "version_major": 2,
              "version_minor": 0,
              "model_id": "d058e7dbb1884d5d86e366117b6ef2f7"
            }
          },
          "metadata": {}
        },
        {
          "output_type": "execute_result",
          "data": {
            "text/plain": [
              "GPT(\n",
              "  (transformer): ModuleDict(\n",
              "    (wte): Embedding(50257, 768)\n",
              "    (wpe): Embedding(1024, 768)\n",
              "    (drop): Dropout(p=0.2, inplace=False)\n",
              "    (h): ModuleList(\n",
              "      (0-11): 12 x Block(\n",
              "        (ln_1): LayerNorm()\n",
              "        (attn): CausalSelfAttention(\n",
              "          (c_attn): Linear(in_features=768, out_features=2304, bias=True)\n",
              "          (c_proj): Linear(in_features=768, out_features=768, bias=True)\n",
              "          (attn_dropout): Dropout(p=0.2, inplace=False)\n",
              "          (resid_dropout): Dropout(p=0.2, inplace=False)\n",
              "        )\n",
              "        (ln_2): LayerNorm()\n",
              "        (mlp): MLP(\n",
              "          (c_fc): Linear(in_features=768, out_features=3072, bias=True)\n",
              "          (gelu): GELU(approximate='none')\n",
              "          (c_proj): Linear(in_features=3072, out_features=768, bias=True)\n",
              "          (dropout): Dropout(p=0.2, inplace=False)\n",
              "        )\n",
              "      )\n",
              "    )\n",
              "    (ln_f): LayerNorm()\n",
              "  )\n",
              "  (lm_head): Linear(in_features=768, out_features=50257, bias=False)\n",
              ")"
            ]
          },
          "metadata": {},
          "execution_count": 62
        }
      ],
      "source": [
        "# initialize from OpenAI GPT-2 weights\n",
        "override_args = dict(dropout=config.dropout)\n",
        "model = GPT.from_pretrained('gpt2', override_args)\n",
        "\n",
        "# crop down the model block size using model surgery\n",
        "if config.block_size < model.config.block_size:\n",
        "    model.crop_block_size(config.block_size)\n",
        "\n",
        "device = 'cuda' if torch.cuda.is_available()  else 'cpu'\n",
        "model.to(device)"
      ]
    },
    {
      "cell_type": "markdown",
      "id": "014bf5a9",
      "metadata": {
        "id": "014bf5a9"
      },
      "source": [
        "**Task**: Explain why reducing the `block_size` do not significantly\n",
        "reduce the number of parameters, but *does* significantly reduce\n",
        "memory usage."
      ]
    },
    {
      "cell_type": "code",
      "execution_count": 63,
      "id": "20e39aa8",
      "metadata": {
        "id": "20e39aa8"
      },
      "outputs": [],
      "source": [
        "# TODO: Include your explanation here"
      ]
    },
    {
      "cell_type": "markdown",
      "id": "678c0557",
      "metadata": {
        "id": "678c0557"
      },
      "source": [
        "There are some additional helpers to improve training."
      ]
    },
    {
      "cell_type": "code",
      "execution_count": 64,
      "id": "b2f126cb",
      "metadata": {
        "colab": {
          "base_uri": "https://localhost:8080/"
        },
        "id": "b2f126cb",
        "outputId": "d4441f60-eee0-4060-9305-1b819db9ba14"
      },
      "outputs": [
        {
          "output_type": "stream",
          "name": "stderr",
          "text": [
            "/usr/local/lib/python3.10/dist-packages/torch/cuda/amp/grad_scaler.py:126: UserWarning: torch.cuda.amp.GradScaler is enabled, but CUDA is not available.  Disabling.\n",
            "  warnings.warn(\n"
          ]
        }
      ],
      "source": [
        "from contextlib import nullcontext\n",
        "# initialize a GradScaler. If enabled=False scaler is a no-op\n",
        "dtype = 'bfloat16' if torch.cuda.is_available() and torch.cuda.is_bf16_supported() else 'float16'\n",
        "ptdtype = {'float32': torch.float32, 'bfloat16': torch.bfloat16, 'float16': torch.float16}[dtype]\n",
        "ctx = nullcontext() if device == 'cpu' else torch.amp.autocast(device_type=device, dtype=ptdtype)\n",
        "scaler = torch.cuda.amp.GradScaler(enabled=(dtype == 'float16'))\n",
        "\n",
        "# learning rate decay scheduler (cosine with warmup)\n",
        "def get_lr(config, it):\n",
        "    # 1) linear warmup for warmup_iters steps\n",
        "    if it < config.warmup_iters:\n",
        "        return config.learning_rate * it / config.warmup_iters\n",
        "    # 2) if it > lr_decay_iters, return min learning rate\n",
        "    if it > config.lr_decay_iters:\n",
        "        return config.min_lr\n",
        "    # 3) in between, use cosine decay down to min learning rate\n",
        "    decay_ratio = (it - config.warmup_iters) / (config.lr_decay_iters - config.warmup_iters)\n",
        "    assert 0 <= decay_ratio <= 1\n",
        "    coeff = 0.5 * (1.0 + math.cos(math.pi * decay_ratio)) # coeff ranges 0..1\n",
        "    return config.min_lr + coeff * (config.learning_rate - config.min_lr)\n",
        "\n",
        "# helps estimate an arbitrarily accurate loss over either split using many batches\n",
        "@torch.no_grad()\n",
        "def estimate_loss(model, train_dataset, val_dataset, block_size):\n",
        "    out = {}\n",
        "    model.eval()\n",
        "    for split in ['train', 'val']:\n",
        "        losses = torch.zeros(eval_iters)\n",
        "        dataset = train_dataset if split == 'train' else val_dataset\n",
        "        for k in range(eval_iters):\n",
        "            X, Y = get_batch(dataset, block_size, batch_size, device)\n",
        "            with ctx:\n",
        "                logits, loss = model(X, Y)\n",
        "            losses[k] = loss.item()\n",
        "        out[split] = losses.mean()\n",
        "    model.train()\n",
        "    return out"
      ]
    },
    {
      "cell_type": "markdown",
      "id": "62dbfec1",
      "metadata": {
        "id": "62dbfec1"
      },
      "source": [
        "Now we can begin the training loop. You may need to increase `max_iter`\n",
        "to obtain good results."
      ]
    },
    {
      "cell_type": "code",
      "execution_count": null,
      "id": "4014bf8e",
      "metadata": {
        "id": "4014bf8e"
      },
      "outputs": [],
      "source": [
        "iter_num = 0\n",
        "best_val_loss = 1e9\n",
        "eval_interval = 10\n",
        "log_interval = 10\n",
        "eval_iters = 40\n",
        "max_iters = 500\n",
        "batch_size = 1\n",
        "\n",
        "# optimizer\n",
        "optimizer = model.configure_optimizers(config.weight_decay, config.learning_rate,\n",
        "   (config.beta1, config.beta2), device)\n",
        "\n",
        "# training loop\n",
        "X, Y = get_batch(train_data, config.block_size, batch_size, device) # fetch the very first batch\n",
        "t0 = time.time()\n",
        "local_iter_num = 0 # number of iterations in the lifetime of this process\n",
        "raw_model = model # unwrap DDP container if needed\n",
        "running_mfu = -1.0\n",
        "while True:\n",
        "    # determine and set the learning rate for this iteration\n",
        "    lr = get_lr(config, iter_num) if config.decay_lr else config.learning_rate\n",
        "    for param_group in optimizer.param_groups:\n",
        "        param_group['lr'] = lr\n",
        "\n",
        "    # evaluate the loss on train/val sets and write checkpoints\n",
        "    if iter_num % eval_interval == 0:\n",
        "        losses = estimate_loss(model, train_data, val_data, config.block_size)\n",
        "        print(f\"step {iter_num}: train loss {losses['train']:.4f}, val loss {losses['val']:.4f}\")\n",
        "\n",
        "    # forward backward update, with optional gradient accumulation to simulate larger batch size\n",
        "    # and using the GradScaler if data type is float16\n",
        "    for micro_step in range(config.gradient_accumulation_steps):\n",
        "        with ctx:\n",
        "            logits, loss = model(X, Y)\n",
        "            loss = loss / config.gradient_accumulation_steps # scale the loss to account for gradient accumulation\n",
        "        # immediately async prefetch next batch while model is doing the forward pass on the GPU\n",
        "        X, Y = get_batch(train_data, config.block_size, batch_size, device)\n",
        "        # backward pass, with gradient scaling if training in fp16\n",
        "        scaler.scale(loss).backward()\n",
        "\n",
        "    # clip the gradient\n",
        "    if config.grad_clip != 0.0:\n",
        "        scaler.unscale_(optimizer)\n",
        "        torch.nn.utils.clip_grad_norm_(model.parameters(), config.grad_clip)\n",
        "\n",
        "    # step the optimizer and scaler if training in fp16\n",
        "    scaler.step(optimizer)\n",
        "    scaler.update()\n",
        "\n",
        "    # flush the gradients as soon as we can, no need for this memory anymore\n",
        "    optimizer.zero_grad(set_to_none=True)\n",
        "\n",
        "    # timing and logging\n",
        "    t1 = time.time()\n",
        "    dt = t1 - t0\n",
        "    t0 = t1\n",
        "    if iter_num % log_interval == 0:\n",
        "        # get loss as float. note: this is a CPU-GPU sync point\n",
        "        # scale up to undo the division above, approximating the true total loss (exact would have been a sum)\n",
        "        lossf = loss.item() * config.gradient_accumulation_steps\n",
        "        if local_iter_num >= 5: # let the training loop settle a bit\n",
        "            mfu = raw_model.estimate_mfu(batch_size * config.gradient_accumulation_steps, dt)\n",
        "            running_mfu = mfu if running_mfu == -1.0 else 0.9*running_mfu + 0.1*mfu\n",
        "        print(f\"iter {iter_num}: loss {lossf:.4f}, time {dt*1000:.2f}ms, mfu {running_mfu*100:.2f}%\")\n",
        "\n",
        "    iter_num += 1\n",
        "    local_iter_num += 1\n",
        "\n",
        "    # termination conditions\n",
        "    if iter_num > max_iters:\n",
        "        break"
      ]
    },
    {
      "cell_type": "markdown",
      "id": "f72d0044",
      "metadata": {
        "id": "f72d0044"
      },
      "source": [
        "Here is some code you can use to generate a sequence using the fine-tuned\n",
        "GPT2 model."
      ]
    },
    {
      "cell_type": "code",
      "execution_count": null,
      "id": "15a09622",
      "metadata": {
        "id": "15a09622"
      },
      "outputs": [],
      "source": [
        "init_from = 'resume' # either 'resume' (from an out_dir) or a gpt2 variant (e.g. 'gpt2-xl')\n",
        "out_dir = 'out' # ignored if init_from is not 'resume'\n",
        "start = \"\\n\" # or \"<|endoftext|>\" or etc. Can also specify a file, use as: \"FILE:prompt.txt\"\n",
        "num_samples = 10 # number of samples to draw\n",
        "max_new_tokens = 500 # number of tokens generated in each sample\n",
        "temperature = 0.8 # 1.0 = no change, < 1.0 = less random, > 1.0 = more random, in predictions\n",
        "top_k = 200 # retain only the top_k most likely tokens, clamp others to have 0 probability\n",
        "\n",
        "\n",
        "enc = tiktoken.get_encoding(\"gpt2\")\n",
        "encode = lambda s: enc.encode(s, allowed_special={\"<|endoftext|>\"})\n",
        "decode = lambda l: enc.decode(l)\n",
        "\n",
        "start_ids = encode(start)\n",
        "x = (torch.tensor(start_ids, dtype=torch.long, device=device)[None, ...])\n",
        "\n",
        "# model = finetuned_model\n",
        "# run generation\n",
        "with torch.no_grad():\n",
        "    with ctx:\n",
        "        for k in range(num_samples):\n",
        "            y = model.generate(x, max_new_tokens, temperature=temperature, top_k=top_k)\n",
        "            print(decode(y[0].tolist()))\n",
        "            print('---------------')"
      ]
    }
  ],
  "metadata": {
    "colab": {
      "provenance": []
    },
    "language_info": {
      "name": "python"
    },
    "kernelspec": {
      "name": "python3",
      "display_name": "Python 3"
    },
    "widgets": {
      "application/vnd.jupyter.widget-state+json": {
        "03005dd4cefb434ab8f76b4b92e14ee6": {
          "model_module": "@jupyter-widgets/controls",
          "model_name": "HBoxModel",
          "model_module_version": "1.5.0",
          "state": {
            "_dom_classes": [],
            "_model_module": "@jupyter-widgets/controls",
            "_model_module_version": "1.5.0",
            "_model_name": "HBoxModel",
            "_view_count": null,
            "_view_module": "@jupyter-widgets/controls",
            "_view_module_version": "1.5.0",
            "_view_name": "HBoxView",
            "box_style": "",
            "children": [
              "IPY_MODEL_252c8463f0f94b64a6cf62193a1e9068",
              "IPY_MODEL_d597362e6b3a4f848f7ac801560c3d96",
              "IPY_MODEL_4574212e42174c24b5e660548fea496b"
            ],
            "layout": "IPY_MODEL_ceb0f9bea7504f7cb46bac00465c50ef"
          }
        },
        "252c8463f0f94b64a6cf62193a1e9068": {
          "model_module": "@jupyter-widgets/controls",
          "model_name": "HTMLModel",
          "model_module_version": "1.5.0",
          "state": {
            "_dom_classes": [],
            "_model_module": "@jupyter-widgets/controls",
            "_model_module_version": "1.5.0",
            "_model_name": "HTMLModel",
            "_view_count": null,
            "_view_module": "@jupyter-widgets/controls",
            "_view_module_version": "1.5.0",
            "_view_name": "HTMLView",
            "description": "",
            "description_tooltip": null,
            "layout": "IPY_MODEL_c053aa8f38d4460c84745f09e15e7e00",
            "placeholder": "​",
            "style": "IPY_MODEL_3876cfa4b76649eb928ca02bf9b80cf9",
            "value": "config.json: 100%"
          }
        },
        "d597362e6b3a4f848f7ac801560c3d96": {
          "model_module": "@jupyter-widgets/controls",
          "model_name": "FloatProgressModel",
          "model_module_version": "1.5.0",
          "state": {
            "_dom_classes": [],
            "_model_module": "@jupyter-widgets/controls",
            "_model_module_version": "1.5.0",
            "_model_name": "FloatProgressModel",
            "_view_count": null,
            "_view_module": "@jupyter-widgets/controls",
            "_view_module_version": "1.5.0",
            "_view_name": "ProgressView",
            "bar_style": "success",
            "description": "",
            "description_tooltip": null,
            "layout": "IPY_MODEL_5d47c59df5d74592ad2b278d2ed76bdf",
            "max": 665,
            "min": 0,
            "orientation": "horizontal",
            "style": "IPY_MODEL_e34298defb6440e39a85b3fdc6bd3115",
            "value": 665
          }
        },
        "4574212e42174c24b5e660548fea496b": {
          "model_module": "@jupyter-widgets/controls",
          "model_name": "HTMLModel",
          "model_module_version": "1.5.0",
          "state": {
            "_dom_classes": [],
            "_model_module": "@jupyter-widgets/controls",
            "_model_module_version": "1.5.0",
            "_model_name": "HTMLModel",
            "_view_count": null,
            "_view_module": "@jupyter-widgets/controls",
            "_view_module_version": "1.5.0",
            "_view_name": "HTMLView",
            "description": "",
            "description_tooltip": null,
            "layout": "IPY_MODEL_d29df21ff9dd491082723dc4f2531afa",
            "placeholder": "​",
            "style": "IPY_MODEL_baa9e3a6bad2423a9db4baaadabee3a5",
            "value": " 665/665 [00:00&lt;00:00, 7.90kB/s]"
          }
        },
        "ceb0f9bea7504f7cb46bac00465c50ef": {
          "model_module": "@jupyter-widgets/base",
          "model_name": "LayoutModel",
          "model_module_version": "1.2.0",
          "state": {
            "_model_module": "@jupyter-widgets/base",
            "_model_module_version": "1.2.0",
            "_model_name": "LayoutModel",
            "_view_count": null,
            "_view_module": "@jupyter-widgets/base",
            "_view_module_version": "1.2.0",
            "_view_name": "LayoutView",
            "align_content": null,
            "align_items": null,
            "align_self": null,
            "border": null,
            "bottom": null,
            "display": null,
            "flex": null,
            "flex_flow": null,
            "grid_area": null,
            "grid_auto_columns": null,
            "grid_auto_flow": null,
            "grid_auto_rows": null,
            "grid_column": null,
            "grid_gap": null,
            "grid_row": null,
            "grid_template_areas": null,
            "grid_template_columns": null,
            "grid_template_rows": null,
            "height": null,
            "justify_content": null,
            "justify_items": null,
            "left": null,
            "margin": null,
            "max_height": null,
            "max_width": null,
            "min_height": null,
            "min_width": null,
            "object_fit": null,
            "object_position": null,
            "order": null,
            "overflow": null,
            "overflow_x": null,
            "overflow_y": null,
            "padding": null,
            "right": null,
            "top": null,
            "visibility": null,
            "width": null
          }
        },
        "c053aa8f38d4460c84745f09e15e7e00": {
          "model_module": "@jupyter-widgets/base",
          "model_name": "LayoutModel",
          "model_module_version": "1.2.0",
          "state": {
            "_model_module": "@jupyter-widgets/base",
            "_model_module_version": "1.2.0",
            "_model_name": "LayoutModel",
            "_view_count": null,
            "_view_module": "@jupyter-widgets/base",
            "_view_module_version": "1.2.0",
            "_view_name": "LayoutView",
            "align_content": null,
            "align_items": null,
            "align_self": null,
            "border": null,
            "bottom": null,
            "display": null,
            "flex": null,
            "flex_flow": null,
            "grid_area": null,
            "grid_auto_columns": null,
            "grid_auto_flow": null,
            "grid_auto_rows": null,
            "grid_column": null,
            "grid_gap": null,
            "grid_row": null,
            "grid_template_areas": null,
            "grid_template_columns": null,
            "grid_template_rows": null,
            "height": null,
            "justify_content": null,
            "justify_items": null,
            "left": null,
            "margin": null,
            "max_height": null,
            "max_width": null,
            "min_height": null,
            "min_width": null,
            "object_fit": null,
            "object_position": null,
            "order": null,
            "overflow": null,
            "overflow_x": null,
            "overflow_y": null,
            "padding": null,
            "right": null,
            "top": null,
            "visibility": null,
            "width": null
          }
        },
        "3876cfa4b76649eb928ca02bf9b80cf9": {
          "model_module": "@jupyter-widgets/controls",
          "model_name": "DescriptionStyleModel",
          "model_module_version": "1.5.0",
          "state": {
            "_model_module": "@jupyter-widgets/controls",
            "_model_module_version": "1.5.0",
            "_model_name": "DescriptionStyleModel",
            "_view_count": null,
            "_view_module": "@jupyter-widgets/base",
            "_view_module_version": "1.2.0",
            "_view_name": "StyleView",
            "description_width": ""
          }
        },
        "5d47c59df5d74592ad2b278d2ed76bdf": {
          "model_module": "@jupyter-widgets/base",
          "model_name": "LayoutModel",
          "model_module_version": "1.2.0",
          "state": {
            "_model_module": "@jupyter-widgets/base",
            "_model_module_version": "1.2.0",
            "_model_name": "LayoutModel",
            "_view_count": null,
            "_view_module": "@jupyter-widgets/base",
            "_view_module_version": "1.2.0",
            "_view_name": "LayoutView",
            "align_content": null,
            "align_items": null,
            "align_self": null,
            "border": null,
            "bottom": null,
            "display": null,
            "flex": null,
            "flex_flow": null,
            "grid_area": null,
            "grid_auto_columns": null,
            "grid_auto_flow": null,
            "grid_auto_rows": null,
            "grid_column": null,
            "grid_gap": null,
            "grid_row": null,
            "grid_template_areas": null,
            "grid_template_columns": null,
            "grid_template_rows": null,
            "height": null,
            "justify_content": null,
            "justify_items": null,
            "left": null,
            "margin": null,
            "max_height": null,
            "max_width": null,
            "min_height": null,
            "min_width": null,
            "object_fit": null,
            "object_position": null,
            "order": null,
            "overflow": null,
            "overflow_x": null,
            "overflow_y": null,
            "padding": null,
            "right": null,
            "top": null,
            "visibility": null,
            "width": null
          }
        },
        "e34298defb6440e39a85b3fdc6bd3115": {
          "model_module": "@jupyter-widgets/controls",
          "model_name": "ProgressStyleModel",
          "model_module_version": "1.5.0",
          "state": {
            "_model_module": "@jupyter-widgets/controls",
            "_model_module_version": "1.5.0",
            "_model_name": "ProgressStyleModel",
            "_view_count": null,
            "_view_module": "@jupyter-widgets/base",
            "_view_module_version": "1.2.0",
            "_view_name": "StyleView",
            "bar_color": null,
            "description_width": ""
          }
        },
        "d29df21ff9dd491082723dc4f2531afa": {
          "model_module": "@jupyter-widgets/base",
          "model_name": "LayoutModel",
          "model_module_version": "1.2.0",
          "state": {
            "_model_module": "@jupyter-widgets/base",
            "_model_module_version": "1.2.0",
            "_model_name": "LayoutModel",
            "_view_count": null,
            "_view_module": "@jupyter-widgets/base",
            "_view_module_version": "1.2.0",
            "_view_name": "LayoutView",
            "align_content": null,
            "align_items": null,
            "align_self": null,
            "border": null,
            "bottom": null,
            "display": null,
            "flex": null,
            "flex_flow": null,
            "grid_area": null,
            "grid_auto_columns": null,
            "grid_auto_flow": null,
            "grid_auto_rows": null,
            "grid_column": null,
            "grid_gap": null,
            "grid_row": null,
            "grid_template_areas": null,
            "grid_template_columns": null,
            "grid_template_rows": null,
            "height": null,
            "justify_content": null,
            "justify_items": null,
            "left": null,
            "margin": null,
            "max_height": null,
            "max_width": null,
            "min_height": null,
            "min_width": null,
            "object_fit": null,
            "object_position": null,
            "order": null,
            "overflow": null,
            "overflow_x": null,
            "overflow_y": null,
            "padding": null,
            "right": null,
            "top": null,
            "visibility": null,
            "width": null
          }
        },
        "baa9e3a6bad2423a9db4baaadabee3a5": {
          "model_module": "@jupyter-widgets/controls",
          "model_name": "DescriptionStyleModel",
          "model_module_version": "1.5.0",
          "state": {
            "_model_module": "@jupyter-widgets/controls",
            "_model_module_version": "1.5.0",
            "_model_name": "DescriptionStyleModel",
            "_view_count": null,
            "_view_module": "@jupyter-widgets/base",
            "_view_module_version": "1.2.0",
            "_view_name": "StyleView",
            "description_width": ""
          }
        },
        "b53ab22e24ce403d90d6c77c8b438d49": {
          "model_module": "@jupyter-widgets/controls",
          "model_name": "HBoxModel",
          "model_module_version": "1.5.0",
          "state": {
            "_dom_classes": [],
            "_model_module": "@jupyter-widgets/controls",
            "_model_module_version": "1.5.0",
            "_model_name": "HBoxModel",
            "_view_count": null,
            "_view_module": "@jupyter-widgets/controls",
            "_view_module_version": "1.5.0",
            "_view_name": "HBoxView",
            "box_style": "",
            "children": [
              "IPY_MODEL_186c7f3639984019b37fb65b29aea99f",
              "IPY_MODEL_c73fbdcf9f3740f5b25b5a408f8a0899",
              "IPY_MODEL_ca14d88ecfcb4cfb80f320f1233b4f00"
            ],
            "layout": "IPY_MODEL_9c265bfcddbf41a78dfad68b75cd2743"
          }
        },
        "186c7f3639984019b37fb65b29aea99f": {
          "model_module": "@jupyter-widgets/controls",
          "model_name": "HTMLModel",
          "model_module_version": "1.5.0",
          "state": {
            "_dom_classes": [],
            "_model_module": "@jupyter-widgets/controls",
            "_model_module_version": "1.5.0",
            "_model_name": "HTMLModel",
            "_view_count": null,
            "_view_module": "@jupyter-widgets/controls",
            "_view_module_version": "1.5.0",
            "_view_name": "HTMLView",
            "description": "",
            "description_tooltip": null,
            "layout": "IPY_MODEL_afad30f3dd7a41c8b2a721c07e1c3438",
            "placeholder": "​",
            "style": "IPY_MODEL_6e77427c769d4a588eb9f894a72d93e0",
            "value": "model.safetensors: 100%"
          }
        },
        "c73fbdcf9f3740f5b25b5a408f8a0899": {
          "model_module": "@jupyter-widgets/controls",
          "model_name": "FloatProgressModel",
          "model_module_version": "1.5.0",
          "state": {
            "_dom_classes": [],
            "_model_module": "@jupyter-widgets/controls",
            "_model_module_version": "1.5.0",
            "_model_name": "FloatProgressModel",
            "_view_count": null,
            "_view_module": "@jupyter-widgets/controls",
            "_view_module_version": "1.5.0",
            "_view_name": "ProgressView",
            "bar_style": "success",
            "description": "",
            "description_tooltip": null,
            "layout": "IPY_MODEL_1ecb7e4074bc45c3adabd5e97c7abafb",
            "max": 548105171,
            "min": 0,
            "orientation": "horizontal",
            "style": "IPY_MODEL_e22d97bfa47d439cbfa46f6222043c3c",
            "value": 548105171
          }
        },
        "ca14d88ecfcb4cfb80f320f1233b4f00": {
          "model_module": "@jupyter-widgets/controls",
          "model_name": "HTMLModel",
          "model_module_version": "1.5.0",
          "state": {
            "_dom_classes": [],
            "_model_module": "@jupyter-widgets/controls",
            "_model_module_version": "1.5.0",
            "_model_name": "HTMLModel",
            "_view_count": null,
            "_view_module": "@jupyter-widgets/controls",
            "_view_module_version": "1.5.0",
            "_view_name": "HTMLView",
            "description": "",
            "description_tooltip": null,
            "layout": "IPY_MODEL_7b83d494b2b74da69fa2925977574ab4",
            "placeholder": "​",
            "style": "IPY_MODEL_ffcdfd2fd4724bb7a110db28bfab1281",
            "value": " 548M/548M [00:05&lt;00:00, 114MB/s]"
          }
        },
        "9c265bfcddbf41a78dfad68b75cd2743": {
          "model_module": "@jupyter-widgets/base",
          "model_name": "LayoutModel",
          "model_module_version": "1.2.0",
          "state": {
            "_model_module": "@jupyter-widgets/base",
            "_model_module_version": "1.2.0",
            "_model_name": "LayoutModel",
            "_view_count": null,
            "_view_module": "@jupyter-widgets/base",
            "_view_module_version": "1.2.0",
            "_view_name": "LayoutView",
            "align_content": null,
            "align_items": null,
            "align_self": null,
            "border": null,
            "bottom": null,
            "display": null,
            "flex": null,
            "flex_flow": null,
            "grid_area": null,
            "grid_auto_columns": null,
            "grid_auto_flow": null,
            "grid_auto_rows": null,
            "grid_column": null,
            "grid_gap": null,
            "grid_row": null,
            "grid_template_areas": null,
            "grid_template_columns": null,
            "grid_template_rows": null,
            "height": null,
            "justify_content": null,
            "justify_items": null,
            "left": null,
            "margin": null,
            "max_height": null,
            "max_width": null,
            "min_height": null,
            "min_width": null,
            "object_fit": null,
            "object_position": null,
            "order": null,
            "overflow": null,
            "overflow_x": null,
            "overflow_y": null,
            "padding": null,
            "right": null,
            "top": null,
            "visibility": null,
            "width": null
          }
        },
        "afad30f3dd7a41c8b2a721c07e1c3438": {
          "model_module": "@jupyter-widgets/base",
          "model_name": "LayoutModel",
          "model_module_version": "1.2.0",
          "state": {
            "_model_module": "@jupyter-widgets/base",
            "_model_module_version": "1.2.0",
            "_model_name": "LayoutModel",
            "_view_count": null,
            "_view_module": "@jupyter-widgets/base",
            "_view_module_version": "1.2.0",
            "_view_name": "LayoutView",
            "align_content": null,
            "align_items": null,
            "align_self": null,
            "border": null,
            "bottom": null,
            "display": null,
            "flex": null,
            "flex_flow": null,
            "grid_area": null,
            "grid_auto_columns": null,
            "grid_auto_flow": null,
            "grid_auto_rows": null,
            "grid_column": null,
            "grid_gap": null,
            "grid_row": null,
            "grid_template_areas": null,
            "grid_template_columns": null,
            "grid_template_rows": null,
            "height": null,
            "justify_content": null,
            "justify_items": null,
            "left": null,
            "margin": null,
            "max_height": null,
            "max_width": null,
            "min_height": null,
            "min_width": null,
            "object_fit": null,
            "object_position": null,
            "order": null,
            "overflow": null,
            "overflow_x": null,
            "overflow_y": null,
            "padding": null,
            "right": null,
            "top": null,
            "visibility": null,
            "width": null
          }
        },
        "6e77427c769d4a588eb9f894a72d93e0": {
          "model_module": "@jupyter-widgets/controls",
          "model_name": "DescriptionStyleModel",
          "model_module_version": "1.5.0",
          "state": {
            "_model_module": "@jupyter-widgets/controls",
            "_model_module_version": "1.5.0",
            "_model_name": "DescriptionStyleModel",
            "_view_count": null,
            "_view_module": "@jupyter-widgets/base",
            "_view_module_version": "1.2.0",
            "_view_name": "StyleView",
            "description_width": ""
          }
        },
        "1ecb7e4074bc45c3adabd5e97c7abafb": {
          "model_module": "@jupyter-widgets/base",
          "model_name": "LayoutModel",
          "model_module_version": "1.2.0",
          "state": {
            "_model_module": "@jupyter-widgets/base",
            "_model_module_version": "1.2.0",
            "_model_name": "LayoutModel",
            "_view_count": null,
            "_view_module": "@jupyter-widgets/base",
            "_view_module_version": "1.2.0",
            "_view_name": "LayoutView",
            "align_content": null,
            "align_items": null,
            "align_self": null,
            "border": null,
            "bottom": null,
            "display": null,
            "flex": null,
            "flex_flow": null,
            "grid_area": null,
            "grid_auto_columns": null,
            "grid_auto_flow": null,
            "grid_auto_rows": null,
            "grid_column": null,
            "grid_gap": null,
            "grid_row": null,
            "grid_template_areas": null,
            "grid_template_columns": null,
            "grid_template_rows": null,
            "height": null,
            "justify_content": null,
            "justify_items": null,
            "left": null,
            "margin": null,
            "max_height": null,
            "max_width": null,
            "min_height": null,
            "min_width": null,
            "object_fit": null,
            "object_position": null,
            "order": null,
            "overflow": null,
            "overflow_x": null,
            "overflow_y": null,
            "padding": null,
            "right": null,
            "top": null,
            "visibility": null,
            "width": null
          }
        },
        "e22d97bfa47d439cbfa46f6222043c3c": {
          "model_module": "@jupyter-widgets/controls",
          "model_name": "ProgressStyleModel",
          "model_module_version": "1.5.0",
          "state": {
            "_model_module": "@jupyter-widgets/controls",
            "_model_module_version": "1.5.0",
            "_model_name": "ProgressStyleModel",
            "_view_count": null,
            "_view_module": "@jupyter-widgets/base",
            "_view_module_version": "1.2.0",
            "_view_name": "StyleView",
            "bar_color": null,
            "description_width": ""
          }
        },
        "7b83d494b2b74da69fa2925977574ab4": {
          "model_module": "@jupyter-widgets/base",
          "model_name": "LayoutModel",
          "model_module_version": "1.2.0",
          "state": {
            "_model_module": "@jupyter-widgets/base",
            "_model_module_version": "1.2.0",
            "_model_name": "LayoutModel",
            "_view_count": null,
            "_view_module": "@jupyter-widgets/base",
            "_view_module_version": "1.2.0",
            "_view_name": "LayoutView",
            "align_content": null,
            "align_items": null,
            "align_self": null,
            "border": null,
            "bottom": null,
            "display": null,
            "flex": null,
            "flex_flow": null,
            "grid_area": null,
            "grid_auto_columns": null,
            "grid_auto_flow": null,
            "grid_auto_rows": null,
            "grid_column": null,
            "grid_gap": null,
            "grid_row": null,
            "grid_template_areas": null,
            "grid_template_columns": null,
            "grid_template_rows": null,
            "height": null,
            "justify_content": null,
            "justify_items": null,
            "left": null,
            "margin": null,
            "max_height": null,
            "max_width": null,
            "min_height": null,
            "min_width": null,
            "object_fit": null,
            "object_position": null,
            "order": null,
            "overflow": null,
            "overflow_x": null,
            "overflow_y": null,
            "padding": null,
            "right": null,
            "top": null,
            "visibility": null,
            "width": null
          }
        },
        "ffcdfd2fd4724bb7a110db28bfab1281": {
          "model_module": "@jupyter-widgets/controls",
          "model_name": "DescriptionStyleModel",
          "model_module_version": "1.5.0",
          "state": {
            "_model_module": "@jupyter-widgets/controls",
            "_model_module_version": "1.5.0",
            "_model_name": "DescriptionStyleModel",
            "_view_count": null,
            "_view_module": "@jupyter-widgets/base",
            "_view_module_version": "1.2.0",
            "_view_name": "StyleView",
            "description_width": ""
          }
        },
        "d058e7dbb1884d5d86e366117b6ef2f7": {
          "model_module": "@jupyter-widgets/controls",
          "model_name": "HBoxModel",
          "model_module_version": "1.5.0",
          "state": {
            "_dom_classes": [],
            "_model_module": "@jupyter-widgets/controls",
            "_model_module_version": "1.5.0",
            "_model_name": "HBoxModel",
            "_view_count": null,
            "_view_module": "@jupyter-widgets/controls",
            "_view_module_version": "1.5.0",
            "_view_name": "HBoxView",
            "box_style": "",
            "children": [
              "IPY_MODEL_655aa9da420d458db9b646a10905c61c",
              "IPY_MODEL_d6d8d4a8dc184144b627e08d210b7e9f",
              "IPY_MODEL_8584fbc7e8e746658fb9dcc609510224"
            ],
            "layout": "IPY_MODEL_26a7292eacdd40079497201ae71e6c50"
          }
        },
        "655aa9da420d458db9b646a10905c61c": {
          "model_module": "@jupyter-widgets/controls",
          "model_name": "HTMLModel",
          "model_module_version": "1.5.0",
          "state": {
            "_dom_classes": [],
            "_model_module": "@jupyter-widgets/controls",
            "_model_module_version": "1.5.0",
            "_model_name": "HTMLModel",
            "_view_count": null,
            "_view_module": "@jupyter-widgets/controls",
            "_view_module_version": "1.5.0",
            "_view_name": "HTMLView",
            "description": "",
            "description_tooltip": null,
            "layout": "IPY_MODEL_04ee6ab5fe6841628f5f779695b7e461",
            "placeholder": "​",
            "style": "IPY_MODEL_c3b1316618b14752b54b3e5d81690790",
            "value": "generation_config.json: 100%"
          }
        },
        "d6d8d4a8dc184144b627e08d210b7e9f": {
          "model_module": "@jupyter-widgets/controls",
          "model_name": "FloatProgressModel",
          "model_module_version": "1.5.0",
          "state": {
            "_dom_classes": [],
            "_model_module": "@jupyter-widgets/controls",
            "_model_module_version": "1.5.0",
            "_model_name": "FloatProgressModel",
            "_view_count": null,
            "_view_module": "@jupyter-widgets/controls",
            "_view_module_version": "1.5.0",
            "_view_name": "ProgressView",
            "bar_style": "success",
            "description": "",
            "description_tooltip": null,
            "layout": "IPY_MODEL_2b97da36bd3547609735fbeb3ecedfa0",
            "max": 124,
            "min": 0,
            "orientation": "horizontal",
            "style": "IPY_MODEL_356346198a0a4a339861149c01386720",
            "value": 124
          }
        },
        "8584fbc7e8e746658fb9dcc609510224": {
          "model_module": "@jupyter-widgets/controls",
          "model_name": "HTMLModel",
          "model_module_version": "1.5.0",
          "state": {
            "_dom_classes": [],
            "_model_module": "@jupyter-widgets/controls",
            "_model_module_version": "1.5.0",
            "_model_name": "HTMLModel",
            "_view_count": null,
            "_view_module": "@jupyter-widgets/controls",
            "_view_module_version": "1.5.0",
            "_view_name": "HTMLView",
            "description": "",
            "description_tooltip": null,
            "layout": "IPY_MODEL_26df0ed4a68442b3b6dc0c7db3a08144",
            "placeholder": "​",
            "style": "IPY_MODEL_18c14740fddb4e41870a1ea21bade0a6",
            "value": " 124/124 [00:00&lt;00:00, 3.46kB/s]"
          }
        },
        "26a7292eacdd40079497201ae71e6c50": {
          "model_module": "@jupyter-widgets/base",
          "model_name": "LayoutModel",
          "model_module_version": "1.2.0",
          "state": {
            "_model_module": "@jupyter-widgets/base",
            "_model_module_version": "1.2.0",
            "_model_name": "LayoutModel",
            "_view_count": null,
            "_view_module": "@jupyter-widgets/base",
            "_view_module_version": "1.2.0",
            "_view_name": "LayoutView",
            "align_content": null,
            "align_items": null,
            "align_self": null,
            "border": null,
            "bottom": null,
            "display": null,
            "flex": null,
            "flex_flow": null,
            "grid_area": null,
            "grid_auto_columns": null,
            "grid_auto_flow": null,
            "grid_auto_rows": null,
            "grid_column": null,
            "grid_gap": null,
            "grid_row": null,
            "grid_template_areas": null,
            "grid_template_columns": null,
            "grid_template_rows": null,
            "height": null,
            "justify_content": null,
            "justify_items": null,
            "left": null,
            "margin": null,
            "max_height": null,
            "max_width": null,
            "min_height": null,
            "min_width": null,
            "object_fit": null,
            "object_position": null,
            "order": null,
            "overflow": null,
            "overflow_x": null,
            "overflow_y": null,
            "padding": null,
            "right": null,
            "top": null,
            "visibility": null,
            "width": null
          }
        },
        "04ee6ab5fe6841628f5f779695b7e461": {
          "model_module": "@jupyter-widgets/base",
          "model_name": "LayoutModel",
          "model_module_version": "1.2.0",
          "state": {
            "_model_module": "@jupyter-widgets/base",
            "_model_module_version": "1.2.0",
            "_model_name": "LayoutModel",
            "_view_count": null,
            "_view_module": "@jupyter-widgets/base",
            "_view_module_version": "1.2.0",
            "_view_name": "LayoutView",
            "align_content": null,
            "align_items": null,
            "align_self": null,
            "border": null,
            "bottom": null,
            "display": null,
            "flex": null,
            "flex_flow": null,
            "grid_area": null,
            "grid_auto_columns": null,
            "grid_auto_flow": null,
            "grid_auto_rows": null,
            "grid_column": null,
            "grid_gap": null,
            "grid_row": null,
            "grid_template_areas": null,
            "grid_template_columns": null,
            "grid_template_rows": null,
            "height": null,
            "justify_content": null,
            "justify_items": null,
            "left": null,
            "margin": null,
            "max_height": null,
            "max_width": null,
            "min_height": null,
            "min_width": null,
            "object_fit": null,
            "object_position": null,
            "order": null,
            "overflow": null,
            "overflow_x": null,
            "overflow_y": null,
            "padding": null,
            "right": null,
            "top": null,
            "visibility": null,
            "width": null
          }
        },
        "c3b1316618b14752b54b3e5d81690790": {
          "model_module": "@jupyter-widgets/controls",
          "model_name": "DescriptionStyleModel",
          "model_module_version": "1.5.0",
          "state": {
            "_model_module": "@jupyter-widgets/controls",
            "_model_module_version": "1.5.0",
            "_model_name": "DescriptionStyleModel",
            "_view_count": null,
            "_view_module": "@jupyter-widgets/base",
            "_view_module_version": "1.2.0",
            "_view_name": "StyleView",
            "description_width": ""
          }
        },
        "2b97da36bd3547609735fbeb3ecedfa0": {
          "model_module": "@jupyter-widgets/base",
          "model_name": "LayoutModel",
          "model_module_version": "1.2.0",
          "state": {
            "_model_module": "@jupyter-widgets/base",
            "_model_module_version": "1.2.0",
            "_model_name": "LayoutModel",
            "_view_count": null,
            "_view_module": "@jupyter-widgets/base",
            "_view_module_version": "1.2.0",
            "_view_name": "LayoutView",
            "align_content": null,
            "align_items": null,
            "align_self": null,
            "border": null,
            "bottom": null,
            "display": null,
            "flex": null,
            "flex_flow": null,
            "grid_area": null,
            "grid_auto_columns": null,
            "grid_auto_flow": null,
            "grid_auto_rows": null,
            "grid_column": null,
            "grid_gap": null,
            "grid_row": null,
            "grid_template_areas": null,
            "grid_template_columns": null,
            "grid_template_rows": null,
            "height": null,
            "justify_content": null,
            "justify_items": null,
            "left": null,
            "margin": null,
            "max_height": null,
            "max_width": null,
            "min_height": null,
            "min_width": null,
            "object_fit": null,
            "object_position": null,
            "order": null,
            "overflow": null,
            "overflow_x": null,
            "overflow_y": null,
            "padding": null,
            "right": null,
            "top": null,
            "visibility": null,
            "width": null
          }
        },
        "356346198a0a4a339861149c01386720": {
          "model_module": "@jupyter-widgets/controls",
          "model_name": "ProgressStyleModel",
          "model_module_version": "1.5.0",
          "state": {
            "_model_module": "@jupyter-widgets/controls",
            "_model_module_version": "1.5.0",
            "_model_name": "ProgressStyleModel",
            "_view_count": null,
            "_view_module": "@jupyter-widgets/base",
            "_view_module_version": "1.2.0",
            "_view_name": "StyleView",
            "bar_color": null,
            "description_width": ""
          }
        },
        "26df0ed4a68442b3b6dc0c7db3a08144": {
          "model_module": "@jupyter-widgets/base",
          "model_name": "LayoutModel",
          "model_module_version": "1.2.0",
          "state": {
            "_model_module": "@jupyter-widgets/base",
            "_model_module_version": "1.2.0",
            "_model_name": "LayoutModel",
            "_view_count": null,
            "_view_module": "@jupyter-widgets/base",
            "_view_module_version": "1.2.0",
            "_view_name": "LayoutView",
            "align_content": null,
            "align_items": null,
            "align_self": null,
            "border": null,
            "bottom": null,
            "display": null,
            "flex": null,
            "flex_flow": null,
            "grid_area": null,
            "grid_auto_columns": null,
            "grid_auto_flow": null,
            "grid_auto_rows": null,
            "grid_column": null,
            "grid_gap": null,
            "grid_row": null,
            "grid_template_areas": null,
            "grid_template_columns": null,
            "grid_template_rows": null,
            "height": null,
            "justify_content": null,
            "justify_items": null,
            "left": null,
            "margin": null,
            "max_height": null,
            "max_width": null,
            "min_height": null,
            "min_width": null,
            "object_fit": null,
            "object_position": null,
            "order": null,
            "overflow": null,
            "overflow_x": null,
            "overflow_y": null,
            "padding": null,
            "right": null,
            "top": null,
            "visibility": null,
            "width": null
          }
        },
        "18c14740fddb4e41870a1ea21bade0a6": {
          "model_module": "@jupyter-widgets/controls",
          "model_name": "DescriptionStyleModel",
          "model_module_version": "1.5.0",
          "state": {
            "_model_module": "@jupyter-widgets/controls",
            "_model_module_version": "1.5.0",
            "_model_name": "DescriptionStyleModel",
            "_view_count": null,
            "_view_module": "@jupyter-widgets/base",
            "_view_module_version": "1.2.0",
            "_view_name": "StyleView",
            "description_width": ""
          }
        }
      }
    }
  },
  "nbformat": 4,
  "nbformat_minor": 5
}