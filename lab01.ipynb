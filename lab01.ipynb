{
  "cells": [
    {
      "cell_type": "markdown",
      "id": "561e4aa0",
      "metadata": {
        "id": "561e4aa0"
      },
      "source": [
        "# CSC413 Lab 1: Linear Models\n",
        "\n",
        "In this lab, we will review **linear models** for classification, which was discussed in depth in CSC311.\n",
        "We will use this as an opportunity to review key ideas, including the splitting of the dataset into\n",
        "train/validation/test sets, optimization methods using Stochastic Gradient Descent, and so on.\n",
        "This lab reviews Python libraries that you have used in CSC311, including `numpy`, `matplotlib` and others.\n",
        "\n",
        "The main aim of this lab is to revisit the PyTorch library. PyTorch provides\n",
        "automatic differentiation capabilities and other neural network tools.\n",
        "This means that **we do not need to compute gradients ourselves**! Instead,\n",
        "we rely on PyTorch to build the computation graph and compute gradients.\n",
        "PyTorch can do this because it knows how to compute gradients for simple\n",
        "operations like addition, multiplication, ReLU activation, and common\n",
        "functions like exponentials, logarithms, and so on. The neural networks\n",
        "we build require computation that are combinations of these simple operations.\n",
        "\n",
        "For now, we will we solve a multi-class classification problem with PyTorch.\n",
        "\n",
        "By the end of this lab, you will be able to:\n",
        "\n",
        "1. Implement and train a multi-class logistic regression model using PyTorch.\n",
        "2. Compute the accuracy metric for a machine learning model.\n",
        "3. Compute numerically, via numpy, the gradient of a linear model.\n",
        "4. Check that PyTorch correctly computes gradients for a linear model via automatic differentiation.\n",
        "5. Identify and explain the elements of the training loop in a PyTorch implementation.\n",
        "6. Identify optimization parameters and hyperparameters, and explain how hyperparameter choices impact training, underfitting and overfitting (i.e. bias/variance decomposition).\n",
        "\n",
        "Please work in groups of 1-2 during the lab, but submit your own solution individually.\n",
        "\n",
        "## Submission\n",
        "\n",
        "If you are working with a partner, start by creating a group on Markus. If you are working alone,\n",
        "click \"Working Alone\".\n",
        "\n",
        "Submit the ipynb file `lab01.ipynb` on Markus\n",
        "**containing all your solutions to the Graded Task**s.\n",
        "Your notebook file must contain your code **and outputs** where applicable,\n",
        "including printed lines and images.\n",
        "Your TA will not run your code for the purpose of grading.\n",
        "\n",
        "For this lab, you should submit the following:\n",
        "\n",
        "- Part 1. Your explanation of the purpose of the training and validation sets. (1 point)\n",
        "- Part 2. Your implementation of `accuracy_basic`. (2 point)\n",
        "- Part 2. Your implementation of `accuracy_vectorized`. (1 point)\n",
        "- Part 2. Your implementation of `accuracy`. (1 point)\n",
        "- Part 3. Your computation of `model_bias_grad`. (2 points)\n",
        "- Part 4. Your completion of `train_model`. (1 point)\n",
        "- Part 5. Your list of hyperparameters. (1 point)\n",
        "- Part 5. Your explanation of what happens if the learning rate is too large. (1 point)\n",
        "\n",
        "\n",
        "## Google Colab Setup\n",
        "\n",
        "We will use Google Colab to open the provided IPython Notebook (.ipynb) file.\n",
        "This tool allows us to write and execute Python code through our browser, without any environmental setup.\n",
        "\n",
        "Here are the steps to open .ipynb files on Google Colab.\n",
        "\n",
        "1. Download `lab01.ipynb`, available from the Quercus course website.\n",
        "2. Click on the following link to open Google Colab: https://colab.research.google.com/\n",
        "3. Click \"Upload\", then choose the file which has been downloaded in step 1.\n",
        "\n",
        "And that's it! Now we can start writing the codes, creating the new code or text cell, etc.\n",
        "\n",
        "Here are some basic functionalities and features that you might find useful.\n",
        "\n",
        "1. Running a cell \\\n",
        "    Click the run button on the left side of the code cell (looks like a “play” button with a triangle in a circle) \\\n",
        "    or \\\n",
        "    press SHIFT + ENTER.\n",
        "\n",
        "2. Installing libraries using Bash Commands \\\n",
        "    Although most of the commonly used libraries (e.g. NumPy, Pandas, Matplotlib) are pre-installed,\n",
        "    we may occasionally ask you to install new libraries or run other bash commands.\n",
        "    Bash commands can be run by prefixing instructions in a code cell with '!' in Google Colab (One exception: 'cd' command can be run by prefixing with '%'), e.g. `!pip install [package name]`\n",
        "\n",
        "3. Mounting Google Drive \\\n",
        "    You may optionally mount Google Drive.\n",
        "    Click the files button on the left pane, then click on 'mount drive' button (looks like a file icon with a google drive logo). \\\n",
        "    or \\\n",
        "    Run the following code snippet:\n",
        "    ```\n",
        "    from google.colab import drive\n",
        "    drive.mount('/content/drive')\n",
        "    ```\n",
        "    By mounting the drive, we can use any files or folders in our drive by using the path as follows:\n",
        "    ```\n",
        "    /content/drive/MyDrive/[folder name]\n",
        "    ```\n",
        "    For example, we can read the csv file uploaded in the drive using Pandas library as follows:\n",
        "    ```\n",
        "    pd.read_csv('/content/drive/MyDrive/myfolder/myfile.csv')\n",
        "    ```\n",
        "\n",
        "Now, we are ready to import the necessary packages and begin our lab."
      ]
    },
    {
      "cell_type": "code",
      "execution_count": 2,
      "id": "2997ed62",
      "metadata": {
        "id": "2997ed62"
      },
      "outputs": [],
      "source": [
        "# import torch\n",
        "import matplotlib.pyplot as plt\n",
        "import numpy as np"
      ]
    },
    {
      "cell_type": "markdown",
      "id": "f6ecb330",
      "metadata": {
        "id": "f6ecb330"
      },
      "source": [
        "## Part 1. Data\n",
        "\n",
        "We will use the MNIST data set, which consists of hand-written digits. This dataset is available within\n",
        "the `torchvision.datasets` library. The dataset creators divided the MNIST imgages into a training and\n",
        "test set, so that different researchers report test accuracy on a consistent set of images.\n",
        "(Recall that the test set is to be set aside and **not** used during training or to make any model decisions,\n",
        "and that it is used to estimate *how well your models generalize* to new data that it has never seen before.)"
      ]
    },
    {
      "cell_type": "code",
      "execution_count": null,
      "id": "112f0ac6",
      "metadata": {
        "id": "112f0ac6"
      },
      "outputs": [],
      "source": [
        "from torchvision.datasets import MNIST\n",
        "\n",
        "mnist_train = MNIST(root=\".\",      # where on the disk to store the data\n",
        "                    download=True, # download the data if it does not already exist\n",
        "                    train=True)    # use the training set (rather than the test set)"
      ]
    },
    {
      "cell_type": "markdown",
      "id": "aa2f989b",
      "metadata": {
        "id": "aa2f989b"
      },
      "source": [
        "**Task:** If different practitioners are exploring machine learning models for the same task and data set,\n",
        "why is it important that practitioners report their test performance (e.g., accuracy)\n",
        "on the same test set?"
      ]
    },
    {
      "cell_type": "code",
      "execution_count": null,
      "id": "a50df611",
      "metadata": {
        "id": "a50df611"
      },
      "outputs": [],
      "source": [
        "# TODO: Write your answer here"
      ]
    },
    {
      "cell_type": "markdown",
      "id": "d18e4ec1",
      "metadata": {
        "id": "d18e4ec1"
      },
      "source": [
        "It is always a good idea to visually inspect our data before working with it.\n",
        "First, let's take a look at the first element of the training set:"
      ]
    },
    {
      "cell_type": "code",
      "execution_count": null,
      "id": "1c9d82b4",
      "metadata": {
        "colab": {
          "base_uri": "https://localhost:8080/"
        },
        "id": "1c9d82b4",
        "outputId": "93ede37f-d5f0-4f4f-f14c-dd8e15c68eab"
      },
      "outputs": [
        {
          "name": "stdout",
          "output_type": "stream",
          "text": [
            "(<PIL.Image.Image image mode=L size=28x28 at 0x7E3F983E4970>, 5)\n"
          ]
        }
      ],
      "source": [
        "print(mnist_train[0]) # a tuple consisting of the image, and the label (5)"
      ]
    },
    {
      "cell_type": "markdown",
      "id": "362e5965",
      "metadata": {
        "id": "362e5965"
      },
      "source": [
        "The image can be displayed on Google Colab using matplotlib:"
      ]
    },
    {
      "cell_type": "code",
      "execution_count": null,
      "id": "f11d9208",
      "metadata": {
        "colab": {
          "base_uri": "https://localhost:8080/",
          "height": 447
        },
        "id": "f11d9208",
        "outputId": "384ff280-e903-4d8d-91da-f8c07690221f"
      },
      "outputs": [
        {
          "data": {
            "text/plain": [
              "<matplotlib.image.AxesImage at 0x7e3f98647430>"
            ]
          },
          "execution_count": 200,
          "metadata": {},
          "output_type": "execute_result"
        },
        {
          "data": {
            "image/png": "[encoded data removed]",
            "text/plain": [
              "<Figure size 640x480 with 1 Axes>"
            ]
          },
          "metadata": {},
          "output_type": "display_data"
        }
      ],
      "source": [
        "plt.imshow(mnist_train[0][0], cmap='gray') # display the image"
      ]
    },
    {
      "cell_type": "markdown",
      "id": "55f679d5",
      "metadata": {
        "id": "55f679d5"
      },
      "source": [
        "It is important to note that images are represented using numbers on your machine.\n",
        "Converting this image into a numpy array shows a representation of the image using\n",
        "28x28 numbers, each representing a pixel value."
      ]
    },
    {
      "cell_type": "code",
      "execution_count": null,
      "id": "83107664",
      "metadata": {
        "colab": {
          "base_uri": "https://localhost:8080/"
        },
        "id": "83107664",
        "outputId": "fcdfcdd8-47fd-4229-a573-b7c0ad9bebcd"
      },
      "outputs": [
        {
          "data": {
            "text/plain": [
              "array([[  0,   0,   0,   0,   0,   0,   0,   0,   0,   0,   0,   0,   0,\n",
              "          0,   0,   0,   0,   0,   0,   0,   0,   0,   0,   0,   0,   0,\n",
              "          0,   0],\n",
              "       [  0,   0,   0,   0,   0,   0,   0,   0,   0,   0,   0,   0,   0,\n",
              "          0,   0,   0,   0,   0,   0,   0,   0,   0,   0,   0,   0,   0,\n",
              "          0,   0],\n",
              "       [  0,   0,   0,   0,   0,   0,   0,   0,   0,   0,   0,   0,   0,\n",
              "          0,   0,   0,   0,   0,   0,   0,   0,   0,   0,   0,   0,   0,\n",
              "          0,   0],\n",
              "       [  0,   0,   0,   0,   0,   0,   0,   0,   0,   0,   0,   0,   0,\n",
              "          0,   0,   0,   0,   0,   0,   0,   0,   0,   0,   0,   0,   0,\n",
              "          0,   0],\n",
              "       [  0,   0,   0,   0,   0,   0,   0,   0,   0,   0,   0,   0,   0,\n",
              "          0,   0,   0,   0,   0,   0,   0,   0,   0,   0,   0,   0,   0,\n",
              "          0,   0],\n",
              "       [  0,   0,   0,   0,   0,   0,   0,   0,   0,   0,   0,   0,   3,\n",
              "         18,  18,  18, 126, 136, 175,  26, 166, 255, 247, 127,   0,   0,\n",
              "          0,   0],\n",
              "       [  0,   0,   0,   0,   0,   0,   0,   0,  30,  36,  94, 154, 170,\n",
              "        253, 253, 253, 253, 253, 225, 172, 253, 242, 195,  64,   0,   0,\n",
              "          0,   0],\n",
              "       [  0,   0,   0,   0,   0,   0,   0,  49, 238, 253, 253, 253, 253,\n",
              "        253, 253, 253, 253, 251,  93,  82,  82,  56,  39,   0,   0,   0,\n",
              "          0,   0],\n",
              "       [  0,   0,   0,   0,   0,   0,   0,  18, 219, 253, 253, 253, 253,\n",
              "        253, 198, 182, 247, 241,   0,   0,   0,   0,   0,   0,   0,   0,\n",
              "          0,   0],\n",
              "       [  0,   0,   0,   0,   0,   0,   0,   0,  80, 156, 107, 253, 253,\n",
              "        205,  11,   0,  43, 154,   0,   0,   0,   0,   0,   0,   0,   0,\n",
              "          0,   0],\n",
              "       [  0,   0,   0,   0,   0,   0,   0,   0,   0,  14,   1, 154, 253,\n",
              "         90,   0,   0,   0,   0,   0,   0,   0,   0,   0,   0,   0,   0,\n",
              "          0,   0],\n",
              "       [  0,   0,   0,   0,   0,   0,   0,   0,   0,   0,   0, 139, 253,\n",
              "        190,   2,   0,   0,   0,   0,   0,   0,   0,   0,   0,   0,   0,\n",
              "          0,   0],\n",
              "       [  0,   0,   0,   0,   0,   0,   0,   0,   0,   0,   0,  11, 190,\n",
              "        253,  70,   0,   0,   0,   0,   0,   0,   0,   0,   0,   0,   0,\n",
              "          0,   0],\n",
              "       [  0,   0,   0,   0,   0,   0,   0,   0,   0,   0,   0,   0,  35,\n",
              "        241, 225, 160, 108,   1,   0,   0,   0,   0,   0,   0,   0,   0,\n",
              "          0,   0],\n",
              "       [  0,   0,   0,   0,   0,   0,   0,   0,   0,   0,   0,   0,   0,\n",
              "         81, 240, 253, 253, 119,  25,   0,   0,   0,   0,   0,   0,   0,\n",
              "          0,   0],\n",
              "       [  0,   0,   0,   0,   0,   0,   0,   0,   0,   0,   0,   0,   0,\n",
              "          0,  45, 186, 253, 253, 150,  27,   0,   0,   0,   0,   0,   0,\n",
              "          0,   0],\n",
              "       [  0,   0,   0,   0,   0,   0,   0,   0,   0,   0,   0,   0,   0,\n",
              "          0,   0,  16,  93, 252, 253, 187,   0,   0,   0,   0,   0,   0,\n",
              "          0,   0],\n",
              "       [  0,   0,   0,   0,   0,   0,   0,   0,   0,   0,   0,   0,   0,\n",
              "          0,   0,   0,   0, 249, 253, 249,  64,   0,   0,   0,   0,   0,\n",
              "          0,   0],\n",
              "       [  0,   0,   0,   0,   0,   0,   0,   0,   0,   0,   0,   0,   0,\n",
              "          0,  46, 130, 183, 253, 253, 207,   2,   0,   0,   0,   0,   0,\n",
              "          0,   0],\n",
              "       [  0,   0,   0,   0,   0,   0,   0,   0,   0,   0,   0,   0,  39,\n",
              "        148, 229, 253, 253, 253, 250, 182,   0,   0,   0,   0,   0,   0,\n",
              "          0,   0],\n",
              "       [  0,   0,   0,   0,   0,   0,   0,   0,   0,   0,  24, 114, 221,\n",
              "        253, 253, 253, 253, 201,  78,   0,   0,   0,   0,   0,   0,   0,\n",
              "          0,   0],\n",
              "       [  0,   0,   0,   0,   0,   0,   0,   0,  23,  66, 213, 253, 253,\n",
              "        253, 253, 198,  81,   2,   0,   0,   0,   0,   0,   0,   0,   0,\n",
              "          0,   0],\n",
              "       [  0,   0,   0,   0,   0,   0,  18, 171, 219, 253, 253, 253, 253,\n",
              "        195,  80,   9,   0,   0,   0,   0,   0,   0,   0,   0,   0,   0,\n",
              "          0,   0],\n",
              "       [  0,   0,   0,   0,  55, 172, 226, 253, 253, 253, 253, 244, 133,\n",
              "         11,   0,   0,   0,   0,   0,   0,   0,   0,   0,   0,   0,   0,\n",
              "          0,   0],\n",
              "       [  0,   0,   0,   0, 136, 253, 253, 253, 212, 135, 132,  16,   0,\n",
              "          0,   0,   0,   0,   0,   0,   0,   0,   0,   0,   0,   0,   0,\n",
              "          0,   0],\n",
              "       [  0,   0,   0,   0,   0,   0,   0,   0,   0,   0,   0,   0,   0,\n",
              "          0,   0,   0,   0,   0,   0,   0,   0,   0,   0,   0,   0,   0,\n",
              "          0,   0],\n",
              "       [  0,   0,   0,   0,   0,   0,   0,   0,   0,   0,   0,   0,   0,\n",
              "          0,   0,   0,   0,   0,   0,   0,   0,   0,   0,   0,   0,   0,\n",
              "          0,   0],\n",
              "       [  0,   0,   0,   0,   0,   0,   0,   0,   0,   0,   0,   0,   0,\n",
              "          0,   0,   0,   0,   0,   0,   0,   0,   0,   0,   0,   0,   0,\n",
              "          0,   0]], dtype=uint8)"
            ]
          },
          "execution_count": 201,
          "metadata": {},
          "output_type": "execute_result"
        }
      ],
      "source": [
        "np.array(mnist_train[0][0])"
      ]
    },
    {
      "cell_type": "markdown",
      "id": "afbe4d5f",
      "metadata": {
        "id": "afbe4d5f"
      },
      "source": [
        "**Task:** What does the numerical value 0 (smallest possible value) mean in the image?\n",
        "What about the largest possible value, 255?"
      ]
    },
    {
      "cell_type": "markdown",
      "id": "Ldc2RgqXIxfi",
      "metadata": {
        "id": "Ldc2RgqXIxfi"
      },
      "source": [
        "0 represent the pixel with the darkest intensity which is black. 225 represents the pixel with the brightest intensity which is white."
      ]
    },
    {
      "cell_type": "markdown",
      "id": "32b8ce96",
      "metadata": {
        "id": "32b8ce96"
      },
      "source": [
        "For our purposes, we will only use the first 5000 elements of the training set.\n",
        "This is to make training faster.\n",
        "\n",
        "PyTorch also makes it easy to apply pre-processing transformations to the data,\n",
        "for example to normalize the data prior to using for training.\n",
        "We will use the standard preprocessing functions to *transform the images into tensors* for PyTorch to be able to use.\n",
        "This transformation also changes the values to be floating-point numbers between 0 and 1.\n",
        "Performing this transformation to PyTorch tensors now makes it easier to use PyTorch functionalities to\n",
        "help us create minibatches with this data."
      ]
    },
    {
      "cell_type": "code",
      "execution_count": null,
      "id": "257f5880",
      "metadata": {
        "colab": {
          "base_uri": "https://localhost:8080/"
        },
        "id": "257f5880",
        "outputId": "b7dcde20-bd71-49de-ac16-ba732482b3f4"
      },
      "outputs": [
        {
          "name": "stdout",
          "output_type": "stream",
          "text": [
            "(tensor([[[0.0000, 0.0000, 0.0000, 0.0000, 0.0000, 0.0000, 0.0000, 0.0000,\n",
            "          0.0000, 0.0000, 0.0000, 0.0000, 0.0000, 0.0000, 0.0000, 0.0000,\n",
            "          0.0000, 0.0000, 0.0000, 0.0000, 0.0000, 0.0000, 0.0000, 0.0000,\n",
            "          0.0000, 0.0000, 0.0000, 0.0000],\n",
            "         [0.0000, 0.0000, 0.0000, 0.0000, 0.0000, 0.0000, 0.0000, 0.0000,\n",
            "          0.0000, 0.0000, 0.0000, 0.0000, 0.0000, 0.0000, 0.0000, 0.0000,\n",
            "          0.0000, 0.0000, 0.0000, 0.0000, 0.0000, 0.0000, 0.0000, 0.0000,\n",
            "          0.0000, 0.0000, 0.0000, 0.0000],\n",
            "         [0.0000, 0.0000, 0.0000, 0.0000, 0.0000, 0.0000, 0.0000, 0.0000,\n",
            "          0.0000, 0.0000, 0.0000, 0.0000, 0.0000, 0.0000, 0.0000, 0.0000,\n",
            "          0.0000, 0.0000, 0.0000, 0.0000, 0.0000, 0.0000, 0.0000, 0.0000,\n",
            "          0.0000, 0.0000, 0.0000, 0.0000],\n",
            "         [0.0000, 0.0000, 0.0000, 0.0000, 0.0000, 0.0000, 0.0000, 0.0000,\n",
            "          0.0000, 0.0000, 0.0000, 0.0000, 0.0000, 0.0000, 0.0000, 0.0000,\n",
            "          0.0000, 0.0000, 0.0000, 0.0000, 0.0000, 0.0000, 0.0000, 0.0000,\n",
            "          0.0000, 0.0000, 0.0000, 0.0000],\n",
            "         [0.0000, 0.0000, 0.0000, 0.0000, 0.0000, 0.0000, 0.0000, 0.0000,\n",
            "          0.0000, 0.0000, 0.0000, 0.0000, 0.0000, 0.0000, 0.0000, 0.0000,\n",
            "          0.0000, 0.0000, 0.0000, 0.0000, 0.0000, 0.0000, 0.0000, 0.0000,\n",
            "          0.0000, 0.0000, 0.0000, 0.0000],\n",
            "         [0.0000, 0.0000, 0.0000, 0.0000, 0.0000, 0.0000, 0.0000, 0.0000,\n",
            "          0.0000, 0.0000, 0.0000, 0.0000, 0.0118, 0.0706, 0.0706, 0.0706,\n",
            "          0.4941, 0.5333, 0.6863, 0.1020, 0.6510, 1.0000, 0.9686, 0.4980,\n",
            "          0.0000, 0.0000, 0.0000, 0.0000],\n",
            "         [0.0000, 0.0000, 0.0000, 0.0000, 0.0000, 0.0000, 0.0000, 0.0000,\n",
            "          0.1176, 0.1412, 0.3686, 0.6039, 0.6667, 0.9922, 0.9922, 0.9922,\n",
            "          0.9922, 0.9922, 0.8824, 0.6745, 0.9922, 0.9490, 0.7647, 0.2510,\n",
            "          0.0000, 0.0000, 0.0000, 0.0000],\n",
            "         [0.0000, 0.0000, 0.0000, 0.0000, 0.0000, 0.0000, 0.0000, 0.1922,\n",
            "          0.9333, 0.9922, 0.9922, 0.9922, 0.9922, 0.9922, 0.9922, 0.9922,\n",
            "          0.9922, 0.9843, 0.3647, 0.3216, 0.3216, 0.2196, 0.1529, 0.0000,\n",
            "          0.0000, 0.0000, 0.0000, 0.0000],\n",
            "         [0.0000, 0.0000, 0.0000, 0.0000, 0.0000, 0.0000, 0.0000, 0.0706,\n",
            "          0.8588, 0.9922, 0.9922, 0.9922, 0.9922, 0.9922, 0.7765, 0.7137,\n",
            "          0.9686, 0.9451, 0.0000, 0.0000, 0.0000, 0.0000, 0.0000, 0.0000,\n",
            "          0.0000, 0.0000, 0.0000, 0.0000],\n",
            "         [0.0000, 0.0000, 0.0000, 0.0000, 0.0000, 0.0000, 0.0000, 0.0000,\n",
            "          0.3137, 0.6118, 0.4196, 0.9922, 0.9922, 0.8039, 0.0431, 0.0000,\n",
            "          0.1686, 0.6039, 0.0000, 0.0000, 0.0000, 0.0000, 0.0000, 0.0000,\n",
            "          0.0000, 0.0000, 0.0000, 0.0000],\n",
            "         [0.0000, 0.0000, 0.0000, 0.0000, 0.0000, 0.0000, 0.0000, 0.0000,\n",
            "          0.0000, 0.0549, 0.0039, 0.6039, 0.9922, 0.3529, 0.0000, 0.0000,\n",
            "          0.0000, 0.0000, 0.0000, 0.0000, 0.0000, 0.0000, 0.0000, 0.0000,\n",
            "          0.0000, 0.0000, 0.0000, 0.0000],\n",
            "         [0.0000, 0.0000, 0.0000, 0.0000, 0.0000, 0.0000, 0.0000, 0.0000,\n",
            "          0.0000, 0.0000, 0.0000, 0.5451, 0.9922, 0.7451, 0.0078, 0.0000,\n",
            "          0.0000, 0.0000, 0.0000, 0.0000, 0.0000, 0.0000, 0.0000, 0.0000,\n",
            "          0.0000, 0.0000, 0.0000, 0.0000],\n",
            "         [0.0000, 0.0000, 0.0000, 0.0000, 0.0000, 0.0000, 0.0000, 0.0000,\n",
            "          0.0000, 0.0000, 0.0000, 0.0431, 0.7451, 0.9922, 0.2745, 0.0000,\n",
            "          0.0000, 0.0000, 0.0000, 0.0000, 0.0000, 0.0000, 0.0000, 0.0000,\n",
            "          0.0000, 0.0000, 0.0000, 0.0000],\n",
            "         [0.0000, 0.0000, 0.0000, 0.0000, 0.0000, 0.0000, 0.0000, 0.0000,\n",
            "          0.0000, 0.0000, 0.0000, 0.0000, 0.1373, 0.9451, 0.8824, 0.6275,\n",
            "          0.4235, 0.0039, 0.0000, 0.0000, 0.0000, 0.0000, 0.0000, 0.0000,\n",
            "          0.0000, 0.0000, 0.0000, 0.0000],\n",
            "         [0.0000, 0.0000, 0.0000, 0.0000, 0.0000, 0.0000, 0.0000, 0.0000,\n",
            "          0.0000, 0.0000, 0.0000, 0.0000, 0.0000, 0.3176, 0.9412, 0.9922,\n",
            "          0.9922, 0.4667, 0.0980, 0.0000, 0.0000, 0.0000, 0.0000, 0.0000,\n",
            "          0.0000, 0.0000, 0.0000, 0.0000],\n",
            "         [0.0000, 0.0000, 0.0000, 0.0000, 0.0000, 0.0000, 0.0000, 0.0000,\n",
            "          0.0000, 0.0000, 0.0000, 0.0000, 0.0000, 0.0000, 0.1765, 0.7294,\n",
            "          0.9922, 0.9922, 0.5882, 0.1059, 0.0000, 0.0000, 0.0000, 0.0000,\n",
            "          0.0000, 0.0000, 0.0000, 0.0000],\n",
            "         [0.0000, 0.0000, 0.0000, 0.0000, 0.0000, 0.0000, 0.0000, 0.0000,\n",
            "          0.0000, 0.0000, 0.0000, 0.0000, 0.0000, 0.0000, 0.0000, 0.0627,\n",
            "          0.3647, 0.9882, 0.9922, 0.7333, 0.0000, 0.0000, 0.0000, 0.0000,\n",
            "          0.0000, 0.0000, 0.0000, 0.0000],\n",
            "         [0.0000, 0.0000, 0.0000, 0.0000, 0.0000, 0.0000, 0.0000, 0.0000,\n",
            "          0.0000, 0.0000, 0.0000, 0.0000, 0.0000, 0.0000, 0.0000, 0.0000,\n",
            "          0.0000, 0.9765, 0.9922, 0.9765, 0.2510, 0.0000, 0.0000, 0.0000,\n",
            "          0.0000, 0.0000, 0.0000, 0.0000],\n",
            "         [0.0000, 0.0000, 0.0000, 0.0000, 0.0000, 0.0000, 0.0000, 0.0000,\n",
            "          0.0000, 0.0000, 0.0000, 0.0000, 0.0000, 0.0000, 0.1804, 0.5098,\n",
            "          0.7176, 0.9922, 0.9922, 0.8118, 0.0078, 0.0000, 0.0000, 0.0000,\n",
            "          0.0000, 0.0000, 0.0000, 0.0000],\n",
            "         [0.0000, 0.0000, 0.0000, 0.0000, 0.0000, 0.0000, 0.0000, 0.0000,\n",
            "          0.0000, 0.0000, 0.0000, 0.0000, 0.1529, 0.5804, 0.8980, 0.9922,\n",
            "          0.9922, 0.9922, 0.9804, 0.7137, 0.0000, 0.0000, 0.0000, 0.0000,\n",
            "          0.0000, 0.0000, 0.0000, 0.0000],\n",
            "         [0.0000, 0.0000, 0.0000, 0.0000, 0.0000, 0.0000, 0.0000, 0.0000,\n",
            "          0.0000, 0.0000, 0.0941, 0.4471, 0.8667, 0.9922, 0.9922, 0.9922,\n",
            "          0.9922, 0.7882, 0.3059, 0.0000, 0.0000, 0.0000, 0.0000, 0.0000,\n",
            "          0.0000, 0.0000, 0.0000, 0.0000],\n",
            "         [0.0000, 0.0000, 0.0000, 0.0000, 0.0000, 0.0000, 0.0000, 0.0000,\n",
            "          0.0902, 0.2588, 0.8353, 0.9922, 0.9922, 0.9922, 0.9922, 0.7765,\n",
            "          0.3176, 0.0078, 0.0000, 0.0000, 0.0000, 0.0000, 0.0000, 0.0000,\n",
            "          0.0000, 0.0000, 0.0000, 0.0000],\n",
            "         [0.0000, 0.0000, 0.0000, 0.0000, 0.0000, 0.0000, 0.0706, 0.6706,\n",
            "          0.8588, 0.9922, 0.9922, 0.9922, 0.9922, 0.7647, 0.3137, 0.0353,\n",
            "          0.0000, 0.0000, 0.0000, 0.0000, 0.0000, 0.0000, 0.0000, 0.0000,\n",
            "          0.0000, 0.0000, 0.0000, 0.0000],\n",
            "         [0.0000, 0.0000, 0.0000, 0.0000, 0.2157, 0.6745, 0.8863, 0.9922,\n",
            "          0.9922, 0.9922, 0.9922, 0.9569, 0.5216, 0.0431, 0.0000, 0.0000,\n",
            "          0.0000, 0.0000, 0.0000, 0.0000, 0.0000, 0.0000, 0.0000, 0.0000,\n",
            "          0.0000, 0.0000, 0.0000, 0.0000],\n",
            "         [0.0000, 0.0000, 0.0000, 0.0000, 0.5333, 0.9922, 0.9922, 0.9922,\n",
            "          0.8314, 0.5294, 0.5176, 0.0627, 0.0000, 0.0000, 0.0000, 0.0000,\n",
            "          0.0000, 0.0000, 0.0000, 0.0000, 0.0000, 0.0000, 0.0000, 0.0000,\n",
            "          0.0000, 0.0000, 0.0000, 0.0000],\n",
            "         [0.0000, 0.0000, 0.0000, 0.0000, 0.0000, 0.0000, 0.0000, 0.0000,\n",
            "          0.0000, 0.0000, 0.0000, 0.0000, 0.0000, 0.0000, 0.0000, 0.0000,\n",
            "          0.0000, 0.0000, 0.0000, 0.0000, 0.0000, 0.0000, 0.0000, 0.0000,\n",
            "          0.0000, 0.0000, 0.0000, 0.0000],\n",
            "         [0.0000, 0.0000, 0.0000, 0.0000, 0.0000, 0.0000, 0.0000, 0.0000,\n",
            "          0.0000, 0.0000, 0.0000, 0.0000, 0.0000, 0.0000, 0.0000, 0.0000,\n",
            "          0.0000, 0.0000, 0.0000, 0.0000, 0.0000, 0.0000, 0.0000, 0.0000,\n",
            "          0.0000, 0.0000, 0.0000, 0.0000],\n",
            "         [0.0000, 0.0000, 0.0000, 0.0000, 0.0000, 0.0000, 0.0000, 0.0000,\n",
            "          0.0000, 0.0000, 0.0000, 0.0000, 0.0000, 0.0000, 0.0000, 0.0000,\n",
            "          0.0000, 0.0000, 0.0000, 0.0000, 0.0000, 0.0000, 0.0000, 0.0000,\n",
            "          0.0000, 0.0000, 0.0000, 0.0000]]]), 5)\n"
          ]
        }
      ],
      "source": [
        "import torchvision.transforms as transforms\n",
        "\n",
        "mnist_data = MNIST(root=\".\",      # where on the disk to store the data\n",
        "                   download=True, # download the data if it does not already exist\n",
        "                   train=True,    # use the canonical training set (rather than the test set)\n",
        "                   transform=transforms.ToTensor()) # transforms the images into PyTorch tensors\n",
        "mnist_data = list(mnist_data)[:5000]\n",
        "\n",
        "print(mnist_data[0]) # a tuple consisting of a PyTorch tensor of shape (1, 28, 28) and an integer target label"
      ]
    },
    {
      "cell_type": "markdown",
      "id": "e0f0519f",
      "metadata": {
        "id": "e0f0519f"
      },
      "source": [
        "We will split the data set into 3000 for training, 1000 for validation, and 1000 for test:"
      ]
    },
    {
      "cell_type": "code",
      "execution_count": null,
      "id": "e2b676b3",
      "metadata": {
        "id": "e2b676b3"
      },
      "outputs": [],
      "source": [
        "train_data = mnist_data[:3000]\n",
        "val_data   = mnist_data[3000:4000]\n",
        "test_data  = mnist_data[4000:]"
      ]
    },
    {
      "cell_type": "markdown",
      "id": "85088fb7",
      "metadata": {
        "id": "85088fb7"
      },
      "source": [
        "**Graded Task**: We described, above, that the purpose of the **test set** is to estimate how well\n",
        "our models would generalize to new data that it has never seen before.\n",
        "What are the purposes of the training and validation sets?"
      ]
    },
    {
      "cell_type": "markdown",
      "id": "_O9i9Rt8VBHp",
      "metadata": {
        "id": "_O9i9Rt8VBHp"
      },
      "source": [
        "My answer:\n",
        "\n",
        "The primary purpose of the training set is to train the model. During training, the model learns the patterns and relationships within the data. The training set provides examples of input-output pairs, and the model adjusts its parameters (weights and biases) to minimize the difference between its predictions and the actual targets.\n",
        "\n",
        "The validation set is used to fine-tune the model and select the best hyperparameters. By monitoring the model's performance on the validation set, one can make informed decisions about hyperparameter tuning and model selection."
      ]
    },
    {
      "cell_type": "markdown",
      "id": "c544a833",
      "metadata": {
        "id": "c544a833"
      },
      "source": [
        "## Part 2. A Linear Model in PyTorch\n",
        "\n",
        "You may recall from CSC311 that in machine learning, we often describe a model by first describing\n",
        "how to make predictions with a model (e.g., multi-class classification), and **then** describe\n",
        "how to find appropriate weights (e.g., an optimization method like gradient descent).\n",
        "We will follow that process here.\n",
        "\n",
        "Recall that, mathematically, the multi-class classification model can be written as follows:\n",
        "\n",
        "$${\\bf y} = \\textrm{softmax}({\\bf W} {\\bf x} + {\\bf b})$$\n",
        "\n",
        "Where the ${\\bf x}$ vector represents the input (i.e., the vector representation of the MNIST image),\n",
        "and the ${\\bf y}$ vector contains the predicted probably of the image being in each class (i.e.,\n",
        "predicted probability of the image being of each digit 0-9).\n",
        "\n",
        "**Task**: In the MNIST image classification task, what are the shapes of the quantities\n",
        "${\\bf x}$, ${\\bf W}$, ${\\bf b}$ and ${\\bf y}$?"
      ]
    },
    {
      "cell_type": "markdown",
      "id": "wmBDBPf_EuKB",
      "metadata": {
        "id": "wmBDBPf_EuKB"
      },
      "source": [
        "My answer:\n",
        "\n",
        "x has a shape of 1 x 784 where in_features is the number of input features. If an image has 28x28 pixels, then we have 28**2=784 features\n",
        "to feed into the network.\n",
        "\n",
        "y has a shape of 10 x 1, since we have 10 classes and each class will receive a prediction in the end to represent the likelihood that the class is our ground truth.\n",
        "\n",
        "W has a shape of 10x784, since it is the multiplier in the linear model and we have 784 input features and 10 output features.\n",
        "\n",
        "b has a shape of 10 x 1 since it is a bias term in the linear model to add to the prediction thus follows the shape of the output.\n",
        "\n",
        "\n",
        "---\n",
        "\n"
      ]
    },
    {
      "cell_type": "markdown",
      "id": "c8758b01",
      "metadata": {
        "id": "c8758b01"
      },
      "source": [
        "The matrix ${\\bf W}$ and ${\\bf b}$ are the parameters of the model. The matrix  ${\\bf W}$ is\n",
        "sometimes called the *weight matrix* and the vector ${\\bf b}$ the *bias vector*, but these parameters\n",
        "taken together are often referred to collectively as the **weights**.\n",
        "\"Good\" values of the parameters ${\\bf W}$ and ${\\bf b}$ are those that would produce values of\n",
        "the vector ${\\bf y}$ that more accurately match the actual target label. We will need to discuss\n",
        "what \"good\" means and how to measure \"good\"ness and optimize it. For now, let's begin by applying\n",
        "and analyzing a \"bad\" model: a model where the parameters ${\\bf W}$ and ${\\bf b}$ are chosen\n",
        "randomly.\n",
        "\n",
        "\n",
        "Notice that there are two parts to the computation $\\textrm{softmax}({\\bf W} {\\bf x} + {\\bf b})$:\n",
        "there is a *linear transformation* on ${\\bf X}$, and then there is a softmax operation.\n",
        "PyTorch models these two components separately.\n",
        "\n",
        "The **linear transformation** is modeled as a Python class in PyTorch.\n",
        "Since the parameters ${\\bf W}$ and ${\\bf b}$ are parameters of the linear transformation\n",
        "portion of the computation, the weights and biases are class attributes.\n",
        "The output of the linear transformation step is typically denoted using the symbol ${\\bf z}$,\n",
        "and is called the **logit** (or unnormalized logits)."
      ]
    },
    {
      "cell_type": "code",
      "execution_count": null,
      "id": "0376b376",
      "metadata": {
        "colab": {
          "base_uri": "https://localhost:8080/"
        },
        "id": "0376b376",
        "outputId": "5039b2a1-8d4c-4e1c-cdb7-7aa3f2a4f4b8"
      },
      "outputs": [
        {
          "name": "stdout",
          "output_type": "stream",
          "text": [
            "Parameter containing:\n",
            "tensor([[-0.0185,  0.0008,  0.0242,  ..., -0.0196, -0.0298, -0.0172],\n",
            "        [ 0.0310,  0.0323, -0.0164,  ...,  0.0094, -0.0073, -0.0284],\n",
            "        [-0.0029,  0.0097, -0.0272,  ..., -0.0224,  0.0306,  0.0082],\n",
            "        ...,\n",
            "        [-0.0092,  0.0263, -0.0155,  ...,  0.0279, -0.0002, -0.0121],\n",
            "        [ 0.0147, -0.0219,  0.0077,  ..., -0.0338, -0.0313, -0.0223],\n",
            "        [-0.0271,  0.0120, -0.0207,  ..., -0.0259,  0.0141,  0.0319]],\n",
            "       requires_grad=True)\n",
            "Parameter containing:\n",
            "tensor([-0.0103,  0.0322, -0.0224, -0.0094, -0.0308, -0.0006, -0.0259, -0.0215,\n",
            "        -0.0268,  0.0119], requires_grad=True)\n"
          ]
        }
      ],
      "source": [
        "import torch.nn as nn\n",
        "\n",
        "model = nn.Linear(in_features=784,\n",
        "                  out_features=10)\n",
        "\n",
        "print(model.weight) # the weight parameter, initialized to random values\n",
        "print(model.bias)   # the bias parameter, initialized to random values"
      ]
    },
    {
      "cell_type": "markdown",
      "id": "41ee800b",
      "metadata": {
        "id": "41ee800b"
      },
      "source": [
        "This `model` object can be called like a function to perform the computation ${\\bf W}{\\bf x} + {\\bf b}$:"
      ]
    },
    {
      "cell_type": "code",
      "execution_count": null,
      "id": "ee8d2c84",
      "metadata": {
        "colab": {
          "base_uri": "https://localhost:8080/"
        },
        "id": "ee8d2c84",
        "outputId": "061c6f84-66c0-419d-cf38-b6eb481bb3cb"
      },
      "outputs": [
        {
          "name": "stdout",
          "output_type": "stream",
          "text": [
            "input dim torch.Size([1, 28, 28])\n",
            "tensor([[ 0.2598,  0.0246, -0.4155, -0.0445, -0.2583,  0.1268, -0.1702,  0.1447,\n",
            "         -0.0719,  0.2905]], grad_fn=<AddmmBackward0>)\n"
          ]
        }
      ],
      "source": [
        "# reshape the input image into the shape [1, 784]\n",
        "# PyTorch always expects inputs of shape [batch_size, num_features]\n",
        "print(\"input dim\", train_data[0][0].shape)\n",
        "x = train_data[0][0].reshape(1, 784)\n",
        "# Computes z = Wx + b, also called the *logit*\n",
        "z = model(x)\n",
        "print(z)"
      ]
    },
    {
      "cell_type": "code",
      "execution_count": null,
      "id": "YVtjCe4p5jCp",
      "metadata": {
        "colab": {
          "base_uri": "https://localhost:8080/"
        },
        "id": "YVtjCe4p5jCp",
        "outputId": "05ec2abb-eaca-49b9-a5ab-1bbbd9e0c643"
      },
      "outputs": [
        {
          "data": {
            "text/plain": [
              "torch.Tensor"
            ]
          },
          "execution_count": 206,
          "metadata": {},
          "output_type": "execute_result"
        }
      ],
      "source": [
        "type(x)"
      ]
    },
    {
      "cell_type": "markdown",
      "id": "73894f67",
      "metadata": {
        "id": "73894f67"
      },
      "source": [
        "The **softmax operation** has no trainable parameters (i.e., no numbers that we tune that would effect\n",
        "the predictions of our model).\n",
        "Torch has a function `torch.softmax` that performs this operation, which\n",
        "normalizes the prediction so that the prediction represents a probability distribution.\n",
        "The `dim` parameter to the function tells PyTorch which dimension represent the different label classes\n",
        "(as opposed to, say, the dimension that represents different images in a batch)."
      ]
    },
    {
      "cell_type": "code",
      "execution_count": null,
      "id": "c118a748",
      "metadata": {
        "colab": {
          "base_uri": "https://localhost:8080/"
        },
        "id": "c118a748",
        "outputId": "199f4094-ff16-4c97-8181-0cb140d6e2ba"
      },
      "outputs": [
        {
          "name": "stdout",
          "output_type": "stream",
          "text": [
            "tensor([[0.1282, 0.1013, 0.0653, 0.0946, 0.0764, 0.1123, 0.0834, 0.1143, 0.0920,\n",
            "         0.1322]], grad_fn=<SoftmaxBackward0>)\n"
          ]
        }
      ],
      "source": [
        "y = torch.softmax(z, dim=1)\n",
        "print(y) # notice that this represents a probability distribution!"
      ]
    },
    {
      "cell_type": "markdown",
      "id": "98e71db6",
      "metadata": {
        "id": "98e71db6"
      },
      "source": [
        "If we are looking for a discrete/point prediction rather than a probability distribution,\n",
        "we will typically choose the label that the model believes to be **most probable**:"
      ]
    },
    {
      "cell_type": "code",
      "execution_count": null,
      "id": "43bb6b1a",
      "metadata": {
        "colab": {
          "base_uri": "https://localhost:8080/"
        },
        "id": "43bb6b1a",
        "outputId": "c3358d04-6e9e-4351-d1b0-116bc09d35ff"
      },
      "outputs": [
        {
          "name": "stdout",
          "output_type": "stream",
          "text": [
            "tensor([9])\n"
          ]
        }
      ],
      "source": [
        "pred = torch.argmax(y, axis=1) # axis=0 row, axis=1 col\n",
        "print(pred) # a prediction of which class/digit the image belong to"
      ]
    },
    {
      "cell_type": "markdown",
      "id": "218c0266",
      "metadata": {
        "id": "218c0266"
      },
      "source": [
        "Note that if all we wanted was a discrete prediction, we need not compute the softmax!\n",
        "(Why is that? How can we prove this property mathematically, using the definition of\n",
        "the softmax operation?)"
      ]
    },
    {
      "cell_type": "markdown",
      "id": "PrHg7OLd9BsM",
      "metadata": {
        "id": "PrHg7OLd9BsM"
      },
      "source": [
        "My answer: This is because softmax operation is a monotonically increasing function so the maximum of an array perserves before and after the operation. Since for prediction all we care about is the index of the array's maximum value, we do not care about normalizing negative values in the logits. ![image.png](data:image/png;base64,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)"
      ]
    },
    {
      "cell_type": "code",
      "execution_count": null,
      "id": "c487df46",
      "metadata": {
        "colab": {
          "base_uri": "https://localhost:8080/"
        },
        "id": "c487df46",
        "outputId": "a49f48e1-d736-4751-e751-1fe373a66987"
      },
      "outputs": [
        {
          "name": "stdout",
          "output_type": "stream",
          "text": [
            "tensor([9])\n"
          ]
        }
      ],
      "source": [
        "pred = torch.argmax(z, axis=1)\n",
        "print(pred)"
      ]
    },
    {
      "cell_type": "markdown",
      "id": "e141e496",
      "metadata": {
        "id": "e141e496"
      },
      "source": [
        "**Graded Task**: Complete the function below, which computes the **accuracy** of a PyTorch model\n",
        "over a dataset. The accuracy metric is the proportion of predictions made that is correct,\n",
        "or:\n",
        "\n",
        "$$\\frac{\\textrm{the number of correct predictions}}{\\textrm{total number of predictions made}}$$"
      ]
    },
    {
      "cell_type": "code",
      "execution_count": null,
      "id": "89778660",
      "metadata": {
        "colab": {
          "base_uri": "https://localhost:8080/"
        },
        "id": "89778660",
        "outputId": "214cb314-55bc-4d84-9d27-eed545b2afd0"
      },
      "outputs": [
        {
          "name": "stdout",
          "output_type": "stream",
          "text": [
            "Accuracy over the training set:\n",
            "0.07733333333333334\n"
          ]
        }
      ],
      "source": [
        "def accuracy_basic(model, dataset):\n",
        "    \"\"\"\n",
        "    Compute the accuracy of `model` over the `dataset`.\n",
        "    We will take the **most probable class**\n",
        "    as the class predicted by the model.\n",
        "\n",
        "    Parameters:\n",
        "        `model` - A torch.nn model. We will only be passing `nn.Linear` models.\n",
        "                  However, to make your code more generally useful, do not access\n",
        "                  `model.weight` and `model.bias` parameters directly. These\n",
        "                  class attributes may not exist for other kinds of models.\n",
        "        `dataset` - A list of 2-tuples of the form (x, t), where `x` is a PyTorch\n",
        "                  tensor of shape [1, 28, 28] representing an MNIST image,\n",
        "                  and `t` is the corresponding target label\n",
        "\n",
        "    Returns: a floating-point value between 0 and 1.\n",
        "    \"\"\"\n",
        "    total = 0      # count the total number of predictions made\n",
        "    correct = 0    # count the number of correct predictions made\n",
        "    for img, t in dataset:\n",
        "        x = img.reshape(1, 784) # TODO - what should the input be?\n",
        "        z = model(x) # TODO - how can we compute z = Wx + b using `model`?\n",
        "        pred = torch.argmax(z, axis=1) # TODO - how can we obtain a point prediction?\n",
        "        if t == pred:\n",
        "            correct += 1\n",
        "        total += 1\n",
        "    return correct / total\n",
        "\n",
        "\n",
        "print(\"Accuracy over the training set:\")\n",
        "print(accuracy_basic(model, train_data))"
      ]
    },
    {
      "cell_type": "markdown",
      "id": "b6a6d84e",
      "metadata": {
        "id": "b6a6d84e"
      },
      "source": [
        "**Task**: Explain why we would expect the training accuracy above to be poor."
      ]
    },
    {
      "cell_type": "markdown",
      "id": "OdlUIprhE_4l",
      "metadata": {
        "id": "OdlUIprhE_4l"
      },
      "source": [
        "My answer: A linear model can only predict linear functions applied to the input to create linear outputs. However the MNIST dataset consists of handwritten digits with exhibit lots of non-linear patterns which cannot be predicted using simple linear functions. Linear models also treat pixels individually, so it overlooks local patterns around neighboring pixels, such as the fact that a loop of white pixels likely represents 0 or 8."
      ]
    },
    {
      "cell_type": "markdown",
      "id": "67ead752",
      "metadata": {
        "id": "67ead752"
      },
      "source": [
        "One other nice thing about our `nn.Linear` model is that PyTorch **vectorizes**\n",
        "computations for us: we can make predictions for *many* images at the same time.\n",
        "Here is a rudimentary example where we make predictions for the first three\n",
        "images of our training set."
      ]
    },
    {
      "cell_type": "code",
      "execution_count": null,
      "id": "f86d0304",
      "metadata": {
        "colab": {
          "base_uri": "https://localhost:8080/"
        },
        "id": "f86d0304",
        "outputId": "23c1c71e-9534-4a0b-cc68-a8d446f74e44"
      },
      "outputs": [
        {
          "name": "stdout",
          "output_type": "stream",
          "text": [
            "torch.Size([3, 784])\n"
          ]
        }
      ],
      "source": [
        "x1 = train_data[0][0].reshape(1, 784)\n",
        "x2 = train_data[1][0].reshape(1, 784)\n",
        "x3 = train_data[2][0].reshape(1, 784)\n",
        "\n",
        "X = torch.cat([x1, x2, x3]).reshape(-1, 784) # note the -1 value here, explained below\n",
        "print(X.shape) # Pytorch figures out that the shape of this tensor needs to be [3, 784]"
      ]
    },
    {
      "cell_type": "markdown",
      "id": "eaceffd6",
      "metadata": {
        "id": "eaceffd6"
      },
      "source": [
        "The above code uses a features of PyTorch's `reshape()` method that allows you to\n",
        "use the size `-1` as a placeholder value and let PyTorch figure out what the correct\n",
        "size should be.\n",
        "\n",
        "Now, we can make predictions for all 3 images simultaneously"
      ]
    },
    {
      "cell_type": "code",
      "execution_count": null,
      "id": "d9274378",
      "metadata": {
        "colab": {
          "base_uri": "https://localhost:8080/"
        },
        "id": "d9274378",
        "outputId": "1336b42e-cfb2-477f-8058-be40a6ea734f"
      },
      "outputs": [
        {
          "name": "stdout",
          "output_type": "stream",
          "text": [
            "tensor([[0.1282, 0.1013, 0.0653, 0.0946, 0.0764, 0.1123, 0.0834, 0.1143, 0.0920,\n",
            "         0.1322],\n",
            "        [0.1046, 0.0887, 0.0713, 0.1133, 0.0764, 0.1265, 0.0902, 0.0879, 0.0782,\n",
            "         0.1630],\n",
            "        [0.0977, 0.0903, 0.0965, 0.1010, 0.0990, 0.0994, 0.1085, 0.0984, 0.1023,\n",
            "         0.1068]], grad_fn=<SoftmaxBackward0>)\n"
          ]
        }
      ],
      "source": [
        "z = model(X)\n",
        "y = torch.softmax(z, dim=1)\n",
        "print(y)"
      ]
    },
    {
      "cell_type": "markdown",
      "id": "7c273455",
      "metadata": {
        "id": "7c273455"
      },
      "source": [
        "**Task** Complete the function `accuracy_vectorized` that outputs the same\n",
        "result as `accuracy_basic`, but uses vectorization to\n",
        "compute predictions for **all** inputs in the `dataset` simultaneously."
      ]
    },
    {
      "cell_type": "code",
      "execution_count": null,
      "id": "2c0bd53d",
      "metadata": {
        "id": "2c0bd53d"
      },
      "outputs": [],
      "source": [
        "def accuracy_vectorized(model, dataset):\n",
        "    \"\"\"\n",
        "    Same signature as the `accuracy_basic()` function, but the call to model() is vectorized\n",
        "    \"\"\"\n",
        "    X = torch.concat([x for x, t in dataset])\n",
        "    t = torch.Tensor([t for x, t in dataset])\n",
        "    z = model(X.reshape(-1, 784)) # TODO: use a single call to model() to compute the prediction for all inputs\n",
        "    pred = torch.argmax(z, axis=1) # TODO: `pred` should have the same shape as `t`\n",
        "    # print(\"shape check:\", t.shape, pred.shape)\n",
        "    correct = int(torch.sum(t == pred)) # count the number of correct predictions\n",
        "    total = t.shape[0]                  # count the total number of predictions made\n",
        "    return correct / total"
      ]
    },
    {
      "cell_type": "code",
      "execution_count": null,
      "id": "RnmQBil41TsG",
      "metadata": {
        "colab": {
          "base_uri": "https://localhost:8080/"
        },
        "id": "RnmQBil41TsG",
        "outputId": "86e28f2d-6ae7-480e-ee7f-d832ae02c2d3"
      },
      "outputs": [
        {
          "data": {
            "text/plain": [
              "0.07733333333333334"
            ]
          },
          "execution_count": 214,
          "metadata": {},
          "output_type": "execute_result"
        }
      ],
      "source": [
        "accuracy_vectorized(model, train_data)"
      ]
    },
    {
      "cell_type": "markdown",
      "id": "289ed2ea",
      "metadata": {
        "id": "289ed2ea"
      },
      "source": [
        "**Task**: Compare the runtime of `accuracy_basic` and `accuracy_vectorized` by running the two cells\n",
        "below. The line `%%time` prints the amount of time that Colab takes to run the code in the cell.\n",
        "The function call is repeated 100 times so that we can more clearly see the difference in\n",
        "runtime. Using what you learned from CSC311, explain why `accuracy_vectorized` is faster."
      ]
    },
    {
      "cell_type": "code",
      "execution_count": null,
      "id": "01fcebf3",
      "metadata": {
        "colab": {
          "base_uri": "https://localhost:8080/"
        },
        "id": "01fcebf3",
        "outputId": "7cc40103-9f2f-42ef-f78b-11d3cfa1d774"
      },
      "outputs": [
        {
          "name": "stdout",
          "output_type": "stream",
          "text": [
            "CPU times: user 15.3 s, sys: 14.1 ms, total: 15.3 s\n",
            "Wall time: 15.5 s\n"
          ]
        }
      ],
      "source": [
        "%%time\n",
        "for i in range(100):\n",
        "    accuracy_basic(model, train_data)"
      ]
    },
    {
      "cell_type": "code",
      "execution_count": null,
      "id": "ad8d2acc",
      "metadata": {
        "colab": {
          "base_uri": "https://localhost:8080/"
        },
        "id": "ad8d2acc",
        "outputId": "2925c38b-d5a2-4a18-f474-7df3782efb31"
      },
      "outputs": [
        {
          "name": "stdout",
          "output_type": "stream",
          "text": [
            "CPU times: user 1.1 s, sys: 0 ns, total: 1.1 s\n",
            "Wall time: 1.11 s\n"
          ]
        }
      ],
      "source": [
        "%%time\n",
        "for i in range(100):\n",
        "    accuracy_vectorized(model, train_data)"
      ]
    },
    {
      "cell_type": "code",
      "execution_count": null,
      "id": "4abeb7ee",
      "metadata": {
        "id": "4abeb7ee"
      },
      "outputs": [],
      "source": [
        "# TODO: Your explanation goes here"
      ]
    },
    {
      "cell_type": "markdown",
      "id": "67dj7Db37gRo",
      "metadata": {
        "id": "67dj7Db37gRo"
      },
      "source": [
        "My answer: The efficiency of predicting with vectorized computation in PyTorch is related to the mathematical operations performed on vectors and matrices. PyTorch leverages optimized linear algebra libraries to perform these operations. The primary mathematical operation involved is matrix multiplication, which is a fundamental operation in neural network computations. When predicting on a batch of images, this matrix multiplication can be performed in parallel for all images in the batch."
      ]
    },
    {
      "cell_type": "markdown",
      "id": "5ee40246",
      "metadata": {
        "id": "5ee40246"
      },
      "source": [
        "If our data set is large, feeding all inputs into the model at the same time may result\n",
        "in an out of memory error.\n",
        "Thus, we may find PyTorch's `DataLoader` useful. This class takes our data set and the\n",
        "desired batch size, and splits the data into mini-batches of that size. We can use\n",
        "a loop to iterate over the minibatches:"
      ]
    },
    {
      "cell_type": "code",
      "execution_count": null,
      "id": "e68219de",
      "metadata": {
        "colab": {
          "base_uri": "https://localhost:8080/"
        },
        "id": "e68219de",
        "outputId": "2edcb6ed-c15f-4cb7-c6f8-bd5cf576e15c"
      },
      "outputs": [
        {
          "name": "stdout",
          "output_type": "stream",
          "text": [
            "torch.Size([100, 1, 28, 28])\n",
            "torch.Size([100])\n"
          ]
        }
      ],
      "source": [
        "train_loader = torch.utils.data.DataLoader(train_data, batch_size=100)\n",
        "for X, t in train_loader:\n",
        "    print(X.shape)\n",
        "    print(t.shape)\n",
        "    break"
      ]
    },
    {
      "cell_type": "markdown",
      "id": "69a47a6e",
      "metadata": {
        "id": "69a47a6e"
      },
      "source": [
        "**Task**: Complete the definition of the `accuracy` function below:"
      ]
    },
    {
      "cell_type": "code",
      "execution_count": null,
      "id": "053e6ef3",
      "metadata": {
        "colab": {
          "base_uri": "https://localhost:8080/"
        },
        "id": "053e6ef3",
        "outputId": "2da5fff1-ec88-4d6d-dfce-2c78b51ee507"
      },
      "outputs": [
        {
          "data": {
            "text/plain": [
              "0.05"
            ]
          },
          "execution_count": 219,
          "metadata": {},
          "output_type": "execute_result"
        }
      ],
      "source": [
        "def accuracy(model, dataset):\n",
        "    \"\"\"\n",
        "    Same signature as the `accuracy_basic()` function, but we will use a DataLoader and process\n",
        "    100 images at a time\n",
        "    \"\"\"\n",
        "    correct, total = 0, 0\n",
        "    loader = torch.utils.data.DataLoader(dataset, batch_size=100)\n",
        "    for X, t in loader:\n",
        "        z = model(X.reshape(-1, 784)) # TODO: use a single call to `model()` here as before\n",
        "        pred = torch.argmax(z, axis=1) # TODO: `pred` should have the same shape as `t`\n",
        "        # TODO: update `correct` and `total`\n",
        "        correct = int(torch.sum(t == pred)) # count the number of correct predictions\n",
        "        total = t.shape[0]\n",
        "        # print(t, pred)\n",
        "    return correct / total\n",
        "\n",
        "accuracy(model, train_data)"
      ]
    },
    {
      "cell_type": "markdown",
      "id": "8da6d245",
      "metadata": {
        "id": "8da6d245"
      },
      "source": [
        "## Part 3. Cross Entropy Loss and Automatic Gradient Computation\n",
        "\n",
        "Now that we understand how a linear model makes predictions, we can explore how to modify its\n",
        "parameters to produce a model that makes \"better\" predictions. To do this, we will define\n",
        "a measure of \"good\"ness (or rather, \"bad\"ness) of a model that is **differentiable with respect\n",
        "to the parameters**. Differentiability is important, because it allows us to compute derivatives\n",
        "with respect to these parameters, which tells us how to tune the parameters to decrease \"bad\"ness.\n",
        "\n",
        "This \"badness\" metric is called a **loss function**. A loss function compares the model prediction\n",
        "against the ground-truth target and produces a value representing how different the prediction is\n",
        "from the target.  Like in CSC311, we will use the **Cross-Entropy Loss** for multi-class classification.\n",
        "In statistics courses you may learn about the theoretical reasons why the cross-entropy loss is\n",
        "appropriate for the multi-class classification task.\n",
        "\n",
        "$$\\mathcal{L}(y, t) = - \\sum_{k=1}^K t_k \\log(y_k) = - \\mathbf{t}^\\top \\log(\\mathbf{y})$$\n",
        "\n",
        "You can read more about PyTorch's implementation of the Cross-entropy loss here:\n",
        "[https://pytorch.org/docs/stable/generated/torch.nn.CrossEntropyLoss.html](https://pytorch.org/docs/stable/generated/torch.nn.CrossEntropyLoss.html)\n",
        "One key thing to note is that the cross entropy loss takes as input the **unnormalized logits** (the z's) and *not*\n",
        "the post-softmax, normalized probabilities (the y's)."
      ]
    },
    {
      "cell_type": "code",
      "execution_count": null,
      "id": "0715ca74",
      "metadata": {
        "id": "0715ca74"
      },
      "outputs": [],
      "source": [
        "criterion = nn.CrossEntropyLoss()"
      ]
    },
    {
      "cell_type": "markdown",
      "id": "9a01a963",
      "metadata": {
        "id": "9a01a963"
      },
      "source": [
        "Before we go further, let's get some more intuition about the cross-entropy loss.\n",
        "We first demonstrate the cross entropy loss in action by computing hte \"badness\""
      ]
    },
    {
      "cell_type": "code",
      "execution_count": null,
      "id": "32b61e9f",
      "metadata": {
        "colab": {
          "base_uri": "https://localhost:8080/"
        },
        "id": "32b61e9f",
        "outputId": "20c3109c-fbd7-47eb-87ba-3787ac8ceb77"
      },
      "outputs": [
        {
          "name": "stdout",
          "output_type": "stream",
          "text": [
            "tensor(2.1869, grad_fn=<NllLossBackward0>)\n"
          ]
        }
      ],
      "source": [
        "x = train_data[0][0].reshape(1, 784)        # input\n",
        "t = torch.Tensor([train_data[0][1]]).long() # target label, represented as an integer index\n",
        "z = model(x.reshape(-1, 784))               # prediction logit\n",
        "\n",
        "loss = criterion(z, t)\n",
        "\n",
        "print(loss)"
      ]
    },
    {
      "cell_type": "code",
      "execution_count": null,
      "id": "PXAknBaMFaab",
      "metadata": {
        "colab": {
          "base_uri": "https://localhost:8080/"
        },
        "id": "PXAknBaMFaab",
        "outputId": "edd94538-20f4-4bd8-be6d-6e2995795daa"
      },
      "outputs": [
        {
          "data": {
            "text/plain": [
              "tensor([5])"
            ]
          },
          "execution_count": 222,
          "metadata": {},
          "output_type": "execute_result"
        }
      ],
      "source": [
        "t"
      ]
    },
    {
      "cell_type": "code",
      "execution_count": null,
      "id": "OYswbVv3GgcO",
      "metadata": {
        "colab": {
          "base_uri": "https://localhost:8080/"
        },
        "id": "OYswbVv3GgcO",
        "outputId": "4609e889-8186-4fe4-c5ce-1718b501f083"
      },
      "outputs": [
        {
          "data": {
            "text/plain": [
              "tensor([[ 0.2598,  0.0246, -0.4155, -0.0445, -0.2583,  0.1268, -0.1702,  0.1447,\n",
              "         -0.0719,  0.2905]], grad_fn=<AddmmBackward0>)"
            ]
          },
          "execution_count": 223,
          "metadata": {},
          "output_type": "execute_result"
        }
      ],
      "source": [
        "z"
      ]
    },
    {
      "cell_type": "markdown",
      "id": "ad29a71f",
      "metadata": {
        "id": "ad29a71f"
      },
      "source": [
        "**Graded Task**: Consider the code below.  What value of `label` would produce the lowest cross-entropy loss?\n",
        "Why? To answer this question, start by exploring the arguments passed to the call to `criterion`, and\n",
        "form an understanding of what those arugments represent. (Why are there 3 possible values of `label`?\n",
        "What do the 3 floating-point values in the first argument to `criterion` represent?)"
      ]
    },
    {
      "cell_type": "code",
      "execution_count": null,
      "id": "3fe30e12",
      "metadata": {
        "colab": {
          "base_uri": "https://localhost:8080/"
        },
        "id": "3fe30e12",
        "outputId": "c5d2c16f-e05a-44d4-f632-7bc7ad7a41c7"
      },
      "outputs": [
        {
          "name": "stdout",
          "output_type": "stream",
          "text": [
            "tensor(0.4386)\n"
          ]
        }
      ],
      "source": [
        "label = 2 # 0, 1, or 2?\n",
        "\n",
        "loss = criterion(torch.Tensor([[1.5, 2.2, 3.2]]),\n",
        "                 torch.Tensor([label]).long())\n",
        "print(loss)"
      ]
    },
    {
      "cell_type": "code",
      "execution_count": null,
      "id": "d23bf1a6",
      "metadata": {
        "id": "d23bf1a6"
      },
      "outputs": [],
      "source": [
        "# TODO: Explain why the label choice produces the lowest loss."
      ]
    },
    {
      "cell_type": "markdown",
      "id": "nDivcVubRPqR",
      "metadata": {
        "id": "nDivcVubRPqR"
      },
      "source": [
        "My answer: The values [1.5, 2.2, 3.2] represent the raw predictions or logits for three classes. The cross-entropy loss is calculated based on these predictions and the ground truth label. To minimize the cross-entropy loss, one would choose the label corresponding to the highest predicted probability. In this case, the label that would produce the lowest loss is the one corresponding to the class with the highest logit, which is the class with the maximum value in [1.5, 2.2, 3.2]. In this case the target label represents the index of the highest predicted probability. The list has only three elements, so 'label' takes index 0, 1, and 2."
      ]
    },
    {
      "cell_type": "markdown",
      "id": "e8d8a813",
      "metadata": {
        "id": "e8d8a813"
      },
      "source": [
        "Now that we have an understanding of the cross-entropy loss, we can begin to understand how PyTorch computes\n",
        "gradients.\n",
        "Notice that when we print the variable `loss` above,\n",
        "the value printed is not only a numerical value, but also has other information attached.\n",
        "These information help PyTorch compute gradients, and these gradients can be propagated backwards\n",
        "using the `loss.backward()` method.\n",
        "\n",
        "Under the hood, PyTorch *performs backpropagation*, which we discussed in CSC311 and will review\n",
        "again in the coming weeks. After `loss.backward()` is computed, tensors like\n",
        "`model.bias` and `model.weights` will have gradients."
      ]
    },
    {
      "cell_type": "code",
      "execution_count": null,
      "id": "1912c2d2",
      "metadata": {
        "colab": {
          "base_uri": "https://localhost:8080/"
        },
        "id": "1912c2d2",
        "outputId": "a444bf8a-02d2-4de3-adb6-58020347b349"
      },
      "outputs": [
        {
          "name": "stdout",
          "output_type": "stream",
          "text": [
            "tensor(2.2435, grad_fn=<NllLossBackward0>)\n"
          ]
        }
      ],
      "source": [
        "# recreate the model to clean up some hidden variables\n",
        "model = nn.Linear(in_features=784, out_features=10)\n",
        "\n",
        "x = train_data[0][0].reshape(1, 784)        # input\n",
        "t = torch.Tensor([train_data[0][1]]).long() # target label, represented as an integer index\n",
        "z = model(x.reshape(-1, 784))               # prediction logit\n",
        "\n",
        "loss = criterion(z, t)\n",
        "print(loss)\n",
        "\n",
        "loss.backward() # propagate the gradients with respect to the loss"
      ]
    },
    {
      "cell_type": "code",
      "execution_count": null,
      "id": "86efe5a2",
      "metadata": {
        "colab": {
          "base_uri": "https://localhost:8080/"
        },
        "id": "86efe5a2",
        "outputId": "29577544-60c0-4dd6-f942-5015fe0602c0"
      },
      "outputs": [
        {
          "name": "stdout",
          "output_type": "stream",
          "text": [
            "tensor([ 0.1160,  0.0976,  0.0940,  0.0951,  0.0873, -0.8939,  0.0814,  0.0878,\n",
            "         0.1536,  0.0812])\n"
          ]
        }
      ],
      "source": [
        "print(model.bias.grad) # the gradient of the loss with respect to the bias vector"
      ]
    },
    {
      "cell_type": "code",
      "execution_count": null,
      "id": "e3959d19",
      "metadata": {
        "colab": {
          "base_uri": "https://localhost:8080/"
        },
        "id": "e3959d19",
        "outputId": "1c4e4b0b-4370-434b-a2b5-9402aa57da42"
      },
      "outputs": [
        {
          "name": "stdout",
          "output_type": "stream",
          "text": [
            "tensor([[0., 0., 0.,  ..., 0., 0., 0.],\n",
            "        [0., 0., 0.,  ..., 0., 0., 0.],\n",
            "        [0., 0., 0.,  ..., 0., 0., 0.],\n",
            "        ...,\n",
            "        [0., 0., 0.,  ..., 0., 0., 0.],\n",
            "        [0., 0., 0.,  ..., 0., 0., 0.],\n",
            "        [0., 0., 0.,  ..., 0., 0., 0.]])\n"
          ]
        }
      ],
      "source": [
        "print(model.weight.grad) # the gradient of the loss with respect to the weight matrix"
      ]
    },
    {
      "cell_type": "markdown",
      "id": "d24d7550",
      "metadata": {
        "id": "d24d7550"
      },
      "source": [
        "**Graded Task**: Verify that `model.bias.grad` is correct by computing this gradient explicitly\n",
        "in PyTorch. You may wish to begin by reviewing your past CSC311 notes, or by using calculus to\n",
        "find an expression to represent this quantity."
      ]
    },
    {
      "cell_type": "markdown",
      "id": "-3CjGRxRmiol",
      "metadata": {
        "id": "-3CjGRxRmiol"
      },
      "source": [
        "z = w*x+b\n",
        "\n",
        "L = -log(softmax(z)) where softmax(z) is the softmax probability corresponding to the correct class.\n",
        "\n",
        "dL/db = dL/dz * dz/db where dz/db = 1\n",
        "\n",
        "then dL/db = dL/dz"
      ]
    },
    {
      "cell_type": "code",
      "execution_count": null,
      "id": "04c29760",
      "metadata": {
        "colab": {
          "base_uri": "https://localhost:8080/"
        },
        "id": "04c29760",
        "outputId": "095b40a0-eebf-43b4-bb56-47d912a28a6f"
      },
      "outputs": [
        {
          "name": "stdout",
          "output_type": "stream",
          "text": [
            "tensor([[ 0.1160,  0.0976,  0.0940,  0.0951,  0.0873, -0.8939,  0.0814,  0.0878,\n",
            "          0.1536,  0.0812]], grad_fn=<SubBackward0>)\n",
            "tensor([ 0.1160,  0.0976,  0.0940,  0.0951,  0.0873, -0.8939,  0.0814,  0.0878,\n",
            "         0.1536,  0.0812])\n"
          ]
        }
      ],
      "source": [
        "t_onehot = torch.eye(10)[t] # You may find this useful. (Why? What does this quantity represent)\n",
        "def cross_entropy_gradient_explicit(logits, target):\n",
        "    # Compute softmax probabilities\n",
        "    softmax_probs = torch.nn.functional.softmax(logits, dim=1)\n",
        "\n",
        "    # Compute the gradient of the loss with respect to the logits\n",
        "    gradient = softmax_probs - target\n",
        "\n",
        "    return gradient\n",
        "model_bias_grad = cross_entropy_gradient_explicit(z, t_onehot) # TODO\n",
        "\n",
        "print(model_bias_grad) # should be the same as model.bias.grad\n",
        "print(model.bias.grad)"
      ]
    },
    {
      "cell_type": "code",
      "execution_count": null,
      "id": "GxKlkaDMpgHQ",
      "metadata": {
        "id": "GxKlkaDMpgHQ"
      },
      "outputs": [],
      "source": [
        "# # recreate the model to clean up some hidden variables\n",
        "# model = nn.Linear(in_features=784, out_features=10)\n",
        "\n",
        "# x = train_data[0][0].reshape(1, 784)        # input\n",
        "# t = torch.Tensor([train_data[0][1]]).long() # target label, represented as an integer index\n",
        "# z = model(x.reshape(-1, 784))               # prediction logit\n",
        "# loss = criterion(z, t)\n",
        "\n",
        "# # Retain the gradient for non-leaf tensor (z)\n",
        "# z.retain_grad()\n",
        "\n",
        "# # Compute the gradient\n",
        "# loss.backward()\n",
        "\n",
        "# # Access the gradient\n",
        "# model_bias_grad = z.grad\n",
        "# print(model_bias_grad == model.bias.grad)"
      ]
    },
    {
      "cell_type": "markdown",
      "id": "6a323fd4",
      "metadata": {
        "id": "6a323fd4"
      },
      "source": [
        "The gradient computation works in a vectorized setting as well."
      ]
    },
    {
      "cell_type": "code",
      "execution_count": null,
      "id": "f3891de8",
      "metadata": {
        "colab": {
          "base_uri": "https://localhost:8080/"
        },
        "id": "f3891de8",
        "outputId": "d7833a01-81ab-4399-9105-94ad8ff274b0"
      },
      "outputs": [
        {
          "name": "stdout",
          "output_type": "stream",
          "text": [
            "torch.Size([3, 784])\n",
            "tensor([5, 0, 4])\n"
          ]
        }
      ],
      "source": [
        "# create a data set with 3 inputs, 3 targets\n",
        "\n",
        "x1 = train_data[0][0].reshape(1, 784)\n",
        "x2 = train_data[1][0].reshape(1, 784)\n",
        "x3 = train_data[1][0].reshape(1, 784)\n",
        "X = torch.cat([x1, x2, x3]).reshape(-1, 784)\n",
        "t = torch.Tensor([train_data[0][1], train_data[1][1], train_data[2][1]]).long()\n",
        "\n",
        "print(X.shape)\n",
        "print(t)"
      ]
    },
    {
      "cell_type": "markdown",
      "id": "9be73b31",
      "metadata": {
        "id": "9be73b31"
      },
      "source": [
        "The average loss (mean) across the data points are shown:"
      ]
    },
    {
      "cell_type": "code",
      "execution_count": null,
      "id": "75c893ae",
      "metadata": {
        "colab": {
          "base_uri": "https://localhost:8080/"
        },
        "id": "75c893ae",
        "outputId": "bec6b64f-8f07-4384-9be1-334b3523d96e"
      },
      "outputs": [
        {
          "name": "stdout",
          "output_type": "stream",
          "text": [
            "tensor(2.4919, grad_fn=<NllLossBackward0>)\n"
          ]
        }
      ],
      "source": [
        "model = nn.Linear(in_features=784, out_features=10)\n",
        "z = model(X)\n",
        "loss = criterion(z, t)\n",
        "print(loss)\n",
        "\n",
        "loss.backward() # propagate the gradients with respect to the loss"
      ]
    },
    {
      "cell_type": "markdown",
      "id": "12b51dba",
      "metadata": {
        "id": "12b51dba"
      },
      "source": [
        "**Graded Task**: Verify that `model.bias.grad` is correct when using vectorized input\n",
        "by computing this gradient explicitly in PyTorch. Again, we recommend working this out\n",
        "by hand first. After you have done so, you may find the function `torch.sum()` or\n",
        "`torch.mean()` helpful."
      ]
    },
    {
      "cell_type": "markdown",
      "id": "lxdrCDkruZu2",
      "metadata": {
        "id": "lxdrCDkruZu2"
      },
      "source": [
        "![image.png](data:image/png;base64,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)"
      ]
    },
    {
      "cell_type": "code",
      "execution_count": null,
      "id": "53120c97",
      "metadata": {
        "colab": {
          "base_uri": "https://localhost:8080/"
        },
        "id": "53120c97",
        "outputId": "a56a5262-1a35-45ac-9ee9-9b99ebf88363"
      },
      "outputs": [
        {
          "name": "stdout",
          "output_type": "stream",
          "text": [
            "torch.Size([3, 10])\n",
            "torch.Size([3, 10])\n",
            "tensor([-0.2389,  0.1343,  0.1010,  0.0878, -0.2332, -0.2532,  0.1082,  0.0929,\n",
            "         0.1056,  0.0955], grad_fn=<MeanBackward1>)\n",
            "tensor([-0.2389,  0.1343,  0.1010,  0.0878, -0.2332, -0.2532,  0.1082,  0.0929,\n",
            "         0.1056,  0.0955])\n"
          ]
        }
      ],
      "source": [
        "t_onehot = torch.eye(10)[t] # TODO: understand the shape of this quantity before using it\n",
        "print(t_onehot.shape)\n",
        "def cross_entropy_gradient_explicit(logits, target):\n",
        "    print(logits.shape)\n",
        "    # Compute softmax probabilities\n",
        "    softmax_probs = torch.nn.functional.softmax(logits, dim=1)\n",
        "\n",
        "    # Compute the gradient of the loss with respect to the logits\n",
        "    gradient = torch.mean(softmax_probs - target, axis=0)  #axis=0 column\n",
        "\n",
        "    return gradient\n",
        "model_bias_grad = cross_entropy_gradient_explicit(z, t_onehot) # TODO\n",
        "\n",
        "print(model_bias_grad) # should be the same as model.bias.grad\n",
        "print(model.bias.grad) # should be the same as above"
      ]
    },
    {
      "cell_type": "markdown",
      "id": "eaef39cc",
      "metadata": {
        "id": "eaef39cc"
      },
      "source": [
        "## Part 4. Neural Network Training via Stochastic Gradient Descent.\n",
        "\n",
        "We are almost ready to use PyTorch to train the model. One last piece that we need is an\n",
        "optimizer that updates the model parameter based on the gradient. This update can be done\n",
        "in different ways, and the most basic approach discussed in CSC311 was using **gradient descent**.\n",
        "\n",
        "$${\\bf W} \\leftarrow {\\bf W} - \\lambda \\frac{\\partial \\mathcal{L}}{\\partial {\\bf W}}$$\n",
        "\n",
        "When we use the entire training data set to compute the gradient of the mean loss (with respect\n",
        " to each parameter), we call the approach **full batch gradient descent**.\n",
        "However, this approach is expensive if we have a large training set.\n",
        "Typically, we approximate this mean loss using a **minibatch**, or a small sample of the training set.\n",
        "Using gradient descent with this approximate gradient is called **stochastic gradient descent**.\n",
        "\n",
        "PyTorch has built-in classes inside the package `torch.optim` to perform\n",
        "these gradient update steps. We will use the `SGD` class. Initializing this class\n",
        "requires a few things, including the list of model parameters that we want to optimize.\n",
        "For us, the list of parameters to optimize include `model.weight` and `model.bias`, which\n",
        "we can obtain by calling `model.parameters()`."
      ]
    },
    {
      "cell_type": "code",
      "execution_count": null,
      "id": "a6dce9c6",
      "metadata": {
        "id": "a6dce9c6"
      },
      "outputs": [],
      "source": [
        "import torch.optim as optim\n",
        "\n",
        "optimizer = optim.SGD(model.parameters(), # the parameters to optimize\n",
        "                      lr=0.005)           # the learning rate"
      ]
    },
    {
      "cell_type": "markdown",
      "id": "913c955e",
      "metadata": {
        "id": "913c955e"
      },
      "source": [
        "There are two important optimizer methods that we will use.\n",
        "First is the `optimizer.zero_grad()` method, which clears the `.grad` attribute\n",
        "of the parameters. Let's see how it works:"
      ]
    },
    {
      "cell_type": "code",
      "execution_count": null,
      "id": "bd11c2c4",
      "metadata": {
        "colab": {
          "base_uri": "https://localhost:8080/"
        },
        "id": "bd11c2c4",
        "outputId": "cb045bfb-bc58-4170-e1ba-7e71093da1cc"
      },
      "outputs": [
        {
          "name": "stdout",
          "output_type": "stream",
          "text": [
            "tensor([-0.2389,  0.1343,  0.1010,  0.0878, -0.2332, -0.2532,  0.1082,  0.0929,\n",
            "         0.1056,  0.0955])\n",
            "None\n"
          ]
        }
      ],
      "source": [
        "print(model.bias.grad) # should be a nonzero value from above\n",
        "\n",
        "optimizer.zero_grad()\n",
        "\n",
        "print(model.bias.grad) # should be cleared"
      ]
    },
    {
      "cell_type": "markdown",
      "id": "434ce3b2",
      "metadata": {
        "id": "434ce3b2"
      },
      "source": [
        "The other method is the `step()` method, which performs the actual gradient descent update."
      ]
    },
    {
      "cell_type": "code",
      "execution_count": null,
      "id": "05055011",
      "metadata": {
        "colab": {
          "base_uri": "https://localhost:8080/"
        },
        "id": "05055011",
        "outputId": "ef711968-c9a4-4b28-e75a-4fc01b4ae301"
      },
      "outputs": [
        {
          "name": "stdout",
          "output_type": "stream",
          "text": [
            "Parameter containing:\n",
            "tensor([ 0.0188,  0.0014, -0.0221, -0.0059, -0.0205,  0.0311,  0.0019, -0.0191,\n",
            "        -0.0001,  0.0032], requires_grad=True)\n",
            "tensor([-0.2535,  0.1378,  0.1005,  0.0862, -0.2295, -0.2283,  0.1166,  0.0847,\n",
            "         0.0903,  0.0952])\n",
            "tensor([ 0.0201,  0.0007, -0.0226, -0.0063, -0.0193,  0.0323,  0.0013, -0.0195,\n",
            "        -0.0006,  0.0027], grad_fn=<SubBackward0>)\n",
            "Parameter containing:\n",
            "tensor([ 0.0201,  0.0007, -0.0226, -0.0063, -0.0193,  0.0323,  0.0013, -0.0195,\n",
            "        -0.0006,  0.0027], requires_grad=True)\n"
          ]
        }
      ],
      "source": [
        "model = nn.Linear(in_features=784, out_features=10)\n",
        "optimizer = optim.SGD(model.parameters(), lr=0.005)\n",
        "\n",
        "print(model.bias)\n",
        "\n",
        "z = model(X)\n",
        "loss = criterion(z, t)\n",
        "loss.backward()\n",
        "\n",
        "print(model.bias.grad) # gradient\n",
        "print(model.bias - 0.005 * model.bias.grad) # this should be the updated value of model.bias\n",
        "\n",
        "optimizer.step()\n",
        "\n",
        "print(model.bias) # should be different compared to above"
      ]
    },
    {
      "cell_type": "markdown",
      "id": "ad951783",
      "metadata": {
        "id": "ad951783"
      },
      "source": [
        "Now that we have everything in place, we are ready to write the training loop:\n",
        "\n",
        "**Graded Task**: Complete the function below, which trains the model."
      ]
    },
    {
      "cell_type": "code",
      "execution_count": null,
      "id": "74dd6115",
      "metadata": {
        "colab": {
          "base_uri": "https://localhost:8080/",
          "height": 927
        },
        "id": "74dd6115",
        "outputId": "b4ce2c88-01cc-402c-b268-bc8f56199925"
      },
      "outputs": [
        {
          "data": {
            "image/png": "[encoded data removed]",
            "text/plain": [
              "<Figure size 640x480 with 1 Axes>"
            ]
          },
          "metadata": {},
          "output_type": "display_data"
        },
        {
          "data": {
            "image/png": "[encoded data removed]",
            "text/plain": [
              "<Figure size 640x480 with 1 Axes>"
            ]
          },
          "metadata": {},
          "output_type": "display_data"
        }
      ],
      "source": [
        "def train_model(model,\n",
        "                train_data,\n",
        "                val_data,\n",
        "                learning_rate=0.005,\n",
        "                batch_size=100,\n",
        "                num_epochs=10,\n",
        "                plot_every=10):\n",
        "    \"\"\"\n",
        "    Train the PyTorch model `model` using the training data `train_data` and the\n",
        "    corresponding hyperparameters. Report training loss, training accuracy, and\n",
        "    validation accuracy every `plot_every` iterations.\n",
        "    \"\"\"\n",
        "    train_loader = torch.utils.data.DataLoader(train_data,\n",
        "                                               batch_size=batch_size,\n",
        "                                               shuffle=True) # reshuffle minibatches every epoch\n",
        "    criterion = nn.CrossEntropyLoss()\n",
        "    optimizer = optim.SGD(model.parameters(), lr=learning_rate)\n",
        "\n",
        "    # these lists will be used to track the training progress\n",
        "    # and to plot the training curve\n",
        "    iters, train_loss, train_acc, val_acc = [], [], [], []\n",
        "    iter_count = 0 # count the number of iterations that has passed\n",
        "\n",
        "    try:\n",
        "        for e in range(num_epochs):\n",
        "            for i, (images, labels) in enumerate(train_loader):\n",
        "                x = images\n",
        "                z = model(x.reshape(-1, 784))   # TODO\n",
        "                loss = criterion(z, labels) # TODO\n",
        "\n",
        "                loss.backward() # propagate the gradients\n",
        "                optimizer.step() # update the parameters\n",
        "                optimizer.zero_grad() # clean up accumualted gradients\n",
        "\n",
        "                iter_count += 1\n",
        "                if iter_count % plot_every == 0:\n",
        "                    iters.append(iter_count)\n",
        "                    train_loss.append(float(loss))\n",
        "                    train_acc.append(accuracy(model, train_data))\n",
        "                    val_acc.append(accuracy(model, val_data))\n",
        "    finally:\n",
        "        # This try/finally block is to display the training curve\n",
        "        # even if training is interrupted\n",
        "        plt.figure()\n",
        "        plt.plot(iters[:len(train_loss)], train_loss)\n",
        "        plt.title(\"Loss over iterations\")\n",
        "        plt.xlabel(\"Iterations\")\n",
        "        plt.ylabel(\"Loss\")\n",
        "\n",
        "        plt.figure()\n",
        "        plt.plot(iters[:len(train_acc)], train_acc)\n",
        "        plt.plot(iters[:len(val_acc)], val_acc)\n",
        "        plt.title(\"Accuracy over iterations\")\n",
        "        plt.xlabel(\"Iterations\")\n",
        "        plt.ylabel(\"Accuracy\")\n",
        "        plt.legend([\"Train\", \"Validation\"])\n",
        "\n",
        "model = nn.Linear(784, 10)\n",
        "train_model(model, train_data, val_data)"
      ]
    },
    {
      "cell_type": "markdown",
      "id": "1adc6acc",
      "metadata": {
        "id": "1adc6acc"
      },
      "source": [
        "## Part 5. Hyperparameter Tuning\n",
        "\n",
        "Our training process is not yet complete.\n",
        "In general, the performance of machine learning models depend heavily on\n",
        "the hyperparameter settings used.\n",
        "Hyperparameters are settings that cannot be tuned via gradient descent in a straightforward way.\n",
        "These settings can affect the model architecture, but may also affect the optimization process.\n",
        "\n",
        "**Graded Task**: What are some examples of hyperparameters that affect the model architecture of a model?\n",
        "You may consider some hyperparameters that you learned about in CSC311. List at least 3 examples."
      ]
    },
    {
      "cell_type": "code",
      "execution_count": null,
      "id": "f2ce4cb4",
      "metadata": {
        "id": "f2ce4cb4"
      },
      "outputs": [],
      "source": [
        "# TODO: List at least 3 examples"
      ]
    },
    {
      "cell_type": "markdown",
      "id": "I3cd5HCQNweA",
      "metadata": {
        "id": "I3cd5HCQNweA"
      },
      "source": [
        "1. Number of Layers\n",
        "2. Activation Functions\n",
        "3. Optimizer"
      ]
    },
    {
      "cell_type": "markdown",
      "id": "a6becdd0",
      "metadata": {
        "id": "a6becdd0"
      },
      "source": [
        "**Task**: What are some examples of hyperparameters that affect the optimization process?"
      ]
    },
    {
      "cell_type": "code",
      "execution_count": null,
      "id": "cde3a024",
      "metadata": {
        "id": "cde3a024"
      },
      "outputs": [],
      "source": [
        "# TODO: List at least 2 examples"
      ]
    },
    {
      "cell_type": "markdown",
      "id": "JIQIksHfOBc0",
      "metadata": {
        "id": "JIQIksHfOBc0"
      },
      "source": [
        "1. Learning Rate\n",
        "2. Number of Epochs\n",
        "3. Dropout Rate"
      ]
    },
    {
      "cell_type": "markdown",
      "id": "a2c5bf3e",
      "metadata": {
        "id": "a2c5bf3e"
      },
      "source": [
        "Model architecture related hyperparameters are important to tune and should *not* be neglected in\n",
        "practical application.  However, since we are working with a linear model right now, we are limited\n",
        "in this lab to exploring the optimization hyperparameters.\n",
        "\n",
        "**Task**: What happens if the learning rate is too small?\n",
        "Provide an example training curve by calling `train_model` with a low learning rate,\n",
        "and describe the features of the training curve that you see."
      ]
    },
    {
      "cell_type": "markdown",
      "id": "nrKrDoXmPPEU",
      "metadata": {
        "id": "nrKrDoXmPPEU"
      },
      "source": [
        "My answer: Learning rate determines the size of the step taken in the process of gradient descent. If the learning rate is small, the model might get stuck in a local minimum or on a plateau, failing to escape due to the small steps taken during parameter updates. In extreme cases, if the learning rate is too small, the model may not converge at all. The curve below is for lr=0.0005. In this case, the loss cuver does not consistently decrease and convert to a certain small number."
      ]
    },
    {
      "cell_type": "markdown",
      "id": "rorQ9M22SfoL",
      "metadata": {
        "id": "rorQ9M22SfoL"
      },
      "source": [
        "![image.png](data:image/png;base64,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)"
      ]
    },
    {
      "cell_type": "markdown",
      "id": "iJcypJIMSj1F",
      "metadata": {
        "id": "iJcypJIMSj1F"
      },
      "source": [
        "![image.png](data:image/png;base64,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)"
      ]
    },
    {
      "cell_type": "markdown",
      "id": "t0F_PDjJTZk_",
      "metadata": {
        "id": "t0F_PDjJTZk_"
      },
      "source": [
        "**Graded Task**: What happens if the learning rate is too large?\n",
        "Provide an example training curve by calling `train_model` with a large learning rate,\n",
        "and describe the features of the training curve that you see."
      ]
    },
    {
      "cell_type": "markdown",
      "id": "5EjrXlzITg8G",
      "metadata": {
        "id": "5EjrXlzITg8G"
      },
      "source": [
        " My answer: Learning rate determines the size of the step taken in the process of gradient descent. If the learning rate is too large in gradient descent, it can cause the optimization algorithm to take excessively large steps, potentially overshooting the minimum of the loss function. This can lead to oscillations or divergence rather than converging to the optimal solution, which also translates to endless oscillation in the loss curve. In extreme cases, a very large learning rate may cause the optimization process to diverge, meaning the loss increases instead of decreasing over time. This happens because the steps taken are so large that the algorithm fails to find the correct direction towards the minimum."
      ]
    },
    {
      "cell_type": "markdown",
      "id": "HfE8xh33T3wC",
      "metadata": {
        "id": "HfE8xh33T3wC"
      },
      "source": [
        "![image.png](data:image/png;base64,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)"
      ]
    },
    {
      "cell_type": "markdown",
      "id": "6o1cKPSZT6D_",
      "metadata": {
        "id": "6o1cKPSZT6D_"
      },
      "source": [
        "![image.png](data:image/png;base64,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)"
      ]
    },
    {
      "cell_type": "markdown",
      "id": "84d185bd",
      "metadata": {
        "id": "84d185bd"
      },
      "source": [
        "Hyperparameter choices interact with one another.\n",
        "Thus, practitioners use a strategy called **grid search** to try\n",
        "all variations of hyperparameters from a set of hyperparameters.\n",
        "We will not do that here since linear models don't yet have many hyperparameters\n",
        "to work with.\n",
        "\n",
        "**Task**: Choose the best model that you have trained. Typically we make this choice\n",
        "using the validation accuracy. To understand how well the model you choose would\n",
        "generalize to unseen data, we use the *test data*.\n",
        "Compute the test accuracy for this model by calling the function `accuracy()`\n",
        "on the model and the test data."
      ]
    },
    {
      "cell_type": "code",
      "execution_count": null,
      "id": "ab7f073b",
      "metadata": {
        "colab": {
          "base_uri": "https://localhost:8080/"
        },
        "id": "ab7f073b",
        "outputId": "59f1c75c-de96-4639-d750-c6ead0d8c662"
      },
      "outputs": [
        {
          "data": {
            "text/plain": [
              "0.762"
            ]
          },
          "execution_count": 240,
          "metadata": {},
          "output_type": "execute_result"
        }
      ],
      "source": [
        "# TODO: Compute the test accuracy\n",
        "def accuracy_vectorized(model, dataset):\n",
        "    \"\"\"\n",
        "    Same signature as the `accuracy_basic()` function, but the call to model() is vectorized\n",
        "    \"\"\"\n",
        "    X = torch.concat([x for x, t in dataset])\n",
        "    t = torch.Tensor([t for x, t in dataset])\n",
        "    z = model(X.reshape(-1, 784)) # TODO: use a single call to model() to compute the prediction for all inputs\n",
        "    pred = torch.argmax(z, axis=1) # TODO: `pred` should have the same shape as `t`\n",
        "    # print(\"shape check:\", t.shape, pred.shape)\n",
        "    correct = int(torch.sum(t == pred)) # count the number of correct predictions\n",
        "    total = t.shape[0]                  # count the total number of predictions made\n",
        "    return correct / total\n",
        "accuracy_vectorized(model, test_data)"
      ]
    }
  ],
  "metadata": {
    "accelerator": "TPU",
    "colab": {
      "provenance": []
    },
    "kernelspec": {
      "display_name": "Python 3",
      "language": "python",
      "name": "python3"
    },
    "language_info": {
      "codemirror_mode": {
        "name": "ipython",
        "version": 3
      },
      "file_extension": ".py",
      "mimetype": "text/x-python",
      "name": "python",
      "nbconvert_exporter": "python",
      "pygments_lexer": "ipython3",
      "version": "3.9.13"
    }
  },
  "nbformat": 4,
  "nbformat_minor": 5
}
