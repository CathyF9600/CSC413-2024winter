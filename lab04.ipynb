{
  "cells": [
    {
      "cell_type": "markdown",
      "id": "de14f483",
      "metadata": {
        "id": "de14f483"
      },
      "source": [
        "# CSC413 Lab 4: Differential Privacy\n",
        "\n",
        "In this lab, we will explore how training a neural network with\n",
        "some of the optimization methods discussed in the lecture\n",
        "can cause models to capture more information about the training\n",
        "data than we might intend.\n",
        "We will discuss why this may be problematic from a privacy perspective,\n",
        "and introduce the idea of **differential privacy**.\n",
        "\n",
        "Finally, this lab introduces an optimization strategy called\n",
        "**DP-SGD** or differentially private stochastic gradient descent.\n",
        "This strategy has some provable properties about the amount of information\n",
        "captured.\n",
        "\n",
        "This lab also serves as an introductory guide to implementing optimization\n",
        "models that are presented in research papers. We hope that the techniques\n",
        "used in this lab build skills so that you can implement new techniques and ideas\n",
        "presented in other papers.\n",
        "\n",
        "By the end of this lab, you will be able to:\n",
        "\n",
        "1. Recognize that typical methods of using SGD to train a neural network might capture too much information about the training data.\n",
        "2. Articulate the importance of privacy to stakeholders.\n",
        "3. Explain the components of the DP-SGD algorithm.\n",
        "4. Compare models trained using SGD and those trained with DP-SGD through the lens of differential privacy.\n",
        "5. Implement, from an algorithm description, optimization techniques like DP-SGD that requires manual gradient manipulation in Pytorch.\n",
        "\n",
        "Please work in groups of 1-2 during the lab.\n",
        "\n",
        "Acknowledgements:\n",
        "\n",
        "- The MedMNIST data is from https://medmnist.com/\n",
        "- This assignment is written by Mahdi Haghifam, Sonya Allin, Lisa Zhang, Mike Pawliuk and Rutwa Engineer\n",
        "\n",
        "Please work in groups of 1-2 during the lab.\n",
        "\n",
        "## Submission\n",
        "\n",
        "If you are working with a partner, start by creating a group on Markus. If you are working alone,\n",
        "click \"Working Alone\".\n",
        "\n",
        "Make sure to run a final version of your notebook prior to submission.\n",
        "Then \"Export the notebook as PDF\" using the menu on the top left of your screen (assuming a standard browser setup).\n",
        "\n",
        "Submit the generated PDF file `lab04.pdf` on Markus\n",
        "**containing all your solutions to the Graded Task**s.\n",
        "Your file must contain your code **and outputs** where applicable,\n",
        "including printed lines and images.\n",
        "Your TA will not run your code for the purpose of grading.\n",
        "\n",
        "For this lab, you should submit the following:\n",
        "\n",
        "1. Part 2: Description of the difference between the non-dp model predictions over data in/out of training (1 point)\n",
        "2. Part 3: Explanation of why the \"average height\" model is not $\\epsilon$-DP (1 point)\n",
        "3. Part 4: Explanation of `T_max` in `CosineAnnealingLR` (1 point)\n",
        "4. Part 4: Explanation why `max_grad_norm >= 7.49` causes gradient clipping to remain unchanged in the example (1 point)\n",
        "5. Part 4: Implementation of `dp_grads` function (4 points)\n",
        "6. Part 4: Explanation of the difference in the histogram of the dp and non-dp models (1 point)\n",
        "7. Part 4: Analysis of the impact of privacy breach on a vulnerable individual (1 point)\n",
        "\n",
        "## Google Colab Setup\n",
        "\n",
        "Like last week, we will be using the `medmnist` data set, which is available as a Python package.\n",
        "We will also be using `opacus`, which is a differential privacy library.\n",
        "\n",
        "Recall that on Google Colab, we use \"!\" to run shell commands.\n",
        "Below, we use such commands to install the Python packages."
      ]
    },
    {
      "cell_type": "code",
      "execution_count": 1,
      "id": "73b51e21",
      "metadata": {
        "colab": {
          "base_uri": "https://localhost:8080/",
          "height": 0
        },
        "id": "73b51e21",
        "outputId": "61ddc585-e2c8-47ef-f483-d5f99840e292"
      },
      "outputs": [
        {
          "output_type": "stream",
          "name": "stdout",
          "text": [
            "Collecting medmnist\n",
            "  Downloading medmnist-3.0.1-py3-none-any.whl (25 kB)\n",
            "Requirement already satisfied: numpy in /usr/local/lib/python3.10/dist-packages (from medmnist) (1.25.2)\n",
            "Requirement already satisfied: pandas in /usr/local/lib/python3.10/dist-packages (from medmnist) (1.5.3)\n",
            "Requirement already satisfied: scikit-learn in /usr/local/lib/python3.10/dist-packages (from medmnist) (1.2.2)\n",
            "Requirement already satisfied: scikit-image in /usr/local/lib/python3.10/dist-packages (from medmnist) (0.19.3)\n",
            "Requirement already satisfied: tqdm in /usr/local/lib/python3.10/dist-packages (from medmnist) (4.66.2)\n",
            "Requirement already satisfied: Pillow in /usr/local/lib/python3.10/dist-packages (from medmnist) (9.4.0)\n",
            "Collecting fire (from medmnist)\n",
            "  Downloading fire-0.5.0.tar.gz (88 kB)\n",
            "\u001b[2K     \u001b[90m━━━━━━━━━━━━━━━━━━━━━━━━━━━━━━━━━━━━━━━━\u001b[0m \u001b[32m88.3/88.3 kB\u001b[0m \u001b[31m1.6 MB/s\u001b[0m eta \u001b[36m0:00:00\u001b[0m\n",
            "\u001b[?25h  Preparing metadata (setup.py) ... \u001b[?25l\u001b[?25hdone\n",
            "Requirement already satisfied: torch in /usr/local/lib/python3.10/dist-packages (from medmnist) (2.1.0+cu121)\n",
            "Requirement already satisfied: torchvision in /usr/local/lib/python3.10/dist-packages (from medmnist) (0.16.0+cu121)\n",
            "Requirement already satisfied: six in /usr/local/lib/python3.10/dist-packages (from fire->medmnist) (1.16.0)\n",
            "Requirement already satisfied: termcolor in /usr/local/lib/python3.10/dist-packages (from fire->medmnist) (2.4.0)\n",
            "Requirement already satisfied: python-dateutil>=2.8.1 in /usr/local/lib/python3.10/dist-packages (from pandas->medmnist) (2.8.2)\n",
            "Requirement already satisfied: pytz>=2020.1 in /usr/local/lib/python3.10/dist-packages (from pandas->medmnist) (2023.4)\n",
            "Requirement already satisfied: scipy>=1.4.1 in /usr/local/lib/python3.10/dist-packages (from scikit-image->medmnist) (1.11.4)\n",
            "Requirement already satisfied: networkx>=2.2 in /usr/local/lib/python3.10/dist-packages (from scikit-image->medmnist) (3.2.1)\n",
            "Requirement already satisfied: imageio>=2.4.1 in /usr/local/lib/python3.10/dist-packages (from scikit-image->medmnist) (2.31.6)\n",
            "Requirement already satisfied: tifffile>=2019.7.26 in /usr/local/lib/python3.10/dist-packages (from scikit-image->medmnist) (2024.2.12)\n",
            "Requirement already satisfied: PyWavelets>=1.1.1 in /usr/local/lib/python3.10/dist-packages (from scikit-image->medmnist) (1.5.0)\n",
            "Requirement already satisfied: packaging>=20.0 in /usr/local/lib/python3.10/dist-packages (from scikit-image->medmnist) (23.2)\n",
            "Requirement already satisfied: joblib>=1.1.1 in /usr/local/lib/python3.10/dist-packages (from scikit-learn->medmnist) (1.3.2)\n",
            "Requirement already satisfied: threadpoolctl>=2.0.0 in /usr/local/lib/python3.10/dist-packages (from scikit-learn->medmnist) (3.3.0)\n",
            "Requirement already satisfied: filelock in /usr/local/lib/python3.10/dist-packages (from torch->medmnist) (3.13.1)\n",
            "Requirement already satisfied: typing-extensions in /usr/local/lib/python3.10/dist-packages (from torch->medmnist) (4.10.0)\n",
            "Requirement already satisfied: sympy in /usr/local/lib/python3.10/dist-packages (from torch->medmnist) (1.12)\n",
            "Requirement already satisfied: jinja2 in /usr/local/lib/python3.10/dist-packages (from torch->medmnist) (3.1.3)\n",
            "Requirement already satisfied: fsspec in /usr/local/lib/python3.10/dist-packages (from torch->medmnist) (2023.6.0)\n",
            "Requirement already satisfied: triton==2.1.0 in /usr/local/lib/python3.10/dist-packages (from torch->medmnist) (2.1.0)\n",
            "Requirement already satisfied: requests in /usr/local/lib/python3.10/dist-packages (from torchvision->medmnist) (2.31.0)\n",
            "Requirement already satisfied: MarkupSafe>=2.0 in /usr/local/lib/python3.10/dist-packages (from jinja2->torch->medmnist) (2.1.5)\n",
            "Requirement already satisfied: charset-normalizer<4,>=2 in /usr/local/lib/python3.10/dist-packages (from requests->torchvision->medmnist) (3.3.2)\n",
            "Requirement already satisfied: idna<4,>=2.5 in /usr/local/lib/python3.10/dist-packages (from requests->torchvision->medmnist) (3.6)\n",
            "Requirement already satisfied: urllib3<3,>=1.21.1 in /usr/local/lib/python3.10/dist-packages (from requests->torchvision->medmnist) (2.0.7)\n",
            "Requirement already satisfied: certifi>=2017.4.17 in /usr/local/lib/python3.10/dist-packages (from requests->torchvision->medmnist) (2024.2.2)\n",
            "Requirement already satisfied: mpmath>=0.19 in /usr/local/lib/python3.10/dist-packages (from sympy->torch->medmnist) (1.3.0)\n",
            "Building wheels for collected packages: fire\n",
            "  Building wheel for fire (setup.py) ... \u001b[?25l\u001b[?25hdone\n",
            "  Created wheel for fire: filename=fire-0.5.0-py2.py3-none-any.whl size=116934 sha256=1118bf79340b714de1498e2a0f42c68e83db62c46909ad78477745169e04ef5c\n",
            "  Stored in directory: /root/.cache/pip/wheels/90/d4/f7/9404e5db0116bd4d43e5666eaa3e70ab53723e1e3ea40c9a95\n",
            "Successfully built fire\n",
            "Installing collected packages: fire, medmnist\n",
            "Successfully installed fire-0.5.0 medmnist-3.0.1\n",
            "Collecting opacus\n",
            "  Downloading opacus-1.4.1-py3-none-any.whl (226 kB)\n",
            "\u001b[2K     \u001b[90m━━━━━━━━━━━━━━━━━━━━━━━━━━━━━━━━━━━━━━━━\u001b[0m \u001b[32m226.7/226.7 kB\u001b[0m \u001b[31m2.6 MB/s\u001b[0m eta \u001b[36m0:00:00\u001b[0m\n",
            "\u001b[?25hRequirement already satisfied: numpy>=1.15 in /usr/local/lib/python3.10/dist-packages (from opacus) (1.25.2)\n",
            "Requirement already satisfied: torch>=2.0 in /usr/local/lib/python3.10/dist-packages (from opacus) (2.1.0+cu121)\n",
            "Requirement already satisfied: scipy>=1.2 in /usr/local/lib/python3.10/dist-packages (from opacus) (1.11.4)\n",
            "Requirement already satisfied: opt-einsum>=3.3.0 in /usr/local/lib/python3.10/dist-packages (from opacus) (3.3.0)\n",
            "Requirement already satisfied: filelock in /usr/local/lib/python3.10/dist-packages (from torch>=2.0->opacus) (3.13.1)\n",
            "Requirement already satisfied: typing-extensions in /usr/local/lib/python3.10/dist-packages (from torch>=2.0->opacus) (4.10.0)\n",
            "Requirement already satisfied: sympy in /usr/local/lib/python3.10/dist-packages (from torch>=2.0->opacus) (1.12)\n",
            "Requirement already satisfied: networkx in /usr/local/lib/python3.10/dist-packages (from torch>=2.0->opacus) (3.2.1)\n",
            "Requirement already satisfied: jinja2 in /usr/local/lib/python3.10/dist-packages (from torch>=2.0->opacus) (3.1.3)\n",
            "Requirement already satisfied: fsspec in /usr/local/lib/python3.10/dist-packages (from torch>=2.0->opacus) (2023.6.0)\n",
            "Requirement already satisfied: triton==2.1.0 in /usr/local/lib/python3.10/dist-packages (from torch>=2.0->opacus) (2.1.0)\n",
            "Requirement already satisfied: MarkupSafe>=2.0 in /usr/local/lib/python3.10/dist-packages (from jinja2->torch>=2.0->opacus) (2.1.5)\n",
            "Requirement already satisfied: mpmath>=0.19 in /usr/local/lib/python3.10/dist-packages (from sympy->torch>=2.0->opacus) (1.3.0)\n",
            "Installing collected packages: opacus\n",
            "Successfully installed opacus-1.4.1\n"
          ]
        }
      ],
      "source": [
        "!pip install medmnist\n",
        "!pip install opacus"
      ]
    },
    {
      "cell_type": "markdown",
      "id": "c72809fd",
      "metadata": {
        "id": "c72809fd"
      },
      "source": [
        "## Part 1. Data and Model\n",
        "\n",
        "We will be using the same data and model as in lab 3, with modifications in the way that the\n",
        "training, validation, and test sets are split. These modifications are necessary to be able to\n",
        "showcase differential privacy issues using a small model and limited data set size to ensure\n",
        "that models do not take an overwhelming amount of time to train."
      ]
    },
    {
      "cell_type": "code",
      "execution_count": 2,
      "id": "b09744b3",
      "metadata": {
        "colab": {
          "base_uri": "https://localhost:8080/",
          "height": 0
        },
        "id": "b09744b3",
        "outputId": "cc6f47f5-2263-4d7e-d768-4befb8252eca"
      },
      "outputs": [
        {
          "output_type": "execute_result",
          "data": {
            "text/plain": [
              "{'python_class': 'PneumoniaMNIST',\n",
              " 'description': 'The PneumoniaMNIST is based on a prior dataset of 5,856 pediatric chest X-Ray images. The task is binary-class classification of pneumonia against normal. We split the source training set with a ratio of 9:1 into training and validation set and use its source validation set as the test set. The source images are gray-scale, and their sizes are (384−2,916)×(127−2,713). We center-crop the images and resize them into 1×28×28.',\n",
              " 'url': 'https://zenodo.org/records/10519652/files/pneumoniamnist.npz?download=1',\n",
              " 'MD5': '28209eda62fecd6e6a2d98b1501bb15f',\n",
              " 'url_64': 'https://zenodo.org/records/10519652/files/pneumoniamnist_64.npz?download=1',\n",
              " 'MD5_64': '8f4eceb4ccffa70c672198ea285246c6',\n",
              " 'url_128': 'https://zenodo.org/records/10519652/files/pneumoniamnist_128.npz?download=1',\n",
              " 'MD5_128': '05b46931834c231683c68f40c47b2971',\n",
              " 'url_224': 'https://zenodo.org/records/10519652/files/pneumoniamnist_224.npz?download=1',\n",
              " 'MD5_224': 'd6a3c71de1b945ea11211b03746c1fe1',\n",
              " 'task': 'binary-class',\n",
              " 'label': {'0': 'normal', '1': 'pneumonia'},\n",
              " 'n_channels': 1,\n",
              " 'n_samples': {'train': 4708, 'val': 524, 'test': 624},\n",
              " 'license': 'CC BY 4.0'}"
            ]
          },
          "metadata": {},
          "execution_count": 2
        }
      ],
      "source": [
        "import numpy as np\n",
        "import matplotlib.pyplot as plt\n",
        "import torch\n",
        "import opacus\n",
        "import medmnist\n",
        "from medmnist import PneumoniaMNIST\n",
        "import torchvision.transforms as transforms\n",
        "\n",
        "import torch.utils.data as data_utils\n",
        "\n",
        "medmnist.INFO['pneumoniamnist']\n"
      ]
    },
    {
      "cell_type": "markdown",
      "id": "148120e8",
      "metadata": {
        "id": "148120e8"
      },
      "source": [
        "**Task** Use code from lab 3 to re-acquaint yourself with the training data.\n",
        "What do the inputs look like? What about the targets? What is the distribution\n",
        "of the targets? Intuitively, how difficult is the classification problem?"
      ]
    },
    {
      "cell_type": "code",
      "execution_count": 3,
      "id": "4318ee93",
      "metadata": {
        "colab": {
          "base_uri": "https://localhost:8080/",
          "height": 1454
        },
        "id": "4318ee93",
        "outputId": "e7989750-3416-4927-84a6-f1c54b4e1ede"
      },
      "outputs": [
        {
          "output_type": "stream",
          "name": "stdout",
          "text": [
            "Downloading https://zenodo.org/records/10519652/files/pneumoniamnist.npz?download=1 to /root/.medmnist/pneumoniamnist.npz\n"
          ]
        },
        {
          "output_type": "stream",
          "name": "stderr",
          "text": [
            "100%|██████████| 4170669/4170669 [00:00<00:00, 4936775.34it/s]\n"
          ]
        },
        {
          "output_type": "stream",
          "name": "stdout",
          "text": [
            "[[ 92 108 117 111 101  90  70  49  28  60  83 119 156 186 211 204 192 203\n",
            "  204 166 115  90  53   0   0   5   8   6]\n",
            " [129 138 141 132 120 111 100  89  97 110 105 117 144 173 195 181 194 193\n",
            "  178 142 110  92  57  11   6   4   2   3]\n",
            " [141 146 148 143 134 128 126 126 140 156 143 137 144 162 180 165 159 166\n",
            "  155 135 126 110  79  55   8   0   0   0]\n",
            " [120 126 135 139 139 138 143 150 135 172 178 170 160 162 176 165 163 175\n",
            "  161 140 132 110  86  83  46  28  19  27]\n",
            " [105 114 126 135 143 154 165 174 147 179 185 182 172 169 178 166 177 180\n",
            "  158 141 144 135 121 125 110  89  77  81]\n",
            " [101 113 125 133 148 168 181 183 180 180 163 166 173 175 179 164 172 169\n",
            "  158 159 178 183 168 154 137 123 113 114]\n",
            " [ 83 107 126 136 155 178 181 167 167 152 131 150 173 177 181 168 185 181\n",
            "  177 171 170 177 169 146 142 136 130 127]\n",
            " [ 62  97 127 144 166 187 175 147 120 114 112 149 177 177 184 179 183 178\n",
            "  172 146 122 143 172 170 161 160 152 141]\n",
            " [ 45  90 136 150 191 177 158 139 131 118 119 143 170 184 192 201 202 184\n",
            "  164 146 130 128 152 182 186 185 158 138]\n",
            " [ 37  89 139 174 181 163 132 123 118 123 139 162 180 188 193 197 194 181\n",
            "  163 142 123 119 137 160 176 181 159 139]\n",
            " [ 25  87 144 190 163 145 115 119 119 140 164 179 186 192 197 198 191 185\n",
            "  169 145 123 115 126 139 166 180 163 141]\n",
            " [ 21  94 161 185 150 134 124 129 133 158 178 181 183 195 203 202 191 189\n",
            "  176 150 125 115 119 127 158 182 170 142]\n",
            " [ 23 111 184 167 144 124 129 122 139 160 175 176 183 200 206 201 190 187\n",
            "  176 154 128 113 114 121 145 180 173 141]\n",
            " [ 27 125 186 143 133 109 108  98 134 151 167 176 191 206 207 198 193 188\n",
            "  181 167 141 117 114 124 130 175 173 136]\n",
            " [ 42 140 168 129 124 109  93 102 142 153 167 180 197 209 209 202 195 187\n",
            "  185 181 154 120 112 124 121 173 174 132]\n",
            " [ 64 156 155 130 124 125 100 134 160 164 172 184 197 208 211 210 191 181\n",
            "  183 185 158 116 103 117 121 175 176 130]\n",
            " [ 91 166 128 119 102  94 108 128 159 182 179 186 202 206 210 199 201 192\n",
            "  190 185 165 146 125 102 128 140 182 122]\n",
            " [103 161 122 118 110 101 110 126 152 178 178 189 206 210 216 208 199 187\n",
            "  185 185 174 159 138 112 119 135 178 117]\n",
            " [127 155 109 104 107  99 104 117 148 176 179 191 206 207 211 205 199 184\n",
            "  181 183 179 170 149 123 111 131 175 111]\n",
            " [142 141  92  84  96  90  94 104 133 163 172 190 206 205 208 202 199 184\n",
            "  180 181 176 170 155 133 107 128 173 109]\n",
            " [135 124  94  91 111 106 108 113 119 149 162 188 210 211 216 212 197 184\n",
            "  181 179 171 167 160 146 105 121 165 106]\n",
            " [130 128 131 135 160 155 156 154 141 162 167 191 212 212 216 212 191 181\n",
            "  179 178 170 167 162 150 103 108 152 103]\n",
            " [140 148 174 173 195 191 195 192 182 191 180 193 209 206 208 204 186 175\n",
            "  173 175 169 164 153 135 102  97 140 104]\n",
            " [151 161 193 182 196 194 203 203 203 204 184 191 206 204 208 206 184 170\n",
            "  167 171 167 159 140 115 103  91 134 106]\n",
            " [162 176 190 197 201 205 206 204 204 203 203 207 211 211 208 203 171 176\n",
            "  183 188 187 181 172 165 113  85  97 127]\n",
            " [168 180 192 198 202 207 210 210 211 210 211 214 218 219 215 211 194 195\n",
            "  196 195 192 185 176 170 148 119 115 126]\n",
            " [173 184 195 200 204 211 215 216 217 216 217 220 224 225 221 217 212 209\n",
            "  205 201 196 189 182 177 176 153 139 132]\n",
            " [173 185 198 204 209 214 217 217 218 217 217 220 224 225 221 217 213 209\n",
            "  204 201 198 193 186 180 177 168 154 139]]\n",
            "[1]\n"
          ]
        },
        {
          "output_type": "display_data",
          "data": {
            "text/plain": [
              "<Figure size 640x480 with 1 Axes>"
            ],
            "image/png": "[encoded data removed]"
          },
          "metadata": {}
        }
      ],
      "source": [
        "# TODO: Run/revise the data exploration code from lab 3 so\n",
        "# that you can describe the dataset and the difference between\n",
        "# the two classes\n",
        "train_data_imgs = PneumoniaMNIST(split='train', download=True)\n",
        "\n",
        "for img, target in train_data_imgs:\n",
        "    plt.imshow(img, cmap='gray')\n",
        "    print(np.array(img)) # img is a numpy array of shape 28x28 , with integer values between 0-255\n",
        "    print(target)        # the target\n",
        "    break"
      ]
    },
    {
      "cell_type": "markdown",
      "id": "79408921",
      "metadata": {
        "id": "79408921"
      },
      "source": [
        "**Task**: Using the standard train/validation/test split provided\n",
        "by the dataset, what percentage of the training set had the label `0`?\n",
        "What about the validation set?"
      ]
    },
    {
      "cell_type": "code",
      "execution_count": 4,
      "id": "fde7cf55",
      "metadata": {
        "colab": {
          "base_uri": "https://localhost:8080/",
          "height": 0
        },
        "id": "fde7cf55",
        "outputId": "76fc475c-9534-426b-a8df-787d8341d388"
      },
      "outputs": [
        {
          "output_type": "stream",
          "name": "stdout",
          "text": [
            "Using downloaded and verified file: /root/.medmnist/pneumoniamnist.npz\n",
            "Using downloaded and verified file: /root/.medmnist/pneumoniamnist.npz\n",
            "Using downloaded and verified file: /root/.medmnist/pneumoniamnist.npz\n",
            "25.78589634664401 %\n"
          ]
        }
      ],
      "source": [
        "import torchvision.transforms as transforms # contains a collection of transformations\n",
        "\n",
        "train_data = PneumoniaMNIST(split='train', download=True, transform=transforms.ToTensor())\n",
        "val_data = PneumoniaMNIST(split='val', download=True, transform=transforms.ToTensor())\n",
        "test_data = PneumoniaMNIST(split='test', download=True, transform=transforms.ToTensor())\n",
        "\n",
        "total = 0\n",
        "zeros = 0\n",
        "for img, target in train_data:\n",
        "    # print(np.array(img)) # img is a numpy array of shape 28x28 , with integer values between 0-255\n",
        "    # print(target)        # the target\n",
        "    if target[0] == 0:\n",
        "      zeros += 1\n",
        "    total += 1\n",
        "\n",
        "print(zeros * 100 / total, \"%\")"
      ]
    },
    {
      "cell_type": "code",
      "source": [
        "total = 0\n",
        "zeros = 0\n",
        "for img, target in val_data:\n",
        "    if target[0] == 0:\n",
        "      zeros += 1\n",
        "    total += 1\n",
        "\n",
        "print(zeros * 100 / total, \"%\")"
      ],
      "metadata": {
        "colab": {
          "base_uri": "https://localhost:8080/",
          "height": 0
        },
        "id": "grdMmvXLpu0Q",
        "outputId": "758af652-45e7-497b-aa9b-0d2d99423e40"
      },
      "id": "grdMmvXLpu0Q",
      "execution_count": 5,
      "outputs": [
        {
          "output_type": "stream",
          "name": "stdout",
          "text": [
            "25.763358778625953 %\n"
          ]
        }
      ]
    },
    {
      "cell_type": "markdown",
      "id": "e1e98e8b",
      "metadata": {
        "id": "e1e98e8b"
      },
      "source": [
        "These statistics differ significantly between the training, validation\n",
        "and test sets for our DP demonstration to work well with our small MLP model.\n",
        "Thus, we will perform our own split of the training, validation, and test sets.\n",
        "\n",
        "In addition, we will split the data into four sets: training, validation,\n",
        "test, and a **memorization assessment set**.\n",
        "This data set will be the same size as our training set.\n",
        "Practitioners sometimes call this set a *second* or *unused* training set,\n",
        "even though this data set is not used for training.\n",
        "The idea is that we want to see if there is a difference between\n",
        "data that we actually used for training, vs another data that we *could have*\n",
        "used for training.\n",
        "\n",
        "**Task**: Run the following code to obtain the four datasets."
      ]
    },
    {
      "cell_type": "code",
      "execution_count": 6,
      "id": "30470c7e",
      "metadata": {
        "colab": {
          "base_uri": "https://localhost:8080/",
          "height": 0
        },
        "id": "30470c7e",
        "outputId": "8d10b529-5413-496e-c29a-c59d3cfea940"
      },
      "outputs": [
        {
          "output_type": "stream",
          "name": "stdout",
          "text": [
            "Using downloaded and verified file: /root/.medmnist/pneumoniamnist.npz\n",
            "Using downloaded and verified file: /root/.medmnist/pneumoniamnist.npz\n",
            "Using downloaded and verified file: /root/.medmnist/pneumoniamnist.npz\n"
          ]
        }
      ],
      "source": [
        "# Load the training, validation, and test sets\n",
        "# We will normalize each data set to mean 0.5 and std 0.5: this\n",
        "# improves training speed\n",
        "data_transform = transforms.Compose([transforms.ToTensor(),\n",
        "                                     transforms.Normalize(mean=[.5], std=[.5])])\n",
        "train_dataset = PneumoniaMNIST(split='train', transform=data_transform, download=True)\n",
        "valid_dataset = PneumoniaMNIST(split='val', transform=data_transform, download=True)\n",
        "test_dataset = PneumoniaMNIST(split='test', transform=data_transform, download=True)\n",
        "\n",
        "# Combine the training and validation\n",
        "combined_data = train_dataset + valid_dataset\n",
        "\n",
        "# Re-split the data into training,  memory assessment\n",
        "train_dataset, mem_asses_dataset, valid_dataset = torch.utils.data.random_split(combined_data, [0.4, 0.4, 0.2])"
      ]
    },
    {
      "cell_type": "markdown",
      "id": "e7d5b46f",
      "metadata": {
        "id": "e7d5b46f"
      },
      "source": [
        "**Task**: What percentage of the training set had the label `0`?\n",
        "What about the memorization assessment set?\n",
        "What about the validation set?"
      ]
    },
    {
      "cell_type": "code",
      "execution_count": 7,
      "id": "2c8b9c3c",
      "metadata": {
        "colab": {
          "base_uri": "https://localhost:8080/",
          "height": 0
        },
        "id": "2c8b9c3c",
        "outputId": "96839758-7642-457f-f26b-a3ac7619c9db"
      },
      "outputs": [
        {
          "output_type": "stream",
          "name": "stdout",
          "text": [
            "26.230291447682752 %\n"
          ]
        }
      ],
      "source": [
        "# TODO: Run code to complete your solution here.\n",
        "total = 0\n",
        "zeros = 0\n",
        "for img, target in train_dataset:\n",
        "    # print(np.array(img)) # img is a numpy array of shape 28x28 , with integer values between 0-255\n",
        "    # print(target)        # the target\n",
        "    if target[0] == 0:\n",
        "      zeros += 1\n",
        "    total += 1\n",
        "\n",
        "print(zeros * 100 / total, \"%\")"
      ]
    },
    {
      "cell_type": "code",
      "source": [
        "# TODO: Run code to complete your solution here.\n",
        "total = 0\n",
        "zeros = 0\n",
        "for img, target in mem_asses_dataset:\n",
        "    # print(np.array(img)) # img is a numpy array of shape 28x28 , with integer values between 0-255\n",
        "    # print(target)        # the target\n",
        "    if target[0] == 0:\n",
        "      zeros += 1\n",
        "    total += 1\n",
        "\n",
        "print(zeros * 100 / total, \"%\")"
      ],
      "metadata": {
        "colab": {
          "base_uri": "https://localhost:8080/",
          "height": 0
        },
        "id": "6TSW5UbTs7ib",
        "outputId": "f2eb5797-67e4-44bd-b58a-a4f07bacbf89"
      },
      "id": "6TSW5UbTs7ib",
      "execution_count": 8,
      "outputs": [
        {
          "output_type": "stream",
          "name": "stdout",
          "text": [
            "25.274725274725274 %\n"
          ]
        }
      ]
    },
    {
      "cell_type": "code",
      "source": [
        "# TODO: Run code to complete your solution here.\n",
        "total = 0\n",
        "zeros = 0\n",
        "for img, target in valid_dataset:\n",
        "    # print(np.array(img)) # img is a numpy array of shape 28x28 , with integer values between 0-255\n",
        "    # print(target)        # the target\n",
        "    if target[0] == 0:\n",
        "      zeros += 1\n",
        "    total += 1\n",
        "\n",
        "print(zeros * 100 / total, \"%\")"
      ],
      "metadata": {
        "colab": {
          "base_uri": "https://localhost:8080/",
          "height": 0
        },
        "id": "P42A0MSxtBKp",
        "outputId": "ec5311d2-4946-4d50-beb9-186876d69158"
      },
      "id": "P42A0MSxtBKp",
      "execution_count": 9,
      "outputs": [
        {
          "output_type": "stream",
          "name": "stdout",
          "text": [
            "25.908221797323137 %\n"
          ]
        }
      ]
    },
    {
      "cell_type": "markdown",
      "id": "fa54d140",
      "metadata": {
        "id": "fa54d140"
      },
      "source": [
        "Now that our data is ready, we can set up the model and training code similar to lab 3."
      ]
    },
    {
      "cell_type": "code",
      "execution_count": 10,
      "id": "6dc289d9",
      "metadata": {
        "id": "6dc289d9"
      },
      "outputs": [],
      "source": [
        "import torch\n",
        "import torch.nn as nn\n",
        "import torch.optim as optim\n",
        "\n",
        "class MLPModel(nn.Module):\n",
        "    \"\"\"A three-layer MLP model for binary classification\"\"\"\n",
        "    def __init__(self, input_dim=28*28, num_hidden=600):\n",
        "        super(MLPModel, self).__init__()\n",
        "        self.fc1 = nn.Linear(input_dim, num_hidden)\n",
        "        self.fc2 = nn.Linear(num_hidden, num_hidden)\n",
        "        self.fc3 = nn.Linear(num_hidden, 1)\n",
        "        self.sigmoid = nn.Sigmoid()\n",
        "\n",
        "    def forward(self, x):\n",
        "        out = self.fc1(x)\n",
        "        out = self.sigmoid(out)\n",
        "        out = self.fc2(out)\n",
        "        out = self.sigmoid(out)\n",
        "        out = self.fc3(out)\n",
        "        return out"
      ]
    },
    {
      "cell_type": "markdown",
      "id": "0c380e2b",
      "metadata": {
        "id": "0c380e2b"
      },
      "source": [
        "To explore the distribution of predicted logits,\n",
        "the following code is written for you:\n",
        "it produces both the predictions and ground-truth labels across a dataset.\n",
        "There is also another utility function that can be used to measure the accuracy."
      ]
    },
    {
      "cell_type": "code",
      "execution_count": 11,
      "id": "e1d17984",
      "metadata": {
        "id": "e1d17984"
      },
      "outputs": [],
      "source": [
        "def get_predictions(model, data):\n",
        "    \"\"\"\n",
        "    Return the ground truth and predicted value across a dataset.\n",
        "    Unlike the get_prediction function in lab 3, this dataset\n",
        "    will produce the predictions for the *entire* dataset (no sampling)\n",
        "\n",
        "    Parameters:\n",
        "        `model` - A PyTorch model\n",
        "        `data` - A PyTorch dataset of MedMNIST images\n",
        "\n",
        "    Returns: A tuple `(ys, ts)` where:\n",
        "        `ys` is a list of prediction probabilities, same length as `data`\n",
        "        `ts` is a list of ground-truth labels, same length as `data`\n",
        "    \"\"\"\n",
        "    ys, ts = [], []\n",
        "    loader = torch.utils.data.DataLoader(data, batch_size=100)\n",
        "    for X, t in loader:\n",
        "        z = model(X.reshape(-1, 784))\n",
        "        ys += [float(y) for y in torch.sigmoid(z)]\n",
        "        ts += [float(t_) for t_ in t]\n",
        "    return ys, ts\n",
        "\n",
        "def accuracy(model, dataset):\n",
        "    \"\"\"\n",
        "    Compute the accuracy of `model` over the `dataset`.\n",
        "    We will take the **most probable class**\n",
        "    as the class predicted by the model.\n",
        "\n",
        "    Parameters:\n",
        "        `model` - A PyTorch model\n",
        "        `dataset` - A PyTorch dataset of MedMNIST images\n",
        "\n",
        "    Returns: a floating-point value between 0 and 1.\n",
        "    \"\"\"\n",
        "\n",
        "    ys, ts = get_predictions(model, dataset)\n",
        "    predicted = np.ndarray.round(np.array(ys))\n",
        "    return np.mean(predicted == ts)"
      ]
    },
    {
      "cell_type": "markdown",
      "id": "51b707e5",
      "metadata": {
        "id": "51b707e5"
      },
      "source": [
        "The training code below is analogues to the training code used in lab 3,\n",
        "with some differences.\n",
        "One difference is that we use the **Adam** optimizer rather than SGD.\n",
        "The Adam optimizer combines ideas from momentum and RMSProp and is able\n",
        "to train our model to a suitable accuracy with much fewer iterations.\n",
        "\n",
        "**Task**: Run the code below to train our (non-private) model."
      ]
    },
    {
      "cell_type": "code",
      "execution_count": 12,
      "id": "26a1a29d",
      "metadata": {
        "colab": {
          "base_uri": "https://localhost:8080/",
          "height": 1743
        },
        "id": "26a1a29d",
        "outputId": "e88e1034-12be-42fa-fa8b-c66177a474cf"
      },
      "outputs": [
        {
          "output_type": "stream",
          "name": "stdout",
          "text": [
            "20 Loss: 0.20047789812088013 Train Acc: 0.9025322503583373 Val Acc: 0.9158699808795411\n",
            "40 Loss: 0.11778321862220764 Train Acc: 0.9531772575250836 Val Acc: 0.9531548757170172\n",
            "60 Loss: 0.16898320615291595 Train Acc: 0.9569995222169135 Val Acc: 0.9541108986615678\n",
            "80 Loss: 0.21200132369995117 Train Acc: 0.9679885332059245 Val Acc: 0.9579349904397706\n",
            "100 Loss: 0.07433148473501205 Train Acc: 0.9694218824653608 Val Acc: 0.9541108986615678\n",
            "120 Loss: 0.26416152715682983 Train Acc: 0.9612995699952221 Val Acc: 0.9560229445506692\n",
            "140 Loss: 0.08257784694433212 Train Acc: 0.9775441949354993 Val Acc: 0.9550669216061185\n",
            "160 Loss: 0.04470261558890343 Train Acc: 0.9823220258002867 Val Acc: 0.9541108986615678\n",
            "180 Loss: 0.08639758825302124 Train Acc: 0.9823220258002867 Val Acc: 0.9560229445506692\n",
            "200 Loss: 0.02815927192568779 Train Acc: 0.9847109412326803 Val Acc: 0.9579349904397706\n",
            "220 Loss: 0.03728245571255684 Train Acc: 0.9703774486383182 Val Acc: 0.9474187380497132\n",
            "240 Loss: 0.07357792556285858 Train Acc: 0.9827998088867654 Val Acc: 0.9541108986615678\n",
            "260 Loss: 0.05392191931605339 Train Acc: 0.9732441471571907 Val Acc: 0.9445506692160612\n",
            "280 Loss: 0.03669120371341705 Train Acc: 0.9856665074056379 Val Acc: 0.9560229445506692\n",
            "300 Loss: 0.0820329487323761 Train Acc: 0.9885332059245103 Val Acc: 0.9560229445506692\n",
            "320 Loss: 0.03170010820031166 Train Acc: 0.9923554706163402 Val Acc: 0.9560229445506692\n",
            "340 Loss: 0.03589517995715141 Train Acc: 0.989010989010989 Val Acc: 0.9569789674952199\n",
            "360 Loss: 0.04427698254585266 Train Acc: 0.9923554706163402 Val Acc: 0.9617590822179732\n",
            "380 Loss: 0.020956097170710564 Train Acc: 0.9885332059245103 Val Acc: 0.9531548757170172\n",
            "400 Loss: 0.12121125310659409 Train Acc: 0.9703774486383182 Val Acc: 0.9483747609942639\n",
            "420 Loss: 0.027541721239686012 Train Acc: 0.9818442427138079 Val Acc: 0.9502868068833652\n",
            "440 Loss: 0.02690599113702774 Train Acc: 0.9947443860487338 Val Acc: 0.9646271510516252\n",
            "460 Loss: 0.07517721503973007 Train Acc: 0.9952221691352127 Val Acc: 0.9569789674952199\n",
            "480 Loss: 0.009645158424973488 Train Acc: 0.9971333014811276 Val Acc: 0.9550669216061185\n",
            "500 Loss: 0.023566722869873047 Train Acc: 0.9956999522216914 Val Acc: 0.9579349904397706\n",
            "520 Loss: 0.01859010010957718 Train Acc: 0.9942666029622551 Val Acc: 0.9550669216061185\n",
            "540 Loss: 0.0026798024773597717 Train Acc: 0.9976110845676063 Val Acc: 0.9550669216061185\n",
            "560 Loss: 0.002314883517101407 Train Acc: 0.9985666507405638 Val Acc: 0.9550669216061185\n",
            "580 Loss: 0.0053434534929692745 Train Acc: 0.9976110845676063 Val Acc: 0.9588910133843213\n",
            "600 Loss: 0.019935226067900658 Train Acc: 0.998088867654085 Val Acc: 0.9608030592734226\n",
            "620 Loss: 0.11425068229436874 Train Acc: 0.9956999522216914 Val Acc: 0.9579349904397706\n",
            "640 Loss: 0.0066639757715165615 Train Acc: 0.987099856665074 Val Acc: 0.9512428298279159\n",
            "660 Loss: 0.023571576923131943 Train Acc: 0.989010989010989 Val Acc: 0.9588910133843213\n",
            "680 Loss: 0.02301703952252865 Train Acc: 0.9899665551839465 Val Acc: 0.9627151051625239\n",
            "700 Loss: 0.0059709567576646805 Train Acc: 0.9923554706163402 Val Acc: 0.9474187380497132\n",
            "720 Loss: 0.013812985271215439 Train Acc: 0.9961777353081701 Val Acc: 0.9608030592734226\n",
            "740 Loss: 0.00784684345126152 Train Acc: 0.9985666507405638 Val Acc: 0.9588910133843213\n",
            "760 Loss: 0.004358211532235146 Train Acc: 0.9899665551839465 Val Acc: 0.9483747609942639\n",
            "780 Loss: 0.0075785624794662 Train Acc: 0.9937888198757764 Val Acc: 0.9579349904397706\n",
            "800 Loss: 0.0035317617002874613 Train Acc: 0.9961777353081701 Val Acc: 0.9531548757170172\n",
            "820 Loss: 0.0015112145338207483 Train Acc: 0.9971333014811276 Val Acc: 0.9541108986615678\n",
            "840 Loss: 0.02291220799088478 Train Acc: 0.9923554706163402 Val Acc: 0.9445506692160612\n",
            "860 Loss: 0.02696988545358181 Train Acc: 0.9923554706163402 Val Acc: 0.9502868068833652\n",
            "880 Loss: 0.0028991601429879665 Train Acc: 0.9956999522216914 Val Acc: 0.9541108986615678\n",
            "900 Loss: 0.002474720124155283 Train Acc: 0.9904443382704252 Val Acc: 0.9521988527724665\n",
            "920 Loss: 0.013921346515417099 Train Acc: 0.9995222169135213 Val Acc: 0.9560229445506692\n",
            "940 Loss: 0.0005155538092367351 Train Acc: 0.9985666507405638 Val Acc: 0.9560229445506692\n"
          ]
        },
        {
          "output_type": "display_data",
          "data": {
            "text/plain": [
              "<Figure size 640x480 with 1 Axes>"
            ],
            "image/png": "[encoded data removed]"
          },
          "metadata": {}
        },
        {
          "output_type": "display_data",
          "data": {
            "text/plain": [
              "<Figure size 640x480 with 1 Axes>"
            ],
            "image/png": "[encoded data removed]"
          },
          "metadata": {}
        }
      ],
      "source": [
        "def train_model(model,                # a PyTorch model\n",
        "                train_data,           # training data\n",
        "                val_data,             # validation data\n",
        "                learning_rate=1e-2,\n",
        "                batch_size=100,\n",
        "                num_epochs=45,\n",
        "                plot_every=20,        # how often (in # iterations) to track metrics\n",
        "                plot=True):           # whether to plot the training curve\n",
        "    train_loader = torch.utils.data.DataLoader(train_data,\n",
        "                                               batch_size=batch_size,\n",
        "                                               shuffle=True) # reshuffle minibatches every epoch\n",
        "    criterion = nn.BCEWithLogitsLoss()\n",
        "    optimizer = torch.optim.Adam(model.parameters(),lr=learning_rate)\n",
        "\n",
        "    # these lists will be used to track the training progress\n",
        "    # and to plot the training curve\n",
        "    iters, train_loss, train_acc, val_acc = [], [], [], []\n",
        "    iter_count = 0 # count the number of iterations that has passed\n",
        "\n",
        "    for e in range(num_epochs):\n",
        "        for i, (images, labels) in enumerate(train_loader):\n",
        "              z = model(images.reshape(-1, 784))\n",
        "              loss = criterion(z, labels.to(torch.float))\n",
        "              loss.backward()\n",
        "              optimizer.step()\n",
        "              optimizer.zero_grad()\n",
        "\n",
        "              iter_count += 1\n",
        "              if iter_count % plot_every == 0:\n",
        "                  iters.append(iter_count)\n",
        "                  ta = accuracy(model, train_data)\n",
        "                  va = accuracy(model, val_data)\n",
        "                  train_loss.append(float(loss))\n",
        "                  train_acc.append(ta)\n",
        "                  val_acc.append(va)\n",
        "                  print(iter_count, \"Loss:\", float(loss), \"Train Acc:\", ta, \"Val Acc:\", va)\n",
        "\n",
        "    if plot:\n",
        "        plt.figure()\n",
        "        plt.plot(iters[:len(train_loss)], train_loss)\n",
        "        plt.title(\"Loss over iterations\")\n",
        "        plt.xlabel(\"Iterations\")\n",
        "        plt.ylabel(\"Loss\")\n",
        "\n",
        "        plt.figure()\n",
        "        plt.plot(iters[:len(train_acc)], train_acc)\n",
        "        plt.plot(iters[:len(val_acc)], val_acc)\n",
        "        plt.title(\"Accuracy over iterations\")\n",
        "        plt.xlabel(\"Iterations\")\n",
        "        plt.ylabel(\"Loss\")\n",
        "        plt.legend([\"Train\", \"Validation\"])\n",
        "\n",
        "model_np = MLPModel()\n",
        "train_model(model_np, train_dataset, valid_dataset)"
      ]
    },
    {
      "cell_type": "markdown",
      "id": "0666f8dd",
      "metadata": {
        "id": "0666f8dd"
      },
      "source": [
        "## Part 2. Privacy issues in our model\n",
        "\n",
        "In this part of the lab, we will show that our trained model captures\n",
        "more information about the training data than we might intend. In particular,\n",
        "we show that the model predictions have different patterns for images used in\n",
        "training (compared to images that are not used in training).\n",
        "Specifically, the prediction logits follow a different distribution for\n",
        "training images and images not used for training.\n",
        "\n",
        "In more general applications, the patterns in the logit distributions can be used\n",
        "to build classifiers that can predict **whether an image was used in training**\n",
        "a neural network.\n",
        "\n",
        "**Task**: Suppose that you are a patient in a medical study, who consented\n",
        "for their data to be used to train a machine learning model to detect the strains\n",
        "of certain diseases (i.e., strain A or B of the same disease).\n",
        "Explain why you might *not* want it be known that your data was used to build the\n",
        "model."
      ]
    },
    {
      "cell_type": "code",
      "execution_count": 13,
      "id": "ebce9ce5",
      "metadata": {
        "id": "ebce9ce5"
      },
      "outputs": [],
      "source": [
        "# TODO: Your explanation goes here."
      ]
    },
    {
      "cell_type": "markdown",
      "id": "f5c0cc28",
      "metadata": {
        "id": "f5c0cc28"
      },
      "source": [
        "Recall that we used `train_dataset` to train our model,\n",
        "but did not use the `mem_asses_dataset`. To show that our model behaves differently\n",
        "for data used in training (vs not), we will plot the histogram of prediction\n",
        "probabilities across these two datasets.\n",
        "\n",
        "**Task**: Run the code below, which produces *cumulative* histogram plots showing\n",
        "showing the *log* model predictions of negative and positive samples (truth label=0 vs\n",
        "true label=1). The predictions for data point in the training set is shown in blue.\n",
        "The predictions for data points *not* in the training set (in the memorization assessment set)\n",
        "is in red."
      ]
    },
    {
      "cell_type": "code",
      "execution_count": 14,
      "id": "e60318a7",
      "metadata": {
        "colab": {
          "base_uri": "https://localhost:8080/",
          "height": 472
        },
        "id": "e60318a7",
        "outputId": "903a3b50-f4aa-433d-e577-d9a1a1a7f88e"
      },
      "outputs": [
        {
          "output_type": "display_data",
          "data": {
            "text/plain": [
              "<Figure size 640x480 with 2 Axes>"
            ],
            "image/png": "[encoded data removed]"
          },
          "metadata": {}
        }
      ],
      "source": [
        "def plot_hist(model, in_dataset, out_dataset):\n",
        "    \"\"\"\n",
        "    Plots the histogram (cumulative, in the log space) of the predicted\n",
        "    probabilities for datasets that is in the training set vs out. The\n",
        "    histograms are separated by the true labels.\n",
        "\n",
        "    Parameters:\n",
        "        `model` - A PyTorch model\n",
        "        `in_dataset` - A PyTorch dataset used for training\n",
        "                       (i.e. *in* the training set)\n",
        "        `out_dataset` - A PyTorch dataset not used for training\n",
        "                       (i.e. *out* the training set)\n",
        "    \"\"\"\n",
        "    # Obtain the prediction for data points in both data sets\n",
        "    ys_in, ts_in  = get_predictions(model, in_dataset)\n",
        "    ys_out, ts_out = get_predictions(model, out_dataset)\n",
        "\n",
        "    # Compute the negative log() of these predictions, separated by the\n",
        "    # ground truth labels. An epsilon is added to the prediction for\n",
        "    # numerical stability\n",
        "    epsilon = 1e-10\n",
        "    conf_in_0 = [-np.log(y + epsilon) for t, y in zip(ts_in, ys_in) if t == 0]\n",
        "    conf_in_1 = [-np.log(1 - y + epsilon) for t, y in zip(ts_in, ys_in) if t == 1]\n",
        "    conf_out_0 = [-np.log(y + epsilon) for t, y in zip(ts_out, ys_out) if t == 0]\n",
        "    conf_out_1 = [-np.log(1 - y + epsilon) for t, y in zip(ts_out, ys_out) if t == 1]\n",
        "\n",
        "    # Bins used for the density/histogram\n",
        "    bins_0 = np.linspace(0,max(max(conf_in_0),max(conf_out_0)),500)\n",
        "    bins_1 = np.linspace(0,max(max(conf_in_1),max(conf_out_1)),500)\n",
        "\n",
        "    # Plot the histogram for the predicted probabilities for true label = 0\n",
        "    plt.subplot(2, 1, 1)\n",
        "    plt.hist(conf_out_0, bins_0, color='r', label='out', alpha=0.5,cumulative=True, density=True)\n",
        "    plt.hist(conf_in_0, bins_0, color='b', label='in', alpha=0.5,cumulative=True, density=True)\n",
        "    plt.legend()\n",
        "    plt.ylabel('CDF')\n",
        "    plt.xlabel('-log(Pr(pred=1))')\n",
        "    plt.title(\"True label=0\")\n",
        "\n",
        "    # Plot the histogram for the predicted probabilities for true label = 1\n",
        "    plt.subplot(2, 1, 2)\n",
        "    plt.hist(conf_out_1, bins_1, color='r', label='out', alpha=0.5,cumulative=True, density=True)\n",
        "    plt.hist(conf_in_1, bins_1, color='b', label='in', alpha=0.5,cumulative=True, density=True)\n",
        "    plt.legend()\n",
        "    plt.title(\"True label=1\")\n",
        "    plt.ylabel('CDF')\n",
        "    plt.xlabel('-log(Pr(pred=0))')\n",
        "\n",
        "    plt.subplots_adjust(hspace=1)\n",
        "    plt.show()\n",
        "\n",
        "plot_hist(model_np, train_dataset, mem_asses_dataset)"
      ]
    },
    {
      "cell_type": "markdown",
      "id": "37666d90",
      "metadata": {
        "id": "37666d90"
      },
      "source": [
        "**Graded Task**: What difference do you notice between the histograms of the\n",
        "data points *in* the training set, vs those *not in* the training set?\n",
        "Explain how this difference is indicative of *overfitting*."
      ]
    },
    {
      "cell_type": "code",
      "execution_count": 15,
      "id": "19111539",
      "metadata": {
        "id": "19111539"
      },
      "outputs": [],
      "source": [
        "# TODO: Your answer goes here"
      ]
    },
    {
      "cell_type": "markdown",
      "source": [
        "My answer: For data points outside of the training set, the model has not seen these data points during training. The histogram of prediction probabilities for the those data will likely show a wider-distributed range of probabilities instead of a more dominated distribution like the training set does."
      ],
      "metadata": {
        "id": "QJJXr6jlGiHQ"
      },
      "id": "QJJXr6jlGiHQ"
    },
    {
      "cell_type": "markdown",
      "id": "2aeced71",
      "metadata": {
        "id": "2aeced71"
      },
      "source": [
        "## Part 3. Differential Privacy\n",
        "\n",
        "In the previous section, we observed that a model's prediction confidence for\n",
        "the samples inside its training set can be different from those outside the\n",
        "training set.\n",
        "We already know that this disparity has a negative impact on the model's\n",
        "performance during test time. This phenomenon is known as overfitting and\n",
        "we know several techniques on how to measure and reduce the overfitting.\n",
        "In this part, we want to argue that this disparity has a negative impact on\n",
        "**privacy** of the training samples.\n",
        "\n",
        "Assume the designed model in the previous section is published for the public as\n",
        "a classification model for Pneumonia.  Assume that the training set consists of\n",
        "individuals' X-ray. Even though the participants have consented to participate\n",
        "in the research, their privacy should still be protected. If an attacker can\n",
        "determine whether a specific individual's data is part of the research dataset,\n",
        "it might lead to unintended privacy breaches. Participants might not want their\n",
        "involvement in such a study to be public knowledge due to the stigma associated\n",
        "with certain medical conditions. This disparity may also help an attacker to\n",
        "reconstruct a participant's data. This example shows that the disparity between\n",
        "the model's confidence lets the adversary infer the membership of a sample from\n",
        "the predictions. This is alarming! In the next part, we discuss how to mitigate\n",
        "this risk by introducing the fundamental concept of **Differential Privacy**.\n",
        "\n",
        "Differential privacy (DP) is a data privacy framework that aims to provide strong\n",
        "privacy guarantees when analyzing or sharing sensitive data.\n",
        "**We say an ML algorithm satisfies Differential Privacy if changing *one* of the\n",
        "training samples does not change the output of the algorithm *significantly*.**\n",
        "DP is an interesting property: assume you want to give a hospital access to your X-ray. If the hospital uses a DP ML algorithm, then, you are guaranteed that your presence does not affect the output significantly. This is promising and motivates people to give access to their data for the purpose of data analysis.\n",
        "\n",
        "Next, we discuss how to formalize DP.\n",
        "\n",
        "Assume we have a dataset $S=\\{(x_1,y_1),\\dots,(x_n,y_n)\\}$\n",
        "which consists of $n$ individuals data. Consider the neighboring dataset\n",
        "$S'=\\{(x_1,y_1),\\dots,(x'_n, y'_n)\\}$\n",
        "which differs from $S$ in only one sample. Then, we say a randomized algorithm $\\mathcal{A}$ satisfies $\\epsilon$-DP if for all the output $y$ in the range of $\\mathcal{A}$ it satisfies\n",
        "\n",
        "$$\n",
        "\\mathbb{Pr}\\left(\\mathcal{A}(S) =y \\right) \\leq \\exp(\\epsilon)  \\mathbb{Pr}\\left(\\mathcal{A}(S’) =y \\right).\n",
        "$$\n",
        "\n",
        "But what is the intuition behind this equation?\n",
        "\n",
        "$\\epsilon$  is called the privacy budget. Privacy budget captures how strong our privacy guarantees are, by showing that the outcome is indistinguishable in two neighboring datasets. This can be shown by setting  $\\epsilon = 0$, the probability the analysis having an outcome is the same with or without you in the database. So if we set  $\\epsilon$ to some small value, we can get good guarantees that the output will not differ much.\n",
        "\n",
        "A common property of privacy-preserving algorithms is randomness. To see why it is the case assume we are interested in the average height of the students enrolled in\n",
        "CSC413while preserving their privacy. Consider a **deterministic** algorithm that reports the average height of the students. We argue that there exists no finite $\\epsilon$ for which this algorithm is DP.  For this example, it can be shown that by adding a Gaussian noise to the average height we can preserve privacy of the individuals.\n",
        "\n",
        "**Graded Task**: Explain why the algorithm that reports the average height of the students is not $\\epsilon$-DP for any finite $\\epsilon>0$."
      ]
    },
    {
      "cell_type": "code",
      "execution_count": 16,
      "id": "0d73bc15",
      "metadata": {
        "id": "0d73bc15"
      },
      "outputs": [],
      "source": [
        "# TODO: Include your explanation here"
      ]
    },
    {
      "cell_type": "markdown",
      "source": [
        "My answer: Differential privacy requires that small changes in the input dataset should not result in significant changes in the output distribution. However, in the case of reporting the average height, the output is sensitive to the specific heights of individual students, making it impossible to satisfy the requirements of differential privacy."
      ],
      "metadata": {
        "id": "ezLyTfkBPaI9"
      },
      "id": "ezLyTfkBPaI9"
    },
    {
      "cell_type": "markdown",
      "id": "894bbde0",
      "metadata": {
        "id": "894bbde0"
      },
      "source": [
        "We hope that the basic intuition behind differential privacy is now clear. DP is now a widely-used method to preserve privacy. It has been used in companies like Google and Apple to gather the user’s data. It is also recently used for the US Census. See the following [video]{https://www.youtube.com/watch?v=nVPE1dbA394} to get more information.\n",
        "\n",
        "## Part 4. Differentially-Private SGD\n",
        "\n",
        "In this section, we discuss how we can make stochastic gradient descent differentially private and implement it.\n",
        "We will follow the algorithmic description of DP-SGD forom [https://arxiv.org/pdf/1607.00133.pdf](https://arxiv.org/pdf/1607.00133.pdf)\n",
        "that we reproduce below. Start by reading the words/headings in the description, then we will discuss\n",
        "the algorithm line by line.\n",
        "\n",
        "Algorithm Outline for Differentially Private SGD (DP-SGD)\n",
        "\n",
        "**Input** Examples $\\left\\{x_1, \\ldots, x_N\\right\\}$, loss function $\\mathcal{L}(\\theta)=$\n",
        "$\\frac{1}{N} \\sum_i \\mathcal{L}\\left(\\theta, x_i\\right)$.\n",
        "\n",
        "**Parameters**: learning rate $\\eta_t$, noise scale, $\\sigma$, group size $L$, gradient norm bound $C$. \\\\\n",
        "\n",
        "**Initialize** $\\theta_0$ randomly\n",
        "\n",
        "**for**  $t \\in[T]$ do\n",
        "  * Take a random sample $L_t$ with sampling probability $L / N$\n",
        "  * **Compute gradient** $\\quad$ For each $i \\in L_t$, compute $\\mathbf{g}_t\\left(x_i\\right) \\leftarrow \\nabla_{\\theta_t} \\mathcal{L}\\left(\\theta_t, x_i\\right)$\n",
        "  * **Clip gradient** $\\overline{\\mathbf{g}}_t\\left(x_i\\right) \\leftarrow \\mathbf{g}_t\\left(x_i\\right) / \\max \\left(1, \\frac{\\left\\|\\mathbf{g}_t\\left(x_i\\right)\\right\\|_2}{C}\\right)$\n",
        "  * **Add noise** $\\tilde{\\mathbf{g}}_t \\leftarrow \\frac{1}{L}\\left(\\sum_i \\overline{\\mathbf{g}}_t\\left(x_i\\right)+\\mathcal{N}\\left(0, \\sigma^2 C^2 \\mathbf{I}\\right)\\right)$ \\\\\n",
        "  * **Descent** $\\theta_{t+1} \\leftarrow \\theta_t-\\eta_t \\tilde{\\mathbf{g}}_t$\n",
        "\n",
        "**Output** $\\theta_T$ and compute the overall privacy cost $(\\varepsilon, \\delta)$ using a privacy accounting method.\n",
        "\n",
        "\n",
        "**Task**: Read the algorithm above. Write down, for each symbol/notation used in the algorithm,\n",
        "what it represents. Pay particular attention to the symbol $\\mathbf{g}_t\\left(x_i\\right)$\n",
        "and its various modifications."
      ]
    },
    {
      "cell_type": "code",
      "execution_count": 17,
      "id": "2facea6b",
      "metadata": {
        "id": "2facea6b"
      },
      "outputs": [],
      "source": [
        "# TODO: Make sure you understand the notation before moving on to the\n",
        "# detailed descriptions."
      ]
    },
    {
      "cell_type": "markdown",
      "id": "66ceae68",
      "metadata": {
        "id": "66ceae68"
      },
      "source": [
        "Now, let's discuss the algorithm line by line.\n",
        "\n",
        "- **Sampling**: The sampling mechanism used in DP-SGD is different from SGD.\n",
        "  In non-private SGD, we choose a random permutation at the beginning of each epoch.\n",
        "  However, in DP-SGD at each iteration we select a sample with probability (batchsize/number of samples)\n",
        "  to be a member of the batch at the current iteration.\n",
        "  This sampling mechanism is also called *Poisson subsampling*.\n",
        "  We will not implement this sampling ourselves;\n",
        "  we will use [Opacus software package implement](https://opacus.ai/api/data_loader.html) of it.\n",
        "- **Gradient Computation**: This step is analogous to gradient computation in SGD. However, the\n",
        "  gradients of each sample in the batch is computed separately.\n",
        "- **Clipping Gradients**: You should be able to show that, mathematically, that clipping ensures that for each data point,\n",
        "  the gradient vector of that data point has a maximum norm of $C$. Why is this useful?\n",
        "  Assume there is an outlier for which the gradient is very large. Without clipping, the impact of the outlier on the algorithm will be unbounded.\n",
        "  DP-SGD performs clipping to each individual gradient point separately, which limits the contribution of each data point to the\n",
        "  parameter update.\n",
        "- **Adding Noise**: In order to achieve a specific level of privacy determined by $\\epsilon$, we need to select the minimum amount of noise to be added in each iteration ($\\sigma$ in the algorithm description). Since determining the exact amount requires a very technical calculation, there are software packages which can be used. Here, we use the Opacus software package from Meta research. It provides a function which takes as input the privacy level $\\epsilon$, batchsize and the number of training points, and outputs the variance of the noise. There is another input, i.e., $\\delta$. Do not make any changes to it. If you are interested to know what it means please read the following [lecture note](http://www.gautamkamath.com/CS860notes/lec5.pdf).\n",
        "\n",
        "**Task**: Notice that the scale of the noise added to the gradient is related to the clipping parameter.\n",
        "Does the amount of the noise added *increase* or *decrease* if we allow a larger maximum norm $C$ during clipping?\n",
        "(Reasoning about these differences is one way to make sense of mathematical equations like these.)"
      ]
    },
    {
      "cell_type": "code",
      "execution_count": 18,
      "id": "b5c48f4b",
      "metadata": {
        "id": "b5c48f4b"
      },
      "outputs": [],
      "source": [
        "# TODO: Your answer goes here"
      ]
    },
    {
      "cell_type": "markdown",
      "id": "dfae0d1f",
      "metadata": {
        "id": "dfae0d1f"
      },
      "source": [
        "In the next few tasks, we will describe the pieces of code that we will need to implement DP-SGD.\n",
        "\n",
        "**Task**: Run the following code to compare the batches produced by the usual Dataloader vs. via Poisson Sampling.\n",
        "What do you noitce?"
      ]
    },
    {
      "cell_type": "code",
      "execution_count": 19,
      "id": "6788b5c2",
      "metadata": {
        "colab": {
          "base_uri": "https://localhost:8080/",
          "height": 0
        },
        "id": "6788b5c2",
        "outputId": "80629370-d46d-4dee-ca61-a68514620e95"
      },
      "outputs": [
        {
          "output_type": "stream",
          "name": "stdout",
          "text": [
            "tensor([ 0,  1,  2,  3,  4,  5,  6,  7,  8,  9, 10, 11, 12, 13, 14, 15, 16, 17,\n",
            "        18, 19])\n",
            "PyTorch DataLoader\n",
            "[tensor([ 1,  0,  7, 17])]\n",
            "[tensor([ 3, 12, 10, 19])]\n",
            "[tensor([ 6, 14,  4,  2])]\n",
            "[tensor([ 9,  5, 15,  8])]\n",
            "[tensor([11, 13, 16, 18])]\n",
            "-------------------\n",
            "[tensor([11,  1, 10,  5])]\n",
            "[tensor([ 2, 18, 19,  8])]\n",
            "[tensor([ 9,  7,  6, 15])]\n",
            "[tensor([13,  3,  4, 16])]\n",
            "[tensor([ 0, 17, 14, 12])]\n",
            "-------------------\n",
            "Poisson Sampling\n",
            "[tensor([ 0,  7, 10, 12, 18])]\n",
            "[tensor([ 0,  3,  8,  9, 14])]\n",
            "[tensor([ 0,  6,  7,  8, 13, 16])]\n",
            "[tensor([ 1,  4,  7, 14, 15, 16])]\n",
            "-------------------\n",
            "[tensor([ 4,  8, 15, 17, 19])]\n",
            "[tensor([10])]\n",
            "[tensor([ 6, 12])]\n",
            "[tensor([ 0,  1,  2,  4,  5,  7, 10, 11])]\n",
            "-------------------\n"
          ]
        }
      ],
      "source": [
        "# Create a dataset with 20 numbers\n",
        "x = torch.arange(20)\n",
        "print(x)\n",
        "dataset = torch.utils.data.TensorDataset(x)\n",
        "\n",
        "print('PyTorch DataLoader')\n",
        "data_loader = torch.utils.data.DataLoader(dataset, batch_size=4,shuffle=True)\n",
        "for _ in range(2): # run for 2 epochs\n",
        "    for x_b in data_loader:\n",
        "        print(x_b)\n",
        "    print('-------------------')\n",
        "\n",
        "print('Poisson Sampling')\n",
        "dp_data_loader = opacus.data_loader.DPDataLoader(dataset, sample_rate = 5/20)\n",
        "for _ in range(2): # run for 2 epochs\n",
        "    for x_b in dp_data_loader:\n",
        "        print(x_b)\n",
        "    print('-------------------')"
      ]
    },
    {
      "cell_type": "markdown",
      "id": "eff2c0cf",
      "metadata": {
        "id": "eff2c0cf"
      },
      "source": [
        "In addition to using a different sampling method, we will use `CosineAnnealingLR` learning rate scheduler in pytorch.\n",
        "You need to understand how this learning rate scheduler works and how it can be updated.\n",
        "\n",
        "**Graded Task** Read the PyTorch documentation on [CosineAnnealingLR](https://pytorch.org/docs/stable/generated/torch.optim.lr_scheduler.CosineAnnealingLR.html)\n",
        "and explain what the parameter `T_max` represent."
      ]
    },
    {
      "cell_type": "code",
      "execution_count": 20,
      "id": "7094c630",
      "metadata": {
        "id": "7094c630"
      },
      "outputs": [],
      "source": [
        "# TODO: Write your explanation here."
      ]
    },
    {
      "cell_type": "markdown",
      "source": [
        "My answer: CosineAnnealingLR scheduler is used to adjust the learning rate during training based on a cosine annealing schedule. T_max is the total number of iterations or epochs after which the learning rate reaches its minimum value and starts increasing again following the cosine annealing schedule."
      ],
      "metadata": {
        "id": "TTQmA-Weqr9q"
      },
      "id": "TTQmA-Weqr9q"
    },
    {
      "cell_type": "markdown",
      "id": "fdc1c325",
      "metadata": {
        "id": "fdc1c325"
      },
      "source": [
        "The most challenging part of implementing DP-SGD is that\n",
        "we will need to implement our own optimization process to modify the default gradient\n",
        "descent behaviour. However, Pytorch has a nice feature\n",
        "that we saw in lab 1: each parameter in a model stores its own gradient as an attribute.\n",
        "In particular, consider the following snippet which can be used to print the name and gradient of the\n",
        "parameters in a model."
      ]
    },
    {
      "cell_type": "code",
      "execution_count": 21,
      "id": "bb8b3093",
      "metadata": {
        "colab": {
          "base_uri": "https://localhost:8080/",
          "height": 0
        },
        "id": "bb8b3093",
        "outputId": "677d177a-e6c2-409a-feec-cabca017668b"
      },
      "outputs": [
        {
          "output_type": "stream",
          "name": "stdout",
          "text": [
            "fc1.weight\n",
            "None\n",
            "fc1.bias\n",
            "None\n",
            "fc2.weight\n",
            "None\n",
            "fc2.bias\n",
            "None\n",
            "fc3.weight\n",
            "None\n",
            "fc3.bias\n",
            "None\n"
          ]
        }
      ],
      "source": [
        "for name, param in model_np.named_parameters():\n",
        "    print(name)\n",
        "    print(param.grad)"
      ]
    },
    {
      "cell_type": "markdown",
      "id": "12c0a4f3",
      "metadata": {
        "id": "12c0a4f3"
      },
      "source": [
        "What we didn't see in lab 1 is that we can anually change the gradient of each parameter!\n",
        "\n",
        "This is powerful, because the optimizers in PyTorch uses the `.grad` attributes of each\n",
        "parameter to perform model updates. Thus, changing the `.grad` attributes provides a way to\n",
        "override the default gradient descent behaviour.\n",
        "\n",
        "**Task**: Run the below code, which demonstrates how the `.grad` attribute can be modified."
      ]
    },
    {
      "cell_type": "code",
      "execution_count": 22,
      "id": "7ef1abcb",
      "metadata": {
        "colab": {
          "base_uri": "https://localhost:8080/",
          "height": 0
        },
        "id": "7ef1abcb",
        "outputId": "5190967f-d006-48cb-aee5-b5f73b7520c5"
      },
      "outputs": [
        {
          "output_type": "stream",
          "name": "stdout",
          "text": [
            "[Parameter containing:\n",
            "tensor([[-0.4470, -0.2698, -0.1630, -0.4104,  0.4280]], requires_grad=True), Parameter containing:\n",
            "tensor([-0.0427], requires_grad=True)]\n",
            "[Parameter containing:\n",
            "tensor([[-0.5470, -0.4698, -0.4630, -0.8104, -0.0720]], requires_grad=True), Parameter containing:\n",
            "tensor([-0.1427], requires_grad=True)]\n"
          ]
        }
      ],
      "source": [
        "model = nn.Linear(5, 1) # linear model with input dim = 5, and a single output\n",
        "print(list(model.parameters())) # print the current parameters\n",
        "\n",
        "# manually set the optimizers\n",
        "optimizer = torch.optim.SGD(model.parameters(), 0.1)\n",
        "model.weight.grad = torch.nn.parameter.Parameter(torch.Tensor([[1, 2, 3, 4, 5.]]))\n",
        "model.bias.grad = torch.nn.parameter.Parameter(torch.Tensor([1.]))\n",
        "optimizer.step()\n",
        "\n",
        "# what would you expect the output to be?\n",
        "print(list(model.parameters()))"
      ]
    },
    {
      "cell_type": "markdown",
      "id": "3ecb5f62",
      "metadata": {
        "id": "3ecb5f62"
      },
      "source": [
        "To implement DP-SGD, We will need to manually modify the `.grad` attribute in a few ways.\n",
        "One of the steps to DP-SGD is gradient clipping. Fortunately, PyTorch actually comes with\n",
        "an implementation of gradient clipping through the function `torch.nn.utils.clip_grad_norm_`.\n",
        "\n",
        "**Task**: Run this code to see how gradient clipping works. Notice that the gradient\n",
        "*direction* is unchanged, only the magnitude."
      ]
    },
    {
      "cell_type": "code",
      "execution_count": 23,
      "id": "066bee53",
      "metadata": {
        "colab": {
          "base_uri": "https://localhost:8080/",
          "height": 0
        },
        "id": "066bee53",
        "outputId": "da079330-1648-4fa6-d71a-d0285cc02d90"
      },
      "outputs": [
        {
          "output_type": "stream",
          "name": "stdout",
          "text": [
            "tensor([[0.0668, 0.1336, 0.2004, 0.2673, 0.3341]]) tensor([0.0668])\n"
          ]
        }
      ],
      "source": [
        "model = nn.Linear(5, 1) # linear model with input dim = 5, and a single output\n",
        "model.weight.grad = torch.Tensor([[1, 2, 3, 4, 5.]])\n",
        "model.bias.grad = torch.Tensor([1.])\n",
        "max_grad_norm = 0.5\n",
        "torch.nn.utils.clip_grad_norm_(model.parameters(), max_grad_norm)\n",
        "print(model.weight.grad, model.bias.grad)"
      ]
    },
    {
      "cell_type": "markdown",
      "id": "ee29e777",
      "metadata": {
        "id": "ee29e777"
      },
      "source": [
        "**Graded Task**: Explain why if we set `max_grad_norm >= 7.49` above, the\n",
        "gradient will be unchanged. Your explanation should demonstrate the calculation\n",
        "of where the number 7.49 comes from."
      ]
    },
    {
      "cell_type": "code",
      "execution_count": 24,
      "id": "f5775112",
      "metadata": {
        "id": "f5775112"
      },
      "outputs": [],
      "source": [
        "# TODO: Include your explanation and calculation here."
      ]
    },
    {
      "cell_type": "markdown",
      "source": [
        "My answer: The norm of the gradient is computed using the L2 norm (Euclidean norm), which is defined as:\n",
        "\n",
        "\\begin{align*}\n",
        "\\text{initial_norm} &= \\sqrt{1^2 + 2^2 + 3^2 + 4^2 + 5^2} \\\\\n",
        "                     &= \\sqrt{1 + 4 + 9 + 16 + 25} \\\\\n",
        "                     &= \\sqrt{55} \\approx 7.42\n",
        "\\end{align*}\n",
        "\n",
        "In this case, the initial norm is:\n",
        "\\begin{align*}\n",
        "\\text{initial_norm} = \\sqrt{1^2 + 2^2 + 3^2 + 4^2 + 5^2} = \\sqrt{1 + 4 + 9 + 16 + 25} = \\sqrt{55} \\approx 7.42\n",
        "\\end{align*}\n",
        "\n",
        "Setting\n",
        "max_grad_norm=7.49 ensures that the clipping won't take place because 7.49≥7.42. If\n",
        "max_grad_norm\n",
        "max_grad_norm were set to a value less than 7.42, the gradients would be scaled down to meet this threshold.\n",
        "\n"
      ],
      "metadata": {
        "id": "RX1R56-hsSPF"
      },
      "id": "RX1R56-hsSPF"
    },
    {
      "cell_type": "markdown",
      "id": "7f04b4ac",
      "metadata": {
        "id": "7f04b4ac"
      },
      "source": [
        "**Graded Task**:\n",
        "Now that we have the pieces we need to implement our DP-SGD gradient computation,\n",
        "Complete the code below, which performs one iteration of DP-SGD update for a batch\n",
        "of data. You may wish to look ahead to see how this function will be used in DP-SGD training."
      ]
    },
    {
      "cell_type": "code",
      "execution_count": 59,
      "id": "0bf884af",
      "metadata": {
        "id": "0bf884af"
      },
      "outputs": [],
      "source": [
        "def dp_grads(model, batch_data, criterion, max_grad_norm, noise_multiplier):\n",
        "    \"\"\"\n",
        "    Compute gradients for an iteration of DP-SGD training by setting the\n",
        "    .grad attribute of each parameter in model.named_parameters()\n",
        "    according to the DP-SGD algorithm.\n",
        "\n",
        "    Parameters:\n",
        "        - `model` - A PyTorch model\n",
        "        - `batch_data` - A list of tuples (x, t) representing a batch of data\n",
        "        - `criterion` - A PyTorch loss function\n",
        "        - `max_grad_norm` - The maximum gradient norm, used for gradient clipping\n",
        "                            (C in the algorithm description)\n",
        "        - `noise_multiplier` - The noise multiplier, used for adding noise\n",
        "                               (sigma in the algorithm description)\n",
        "\n",
        "    Returns: A dictionary `clipped_noisy_grads` that maps the names of each\n",
        "             parameter in `model.named_parameters()` to its modified gradient\n",
        "             computed according to DP-SGD\n",
        "    \"\"\"\n",
        "    # Create the mapping of each parameter in our model to\n",
        "    # what will evetually be the noisy gradients\n",
        "    clipped_noisy_grads = {name: torch.zeros_like(param) for name, param in model.named_parameters()}\n",
        "\n",
        "    # Iterate over the data points in each batch. This is unfortunately\n",
        "    # necessary so that we can perform gradient clipping separtely for each\n",
        "    # data point\n",
        "    for xi, ti in batch_data:\n",
        "        zi = model(xi) # TODO: compute the model prediction (logit)\n",
        "        # print(\"zi.shape\", zi)\n",
        "        zi =  zi.ravel()\n",
        "        # print(\"zi.shape\", zi)\n",
        "        zi = zi.float()  # Convert to float if not already\n",
        "        ti = ti.float()  # Convert to float if not already\n",
        "        lossi = criterion(zi, ti) # TODO: compute the loss for this data point\n",
        "\n",
        "        # TODO: perform the backward pass\n",
        "        model.zero_grad()\n",
        "        lossi.backward()\n",
        "        # TODO: perform gradient clipping\n",
        "        torch.nn.utils.clip_grad_norm_(model.parameters(), max_grad_norm)\n",
        "\n",
        "        # accumulate the clipped gradients in `clipped_noisy_grads`\n",
        "        for name, param in model.named_parameters():\n",
        "            clipped_noisy_grads[name] += param.grad\n",
        "\n",
        "        # TODO: clear the gradients in the model's computation graph\n",
        "        model.zero_grad()\n",
        "    # Now, we iterate over the name parameters to add noise\n",
        "    for name, param in model.named_parameters():\n",
        "        # TODO: Read the equation in the \"Add Noise\" section of the\n",
        "        #      algorithm description, and implement it. You may find\n",
        "        #      the function `torch.normal` helpful.\n",
        "        # clipped_noisy_grads[name] += 0 # TODO\n",
        "        noisy_grad = clipped_noisy_grads[name]\n",
        "        if noisy_grad is not None:\n",
        "            noisy_grad += torch.normal(0, noise_multiplier * max_grad_norm, size=noisy_grad.shape)\n",
        "        else:\n",
        "            # If clipped_noisy_grads[name] is None, initialize noisy_grad as a tensor of zeros\n",
        "            noisy_grad = torch.zeros_like(param)\n",
        "\n",
        "\n",
        "\n",
        "    return clipped_noisy_grads"
      ]
    },
    {
      "cell_type": "markdown",
      "id": "f589fa0c",
      "metadata": {
        "id": "f589fa0c"
      },
      "source": [
        "Please include the output of the tests below in your submission. (What should the output of the test be?)"
      ]
    },
    {
      "cell_type": "code",
      "execution_count": 60,
      "id": "5a692bb6",
      "metadata": {
        "colab": {
          "base_uri": "https://localhost:8080/",
          "height": 0
        },
        "id": "5a692bb6",
        "outputId": "7a211c89-a258-4452-e500-6fb60e28817a"
      },
      "outputs": [
        {
          "output_type": "stream",
          "name": "stdout",
          "text": [
            "{'weight': tensor([[ 0.6119, -0.1192,  0.6119,  0.0000,  0.0000]]), 'bias': tensor([0.6119])}\n",
            "-----------\n",
            "{'weight': tensor([[ 0.3571, -0.3300,  0.6325,  1.6415, -1.0176]]), 'bias': tensor([-0.5459])}\n",
            "-----------\n",
            "{'weight': tensor([[ 1.7910, -1.2827, -1.7187, -0.5355, -0.5129]]), 'bias': tensor([-1.5412])}\n",
            "{'weight': tensor([[-2.1363,  1.8736,  3.3167,  0.7465,  2.7883]]), 'bias': tensor([2.9261])}\n",
            "{'weight': tensor([[ 1.7657,  0.0804, -0.2229,  1.5346,  4.1149]]), 'bias': tensor([1.6885])}\n",
            "{'weight': tensor([[ 0.4388,  1.0809, -0.1447,  0.6757, -0.8371]]), 'bias': tensor([-2.0906])}\n",
            "{'weight': tensor([[-1.7349, -0.7461,  1.0525, -1.5037,  1.7149]]), 'bias': tensor([1.7693])}\n",
            "{'weight': tensor([[-0.0726, -2.0181, -0.1426, -0.2618,  1.4303]]), 'bias': tensor([-0.8281])}\n",
            "{'weight': tensor([[ 2.9444, -0.9746,  2.4289,  0.4167, -0.6034]]), 'bias': tensor([-1.0655])}\n",
            "{'weight': tensor([[-0.1147,  5.3054,  0.4303,  0.2340,  2.8739]]), 'bias': tensor([-1.7055])}\n",
            "{'weight': tensor([[ 1.6432,  1.2080,  0.3253,  1.2327, -1.9463]]), 'bias': tensor([-1.9651])}\n",
            "{'weight': tensor([[ 1.4162,  1.0958,  0.8487, -2.1057,  2.3398]]), 'bias': tensor([1.0197])}\n"
          ]
        }
      ],
      "source": [
        "model = nn.Linear(5, 1)\n",
        "model.weight = nn.Parameter(torch.Tensor([[1, 1, 0, 0, 0.]]))\n",
        "model.bias = nn.Parameter(torch.Tensor([0.]))\n",
        "batch_data = [(torch.Tensor([[1, 1, 1, 0, 0.]]), torch.Tensor([1.])),\n",
        "              (torch.Tensor([[1, 0, 1, 0, 0.]]), torch.Tensor([0.]))]\n",
        "criterion = nn.BCEWithLogitsLoss()\n",
        "\n",
        "# no noise and a large max_grad_norm\n",
        "print(dp_grads(model, batch_data, criterion, max_grad_norm=1000, noise_multiplier=0))\n",
        "print('-----------')\n",
        "\n",
        "# no noise and a small max_grad_norm\n",
        "print(dp_grads(model, batch_data, criterion, max_grad_norm=0.5, noise_multiplier=3))\n",
        "print('-----------')\n",
        "\n",
        "# small max_grad_norm and some noise (STD should be ~0.5x3/2)\n",
        "for i in range(10):\n",
        "    print(dp_grads(model, batch_data, criterion, max_grad_norm=0.5, noise_multiplier=3))"
      ]
    },
    {
      "cell_type": "markdown",
      "id": "2b677222",
      "metadata": {
        "id": "2b677222"
      },
      "source": [
        "**Task** Now that we have DP-SGD in place, run the below code to train a differentially private model."
      ]
    },
    {
      "cell_type": "code",
      "execution_count": 62,
      "id": "60d81047",
      "metadata": {
        "id": "60d81047"
      },
      "outputs": [],
      "source": [
        "def train_model_private(model, traindata, valdata, learning_rate=2e-1,\n",
        "                        batch_size=500, num_epochs=25, plot_every=20,\n",
        "                        epsilon=0.5, max_grad_norm=6):\n",
        "    # Compute the noise multiplier\n",
        "    N = len(traindata)\n",
        "    noise_multiplier = opacus.accountants.utils.get_noise_multiplier(\n",
        "        target_epsilon=epsilon,\n",
        "        target_delta=1/N,\n",
        "        sample_rate=batch_size/N,\n",
        "        epochs=num_epochs)\n",
        "\n",
        "    # Use the differentially private data loader\n",
        "    train_loader = opacus.data_loader.DPDataLoader(\n",
        "        dataset=traindata,\n",
        "        sample_rate=batch_size/N)\n",
        "\n",
        "    criterion = nn.BCEWithLogitsLoss()\n",
        "    optimizer = optim.SGD(model.parameters(), lr=learning_rate)\n",
        "    scheduler = torch.optim.lr_scheduler.CosineAnnealingLR(optimizer, T_max=N//batch_size * num_epochs)\n",
        "\n",
        "    # these lists will be used to track the training progress\n",
        "    # and to plot the training curve\n",
        "    iters, train_loss, train_acc, val_acc = [], [], [], []\n",
        "    iter_count = 0 # count the number of iterations that has passed\n",
        "\n",
        "    for e in range(num_epochs):\n",
        "        for i, (images, labels) in enumerate(train_loader):\n",
        "            images = images.reshape(-1, 28*28)\n",
        "            # get the clipped noisy gradients from the function you wrote\n",
        "            clipped_noisy_grads = dp_grads(model,\n",
        "                                           batch_data=list(zip(images,labels)),\n",
        "                                           criterion=criterion,\n",
        "                                           max_grad_norm=max_grad_norm,\n",
        "                                           noise_multiplier=noise_multiplier)\n",
        "            # manually update the gradients\n",
        "            for name, param in model.named_parameters():\n",
        "                param.grad = clipped_noisy_grads[name]\n",
        "            optimizer.step() # update the parameters\n",
        "            scheduler.step() # update the learning rate scheduler\n",
        "            optimizer.zero_grad() # clean up accumualted gradients\n",
        "\n",
        "            iter_count += 1\n",
        "            if iter_count % plot_every == 0:\n",
        "                # forward pass to compute the loss\n",
        "                z = model(images.reshape(-1, 784))\n",
        "                loss = criterion(z, labels.to(torch.float))\n",
        "                optimizer.zero_grad()\n",
        "\n",
        "                iters.append(iter_count)\n",
        "                ta = accuracy(model, traindata)\n",
        "                va = accuracy(model, valdata)\n",
        "                train_loss.append(float(loss))\n",
        "                train_acc.append(ta)\n",
        "                val_acc.append(va)\n",
        "                print(iter_count, \"Loss:\", float(loss), \"Train Acc:\", ta, \"Val Acc:\", va)\n",
        "\n",
        "    plt.figure()\n",
        "    plt.plot(iters[:len(train_loss)], train_loss)\n",
        "    plt.title(\"Loss over iterations\")\n",
        "    plt.xlabel(\"Iterations\")\n",
        "    plt.ylabel(\"Loss\")\n",
        "\n",
        "    plt.figure()\n",
        "    plt.plot(iters[:len(train_acc)], train_acc)\n",
        "    plt.plot(iters[:len(val_acc)], val_acc)\n",
        "    plt.title(\"Accuracy over iterations\")\n",
        "    plt.xlabel(\"Iterations\")\n",
        "    plt.ylabel(\"Loss\")\n",
        "    plt.legend([\"Train\", \"Validation\"])"
      ]
    },
    {
      "cell_type": "code",
      "execution_count": 63,
      "id": "fd2fcfc3",
      "metadata": {
        "colab": {
          "base_uri": "https://localhost:8080/",
          "height": 1014
        },
        "id": "fd2fcfc3",
        "outputId": "786812d9-87ca-4b0c-cd7d-b80b1ec0bed3"
      },
      "outputs": [
        {
          "output_type": "stream",
          "name": "stdout",
          "text": [
            "20 Loss: 207.60153198242188 Train Acc: 0.6211180124223602 Val Acc: 0.621414913957935\n",
            "40 Loss: 167.2671356201172 Train Acc: 0.6540850453893932 Val Acc: 0.6663479923518164\n",
            "60 Loss: 265.5234680175781 Train Acc: 0.5881509794553272 Val Acc: 0.5946462715105163\n",
            "80 Loss: 314.17022705078125 Train Acc: 0.5972288580984233 Val Acc: 0.5994263862332696\n",
            "100 Loss: 269.72869873046875 Train Acc: 0.6220735785953178 Val Acc: 0.6281070745697896\n"
          ]
        },
        {
          "output_type": "display_data",
          "data": {
            "text/plain": [
              "<Figure size 640x480 with 1 Axes>"
            ],
            "image/png": "[encoded data removed]"
          },
          "metadata": {}
        },
        {
          "output_type": "display_data",
          "data": {
            "text/plain": [
              "<Figure size 640x480 with 1 Axes>"
            ],
            "image/png": "[encoded data removed]"
          },
          "metadata": {}
        }
      ],
      "source": [
        "model_priv = MLPModel()\n",
        "train_model_private(model_priv, train_dataset, valid_dataset)"
      ]
    },
    {
      "cell_type": "markdown",
      "id": "7824b853",
      "metadata": {
        "id": "7824b853"
      },
      "source": [
        "**Graded Task**: Plot the histogram of the model prediction for this differentially private model.\n",
        "How does this histogram differ from that of `model_np` from above?"
      ]
    },
    {
      "cell_type": "code",
      "execution_count": 64,
      "id": "3314ad02",
      "metadata": {
        "colab": {
          "base_uri": "https://localhost:8080/",
          "height": 472
        },
        "id": "3314ad02",
        "outputId": "a71331d2-ac03-42db-93f2-4e3552999562"
      },
      "outputs": [
        {
          "output_type": "display_data",
          "data": {
            "text/plain": [
              "<Figure size 640x480 with 2 Axes>"
            ],
            "image/png": "[encoded data removed]"
          },
          "metadata": {}
        }
      ],
      "source": [
        "plot_hist(model_priv, train_dataset, mem_asses_dataset)"
      ]
    },
    {
      "cell_type": "code",
      "execution_count": null,
      "id": "7b942102",
      "metadata": {
        "id": "7b942102"
      },
      "outputs": [],
      "source": [
        "# TODO: Explain how the histogram differs from that of model_np"
      ]
    },
    {
      "cell_type": "markdown",
      "source": [
        "\n",
        "My answer: In the histogram of the original model, the cumulative distribution function (CDF) of the correct prediction (the prediction with the highest log probability) is the highest and it gradually decreases as the log probability of the prediction decreases. However, for the histogram of the differentially private model, CDF of the correct prediction is the highest, and all other predictions with low probabilities have low and evenly distributed CDF. This is expected since in a differentially private model, the added noise during training can lead to increased uncertainty and more conservative predictions.\n",
        "\n",
        "- Original Model:\n",
        "The CDF of the correct prediction is the highest, indicating high confidence in correct predictions.\n",
        "As the log probability of predictions decreases, the CDF gradually decreases, suggesting a smooth decline in confidence as the model becomes less certain.\n",
        "- Differentially Private Model:\n",
        "The CDF of the correct prediction is still the highest, indicating that the model tends to be most confident in correct predictions.\n",
        "All other predictions with low probabilities have low and evenly distributed CDF. This behavior suggests that the added noise in the differentially private model has introduced uncertainty and made the model less confident in low-probability predictions."
      ],
      "metadata": {
        "id": "xRiva7SU1S5n"
      },
      "id": "xRiva7SU1S5n"
    },
    {
      "cell_type": "markdown",
      "id": "06d0adfb",
      "metadata": {
        "id": "06d0adfb"
      },
      "source": [
        "**Graded Task**: Suppose that an attacker recognizes that your friend Taylor is in this data set, means that their X-ray was taken at some point during a hospitalization,\n",
        "and that Taylor provided researchers consent to be included in the study dataset. If this information is sold to a third-party (e.g., a credit reporting agency, an employer,\n",
        "or a landlord), how might this affect Taylor?"
      ]
    },
    {
      "cell_type": "code",
      "execution_count": 65,
      "id": "8222c14e",
      "metadata": {
        "id": "8222c14e"
      },
      "outputs": [],
      "source": [
        "# TODO: Your answer goes here"
      ]
    },
    {
      "cell_type": "markdown",
      "source": [
        "My answer:\n",
        "If an attacker were to recognize that Taylor's data is present in a dataset, including details about their X-ray and hospitalization, and sells this information to a third-party, several privacy and ethical concerns may arise, potentially impacting Taylor in various ways:\n",
        "- Taylor may face stigmatization or discrimination based on their health information. Third parties, such as credit reporting agencies, employers, or landlords, might use this information to make decisions that could adversely affect Taylor's opportunities or treatment.\n",
        "- Employers or landlords may use Taylor's health information to make decisions about hiring, promotions, or housing. This could lead to discriminatory practices, as certain health conditions may be misconstrued or used to justify biased decisions.\n",
        "\n"
      ],
      "metadata": {
        "id": "7PUonle42r3E"
      },
      "id": "7PUonle42r3E"
    },
    {
      "cell_type": "markdown",
      "id": "cd971d38",
      "metadata": {
        "id": "cd971d38"
      },
      "source": [
        "If you are interested in DP, we suggest\n",
        "performing hyperparameter tuning over batch size and max grad norm.\n",
        "In, DP-SGD usually larger batch size would help.\n",
        "So, for instance for two values of $\\varepsilon \\in \\{0.5,1,5\\}$,\n",
        "try to find the best model for $\\text{batchsize}\\in \\{100,500\\}$ and $\\text{gradnorm}\\in\\{4,8,16\\}$.\n",
        "\n",
        "## Appendix\n",
        "\n",
        "- [Differential Privacy and the Census]  https://www.youtube.com/watch?v=nVPE1dbA394\n",
        "- [Main DP-SGD Paper](https://arxiv.org/abs/1607.00133)\n",
        "- [CS 860 - Algorithms for Private Data Analysis at UWaterloo](http://www.gautamkamath.com/CS860notes/lec13.pdf)"
      ]
    }
  ],
  "metadata": {
    "colab": {
      "provenance": []
    },
    "language_info": {
      "name": "python"
    },
    "kernelspec": {
      "name": "python3",
      "display_name": "Python 3"
    }
  },
  "nbformat": 4,
  "nbformat_minor": 5
}